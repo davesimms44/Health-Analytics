{
 "cells": [
  {
   "cell_type": "code",
   "execution_count": 324,
   "id": "3eb38de2",
   "metadata": {},
   "outputs": [],
   "source": [
    "import os \n",
    "import pandas as pd\n",
    "from datetime import datetime as dt\n",
    "import numpy as np\n",
    "import matplotlib.pyplot as plt\n",
    "import seaborn as sns\n",
    "\n",
    "import statsmodels.api as sm\n",
    "from sklearn.linear_model import LinearRegression\n",
    "\n"
   ]
  },
  {
   "cell_type": "code",
   "execution_count": 325,
   "id": "152251a7",
   "metadata": {},
   "outputs": [],
   "source": [
    "os.listdir()\n",
    "\n",
    "data = pd.read_sas('xtrfxcovbs.sas7bdat')"
   ]
  },
  {
   "cell_type": "code",
   "execution_count": 326,
   "id": "70738c52",
   "metadata": {
    "scrolled": true
   },
   "outputs": [
    {
     "data": {
      "text/plain": [
       "Index(['replicate', 't_xtrdate', 'r_xtrdate', 'nonewosteofx_enddate',\n",
       "       'nonewhipfx_enddate', 'qid', 't_fl_fea', 't_ctpo_ec', 't_ttar',\n",
       "       't_ctar', 't_tbar', 't_ttbmd', 't_ctbmd', 't_ctth', 't_tbbmd', 't_tbn',\n",
       "       't_tbth', 't_tbsp', 't_moart', 'r_fl_fea', 'r_ctpo_ec', 'r_ttar',\n",
       "       'r_ctar', 'r_tbar', 'r_ttbmd', 'r_ctbmd', 'r_ctth', 'r_tbbmd', 'r_tbn',\n",
       "       'r_tbth', 'r_tbsp', 'r_moart', 't_bvtv', 'r_bvtv', 'fnewopfxd',\n",
       "       'fnewhipfxd', 'newosteofx', 'firstnewosteofx_site',\n",
       "       'firstnewosteofx_year', 'firstnewosteofx_month', 'firstnewosteofx_day',\n",
       "       'newosteofx_trauma', 'newhipfx', 'firstnewhipfx_year',\n",
       "       'firstnewhipfx_month', 'firstnewhipfx_day', 'newhipfx_trauma',\n",
       "       'nonewosteofx_enddispo', 'nonewhipfx_enddispo', 'age', 'height',\n",
       "       'weight', 'centre', 'parenthipfx', 'prevfx_any', 'cig_cur',\n",
       "       'nbalc_week', 'rheu_ever', 'cortico_oral_reg', 'secop', 'nbfall_pastyr',\n",
       "       'everlost10lbs', 'osteomed', 'i', 'prev_backmt', 'prev_hipmt', 'hicnum',\n",
       "       'sex', 'type1diabetes_ever', 'untreat_hyperthyr_ever', 'age_at_menop',\n",
       "       'meno_status', 'liver_ever', 'status', 'r_ttop', 't_ttop', 'r_tthip',\n",
       "       't_tthip', 'numberhits', 'id'],\n",
       "      dtype='object')"
      ]
     },
     "execution_count": 326,
     "metadata": {},
     "output_type": "execute_result"
    }
   ],
   "source": [
    "data.columns = data.columns.str.lower()\n",
    "data.columns"
   ]
  },
  {
   "cell_type": "code",
   "execution_count": 327,
   "id": "ff810e84",
   "metadata": {},
   "outputs": [],
   "source": [
    "data1 = data[['rheu_ever', 'r_ctth']].dropna()"
   ]
  },
  {
   "cell_type": "code",
   "execution_count": 328,
   "id": "a81ccbc7",
   "metadata": {},
   "outputs": [
    {
     "data": {
      "text/plain": [
       "rheu_ever  r_ctth\n",
       "False      False     1186\n",
       "dtype: int64"
      ]
     },
     "execution_count": 328,
     "metadata": {},
     "output_type": "execute_result"
    }
   ],
   "source": [
    "np.isnan(data1).value_counts()"
   ]
  },
  {
   "cell_type": "code",
   "execution_count": 329,
   "id": "b91ed9e5",
   "metadata": {},
   "outputs": [],
   "source": [
    "#stats model\n",
    "x = data1[['rheu_ever']]\n",
    "y = data1['r_ctth']"
   ]
  },
  {
   "cell_type": "code",
   "execution_count": null,
   "id": "97505374",
   "metadata": {},
   "outputs": [],
   "source": []
  },
  {
   "cell_type": "code",
   "execution_count": 330,
   "id": "aceb9ea8",
   "metadata": {},
   "outputs": [
    {
     "data": {
      "text/html": [
       "<div>\n",
       "<style scoped>\n",
       "    .dataframe tbody tr th:only-of-type {\n",
       "        vertical-align: middle;\n",
       "    }\n",
       "\n",
       "    .dataframe tbody tr th {\n",
       "        vertical-align: top;\n",
       "    }\n",
       "\n",
       "    .dataframe thead th {\n",
       "        text-align: right;\n",
       "    }\n",
       "</style>\n",
       "<table border=\"1\" class=\"dataframe\">\n",
       "  <thead>\n",
       "    <tr style=\"text-align: right;\">\n",
       "      <th></th>\n",
       "      <th>rheu_ever</th>\n",
       "    </tr>\n",
       "  </thead>\n",
       "  <tbody>\n",
       "    <tr>\n",
       "      <th>0</th>\n",
       "      <td>0.0</td>\n",
       "    </tr>\n",
       "    <tr>\n",
       "      <th>1</th>\n",
       "      <td>0.0</td>\n",
       "    </tr>\n",
       "    <tr>\n",
       "      <th>2</th>\n",
       "      <td>0.0</td>\n",
       "    </tr>\n",
       "    <tr>\n",
       "      <th>3</th>\n",
       "      <td>0.0</td>\n",
       "    </tr>\n",
       "    <tr>\n",
       "      <th>4</th>\n",
       "      <td>0.0</td>\n",
       "    </tr>\n",
       "    <tr>\n",
       "      <th>...</th>\n",
       "      <td>...</td>\n",
       "    </tr>\n",
       "    <tr>\n",
       "      <th>1226</th>\n",
       "      <td>0.0</td>\n",
       "    </tr>\n",
       "    <tr>\n",
       "      <th>1227</th>\n",
       "      <td>0.0</td>\n",
       "    </tr>\n",
       "    <tr>\n",
       "      <th>1228</th>\n",
       "      <td>0.0</td>\n",
       "    </tr>\n",
       "    <tr>\n",
       "      <th>1229</th>\n",
       "      <td>0.0</td>\n",
       "    </tr>\n",
       "    <tr>\n",
       "      <th>1230</th>\n",
       "      <td>0.0</td>\n",
       "    </tr>\n",
       "  </tbody>\n",
       "</table>\n",
       "<p>1186 rows × 1 columns</p>\n",
       "</div>"
      ],
      "text/plain": [
       "      rheu_ever\n",
       "0           0.0\n",
       "1           0.0\n",
       "2           0.0\n",
       "3           0.0\n",
       "4           0.0\n",
       "...         ...\n",
       "1226        0.0\n",
       "1227        0.0\n",
       "1228        0.0\n",
       "1229        0.0\n",
       "1230        0.0\n",
       "\n",
       "[1186 rows x 1 columns]"
      ]
     },
     "execution_count": 330,
     "metadata": {},
     "output_type": "execute_result"
    }
   ],
   "source": [
    "x"
   ]
  },
  {
   "cell_type": "code",
   "execution_count": 331,
   "id": "639c595a",
   "metadata": {},
   "outputs": [],
   "source": [
    "x1 = sm.add_constant(x)"
   ]
  },
  {
   "cell_type": "code",
   "execution_count": 332,
   "id": "d577a970",
   "metadata": {
    "scrolled": true
   },
   "outputs": [
    {
     "data": {
      "text/html": [
       "<div>\n",
       "<style scoped>\n",
       "    .dataframe tbody tr th:only-of-type {\n",
       "        vertical-align: middle;\n",
       "    }\n",
       "\n",
       "    .dataframe tbody tr th {\n",
       "        vertical-align: top;\n",
       "    }\n",
       "\n",
       "    .dataframe thead th {\n",
       "        text-align: right;\n",
       "    }\n",
       "</style>\n",
       "<table border=\"1\" class=\"dataframe\">\n",
       "  <thead>\n",
       "    <tr style=\"text-align: right;\">\n",
       "      <th></th>\n",
       "      <th>const</th>\n",
       "      <th>rheu_ever</th>\n",
       "    </tr>\n",
       "  </thead>\n",
       "  <tbody>\n",
       "    <tr>\n",
       "      <th>0</th>\n",
       "      <td>1.0</td>\n",
       "      <td>0.0</td>\n",
       "    </tr>\n",
       "    <tr>\n",
       "      <th>1</th>\n",
       "      <td>1.0</td>\n",
       "      <td>0.0</td>\n",
       "    </tr>\n",
       "    <tr>\n",
       "      <th>2</th>\n",
       "      <td>1.0</td>\n",
       "      <td>0.0</td>\n",
       "    </tr>\n",
       "    <tr>\n",
       "      <th>3</th>\n",
       "      <td>1.0</td>\n",
       "      <td>0.0</td>\n",
       "    </tr>\n",
       "    <tr>\n",
       "      <th>4</th>\n",
       "      <td>1.0</td>\n",
       "      <td>0.0</td>\n",
       "    </tr>\n",
       "    <tr>\n",
       "      <th>...</th>\n",
       "      <td>...</td>\n",
       "      <td>...</td>\n",
       "    </tr>\n",
       "    <tr>\n",
       "      <th>1226</th>\n",
       "      <td>1.0</td>\n",
       "      <td>0.0</td>\n",
       "    </tr>\n",
       "    <tr>\n",
       "      <th>1227</th>\n",
       "      <td>1.0</td>\n",
       "      <td>0.0</td>\n",
       "    </tr>\n",
       "    <tr>\n",
       "      <th>1228</th>\n",
       "      <td>1.0</td>\n",
       "      <td>0.0</td>\n",
       "    </tr>\n",
       "    <tr>\n",
       "      <th>1229</th>\n",
       "      <td>1.0</td>\n",
       "      <td>0.0</td>\n",
       "    </tr>\n",
       "    <tr>\n",
       "      <th>1230</th>\n",
       "      <td>1.0</td>\n",
       "      <td>0.0</td>\n",
       "    </tr>\n",
       "  </tbody>\n",
       "</table>\n",
       "<p>1186 rows × 2 columns</p>\n",
       "</div>"
      ],
      "text/plain": [
       "      const  rheu_ever\n",
       "0       1.0        0.0\n",
       "1       1.0        0.0\n",
       "2       1.0        0.0\n",
       "3       1.0        0.0\n",
       "4       1.0        0.0\n",
       "...     ...        ...\n",
       "1226    1.0        0.0\n",
       "1227    1.0        0.0\n",
       "1228    1.0        0.0\n",
       "1229    1.0        0.0\n",
       "1230    1.0        0.0\n",
       "\n",
       "[1186 rows x 2 columns]"
      ]
     },
     "execution_count": 332,
     "metadata": {},
     "output_type": "execute_result"
    }
   ],
   "source": [
    "x1"
   ]
  },
  {
   "cell_type": "code",
   "execution_count": 333,
   "id": "73b9bfcb",
   "metadata": {
    "scrolled": true
   },
   "outputs": [
    {
     "name": "stdout",
     "output_type": "stream",
     "text": [
      "                            OLS Regression Results                            \n",
      "==============================================================================\n",
      "Dep. Variable:                 r_ctth   R-squared:                       0.002\n",
      "Model:                            OLS   Adj. R-squared:                  0.001\n",
      "Method:                 Least Squares   F-statistic:                     2.649\n",
      "Date:                Sun, 06 Mar 2022   Prob (F-statistic):              0.104\n",
      "Time:                        17:28:28   Log-Likelihood:                 187.65\n",
      "No. Observations:                1186   AIC:                            -371.3\n",
      "Df Residuals:                    1184   BIC:                            -361.1\n",
      "Df Model:                           1                                         \n",
      "Covariance Type:            nonrobust                                         \n",
      "==============================================================================\n",
      "                 coef    std err          t      P>|t|      [0.025      0.975]\n",
      "------------------------------------------------------------------------------\n",
      "const          0.6706      0.006    105.614      0.000       0.658       0.683\n",
      "rheu_ever     -0.0317      0.019     -1.628      0.104      -0.070       0.007\n",
      "==============================================================================\n",
      "Omnibus:                        9.464   Durbin-Watson:                   0.716\n",
      "Prob(Omnibus):                  0.009   Jarque-Bera (JB):                8.006\n",
      "Skew:                           0.130   Prob(JB):                       0.0183\n",
      "Kurtosis:                       2.693   Cond. No.                         3.29\n",
      "==============================================================================\n",
      "\n",
      "Notes:\n",
      "[1] Standard Errors assume that the covariance matrix of the errors is correctly specified.\n"
     ]
    }
   ],
   "source": [
    "model = sm.OLS(y, x1)\n",
    "results = model.fit()\n",
    "\n",
    "print(results.summary())"
   ]
  },
  {
   "cell_type": "code",
   "execution_count": 334,
   "id": "5c6a39d1",
   "metadata": {},
   "outputs": [
    {
     "data": {
      "text/plain": [
       "0.6672828887952844"
      ]
     },
     "execution_count": 334,
     "metadata": {},
     "output_type": "execute_result"
    }
   ],
   "source": [
    "data.r_ctth.mean()"
   ]
  },
  {
   "cell_type": "code",
   "execution_count": 335,
   "id": "7a9d4079",
   "metadata": {},
   "outputs": [],
   "source": [
    "#sklearn\n",
    "data2 = data[['rheu_ever', 'r_ctth', 'age', 'height', 'weight', 'osteomed', 'cig_cur']].dropna()\n",
    "\n",
    "\n",
    "x2 = data2[['rheu_ever', 'age', 'height', 'weight', 'osteomed', 'cig_cur']]\n",
    "y2 = data2['r_ctth']"
   ]
  },
  {
   "cell_type": "code",
   "execution_count": 336,
   "id": "277caf51",
   "metadata": {},
   "outputs": [],
   "source": [
    "model2 = LinearRegression().fit(x2, y2)"
   ]
  },
  {
   "cell_type": "code",
   "execution_count": 337,
   "id": "3f7787bc",
   "metadata": {},
   "outputs": [],
   "source": [
    "#results\n",
    "r_sq = model2.score(x2,y2)\n",
    "intercept, coefficients = model2.intercept_, model2.coef_"
   ]
  },
  {
   "cell_type": "code",
   "execution_count": 338,
   "id": "239a9298",
   "metadata": {},
   "outputs": [
    {
     "data": {
      "text/plain": [
       "(0.13648316271617456,\n",
       " 2.0468228995569957,\n",
       " array([-0.04041393, -0.00738476, -0.00663526,  0.00315918,  0.00280674,\n",
       "        -0.04119411]))"
      ]
     },
     "execution_count": 338,
     "metadata": {},
     "output_type": "execute_result"
    }
   ],
   "source": [
    "r_sq, intercept, coefficients"
   ]
  },
  {
   "cell_type": "code",
   "execution_count": null,
   "id": "95f2041d",
   "metadata": {},
   "outputs": [],
   "source": []
  },
  {
   "cell_type": "code",
   "execution_count": 339,
   "id": "beaf95e1",
   "metadata": {
    "scrolled": true
   },
   "outputs": [
    {
     "name": "stdout",
     "output_type": "stream",
     "text": [
      "R2:  0.136\n",
      "Intercept:  2.05\n",
      "b(rheu_ever):  -0.04\n"
     ]
    }
   ],
   "source": [
    "print(\"R2: \", round(r_sq,3))\n",
    "print(\"Intercept: \", round(intercept,2))\n",
    "print(\"b(rheu_ever): \", round(coefficients[0],3))"
   ]
  },
  {
   "cell_type": "code",
   "execution_count": 340,
   "id": "b76ccd4f",
   "metadata": {},
   "outputs": [],
   "source": [
    "#stats model\n",
    "data3 = data[['rheu_ever', 'r_ctth', 'age', 'height', 'weight', 'osteomed', 'cig_cur']].dropna()\n",
    "\n",
    "\n",
    "x2 = data3[['rheu_ever', 'age', 'height', 'weight', 'osteomed', 'cig_cur']]\n",
    "y2 = data3['r_ctth']"
   ]
  },
  {
   "cell_type": "code",
   "execution_count": 341,
   "id": "185e7e63",
   "metadata": {},
   "outputs": [],
   "source": [
    "x3 = sm.add_constant(x2)"
   ]
  },
  {
   "cell_type": "code",
   "execution_count": 342,
   "id": "fe670e18",
   "metadata": {
    "scrolled": true
   },
   "outputs": [
    {
     "data": {
      "text/html": [
       "<div>\n",
       "<style scoped>\n",
       "    .dataframe tbody tr th:only-of-type {\n",
       "        vertical-align: middle;\n",
       "    }\n",
       "\n",
       "    .dataframe tbody tr th {\n",
       "        vertical-align: top;\n",
       "    }\n",
       "\n",
       "    .dataframe thead th {\n",
       "        text-align: right;\n",
       "    }\n",
       "</style>\n",
       "<table border=\"1\" class=\"dataframe\">\n",
       "  <thead>\n",
       "    <tr style=\"text-align: right;\">\n",
       "      <th></th>\n",
       "      <th>const</th>\n",
       "      <th>rheu_ever</th>\n",
       "      <th>age</th>\n",
       "      <th>height</th>\n",
       "      <th>weight</th>\n",
       "      <th>osteomed</th>\n",
       "      <th>cig_cur</th>\n",
       "    </tr>\n",
       "  </thead>\n",
       "  <tbody>\n",
       "    <tr>\n",
       "      <th>0</th>\n",
       "      <td>1.0</td>\n",
       "      <td>0.0</td>\n",
       "      <td>75.0</td>\n",
       "      <td>166.2</td>\n",
       "      <td>69.8</td>\n",
       "      <td>1.0</td>\n",
       "      <td>0.0</td>\n",
       "    </tr>\n",
       "    <tr>\n",
       "      <th>1</th>\n",
       "      <td>1.0</td>\n",
       "      <td>0.0</td>\n",
       "      <td>75.0</td>\n",
       "      <td>166.2</td>\n",
       "      <td>69.8</td>\n",
       "      <td>1.0</td>\n",
       "      <td>0.0</td>\n",
       "    </tr>\n",
       "    <tr>\n",
       "      <th>2</th>\n",
       "      <td>1.0</td>\n",
       "      <td>0.0</td>\n",
       "      <td>69.0</td>\n",
       "      <td>164.5</td>\n",
       "      <td>91.0</td>\n",
       "      <td>0.0</td>\n",
       "      <td>0.0</td>\n",
       "    </tr>\n",
       "    <tr>\n",
       "      <th>3</th>\n",
       "      <td>1.0</td>\n",
       "      <td>0.0</td>\n",
       "      <td>69.0</td>\n",
       "      <td>161.0</td>\n",
       "      <td>69.1</td>\n",
       "      <td>0.0</td>\n",
       "      <td>0.0</td>\n",
       "    </tr>\n",
       "    <tr>\n",
       "      <th>4</th>\n",
       "      <td>1.0</td>\n",
       "      <td>0.0</td>\n",
       "      <td>78.0</td>\n",
       "      <td>153.4</td>\n",
       "      <td>64.6</td>\n",
       "      <td>1.0</td>\n",
       "      <td>0.0</td>\n",
       "    </tr>\n",
       "    <tr>\n",
       "      <th>...</th>\n",
       "      <td>...</td>\n",
       "      <td>...</td>\n",
       "      <td>...</td>\n",
       "      <td>...</td>\n",
       "      <td>...</td>\n",
       "      <td>...</td>\n",
       "      <td>...</td>\n",
       "    </tr>\n",
       "    <tr>\n",
       "      <th>1226</th>\n",
       "      <td>1.0</td>\n",
       "      <td>0.0</td>\n",
       "      <td>70.0</td>\n",
       "      <td>162.5</td>\n",
       "      <td>64.0</td>\n",
       "      <td>0.0</td>\n",
       "      <td>0.0</td>\n",
       "    </tr>\n",
       "    <tr>\n",
       "      <th>1227</th>\n",
       "      <td>1.0</td>\n",
       "      <td>0.0</td>\n",
       "      <td>70.0</td>\n",
       "      <td>162.5</td>\n",
       "      <td>64.0</td>\n",
       "      <td>0.0</td>\n",
       "      <td>0.0</td>\n",
       "    </tr>\n",
       "    <tr>\n",
       "      <th>1228</th>\n",
       "      <td>1.0</td>\n",
       "      <td>0.0</td>\n",
       "      <td>70.0</td>\n",
       "      <td>162.5</td>\n",
       "      <td>64.0</td>\n",
       "      <td>0.0</td>\n",
       "      <td>0.0</td>\n",
       "    </tr>\n",
       "    <tr>\n",
       "      <th>1229</th>\n",
       "      <td>1.0</td>\n",
       "      <td>0.0</td>\n",
       "      <td>70.0</td>\n",
       "      <td>162.5</td>\n",
       "      <td>64.0</td>\n",
       "      <td>0.0</td>\n",
       "      <td>0.0</td>\n",
       "    </tr>\n",
       "    <tr>\n",
       "      <th>1230</th>\n",
       "      <td>1.0</td>\n",
       "      <td>0.0</td>\n",
       "      <td>85.0</td>\n",
       "      <td>171.5</td>\n",
       "      <td>55.5</td>\n",
       "      <td>0.0</td>\n",
       "      <td>0.0</td>\n",
       "    </tr>\n",
       "  </tbody>\n",
       "</table>\n",
       "<p>1185 rows × 7 columns</p>\n",
       "</div>"
      ],
      "text/plain": [
       "      const  rheu_ever   age  height  weight  osteomed  cig_cur\n",
       "0       1.0        0.0  75.0   166.2    69.8       1.0      0.0\n",
       "1       1.0        0.0  75.0   166.2    69.8       1.0      0.0\n",
       "2       1.0        0.0  69.0   164.5    91.0       0.0      0.0\n",
       "3       1.0        0.0  69.0   161.0    69.1       0.0      0.0\n",
       "4       1.0        0.0  78.0   153.4    64.6       1.0      0.0\n",
       "...     ...        ...   ...     ...     ...       ...      ...\n",
       "1226    1.0        0.0  70.0   162.5    64.0       0.0      0.0\n",
       "1227    1.0        0.0  70.0   162.5    64.0       0.0      0.0\n",
       "1228    1.0        0.0  70.0   162.5    64.0       0.0      0.0\n",
       "1229    1.0        0.0  70.0   162.5    64.0       0.0      0.0\n",
       "1230    1.0        0.0  85.0   171.5    55.5       0.0      0.0\n",
       "\n",
       "[1185 rows x 7 columns]"
      ]
     },
     "execution_count": 342,
     "metadata": {},
     "output_type": "execute_result"
    }
   ],
   "source": [
    "x3"
   ]
  },
  {
   "cell_type": "code",
   "execution_count": 343,
   "id": "516816c6",
   "metadata": {
    "scrolled": true
   },
   "outputs": [
    {
     "name": "stdout",
     "output_type": "stream",
     "text": [
      "                            OLS Regression Results                            \n",
      "==============================================================================\n",
      "Dep. Variable:                 r_ctth   R-squared:                       0.136\n",
      "Model:                            OLS   Adj. R-squared:                  0.132\n",
      "Method:                 Least Squares   F-statistic:                     31.03\n",
      "Date:                Sun, 06 Mar 2022   Prob (F-statistic):           9.65e-35\n",
      "Time:                        17:28:28   Log-Likelihood:                 272.63\n",
      "No. Observations:                1185   AIC:                            -531.3\n",
      "Df Residuals:                    1178   BIC:                            -495.7\n",
      "Df Model:                           6                                         \n",
      "Covariance Type:            nonrobust                                         \n",
      "==============================================================================\n",
      "                 coef    std err          t      P>|t|      [0.025      0.975]\n",
      "------------------------------------------------------------------------------\n",
      "const          2.0468      0.168     12.164      0.000       1.717       2.377\n",
      "rheu_ever     -0.0404      0.018     -2.200      0.028      -0.076      -0.004\n",
      "age           -0.0074      0.001    -10.013      0.000      -0.009      -0.006\n",
      "height        -0.0066      0.001     -6.935      0.000      -0.009      -0.005\n",
      "weight         0.0032      0.000      7.549      0.000       0.002       0.004\n",
      "osteomed       0.0028      0.012      0.228      0.819      -0.021       0.027\n",
      "cig_cur       -0.0412      0.031     -1.319      0.187      -0.102       0.020\n",
      "==============================================================================\n",
      "Omnibus:                        5.281   Durbin-Watson:                   0.717\n",
      "Prob(Omnibus):                  0.071   Jarque-Bera (JB):                5.152\n",
      "Skew:                           0.131   Prob(JB):                       0.0761\n",
      "Kurtosis:                       2.812   Cond. No.                     5.69e+03\n",
      "==============================================================================\n",
      "\n",
      "Notes:\n",
      "[1] Standard Errors assume that the covariance matrix of the errors is correctly specified.\n",
      "[2] The condition number is large, 5.69e+03. This might indicate that there are\n",
      "strong multicollinearity or other numerical problems.\n"
     ]
    }
   ],
   "source": [
    "model3 = sm.OLS(y2, x3)\n",
    "results3 = model3.fit()\n",
    "\n",
    "print(results3.summary())"
   ]
  },
  {
   "cell_type": "markdown",
   "id": "380e8981",
   "metadata": {},
   "source": [
    "# PART 2 LOGISTIC REGRESION"
   ]
  },
  {
   "cell_type": "code",
   "execution_count": 344,
   "id": "2d5ac721",
   "metadata": {},
   "outputs": [],
   "source": [
    "data4 = data[['t_fl_fea', 'newosteofx', 'age', 'height', 'weight', 'osteomed', 'prevfx_any', 'nbalc_week']].dropna()\n",
    "data4['t_fl_fea_sd'] = -1 * data4['t_fl_fea'] / data4.t_fl_fea.std()"
   ]
  },
  {
   "cell_type": "code",
   "execution_count": 345,
   "id": "7c71e4ca",
   "metadata": {
    "scrolled": true
   },
   "outputs": [
    {
     "data": {
      "text/html": [
       "<div>\n",
       "<style scoped>\n",
       "    .dataframe tbody tr th:only-of-type {\n",
       "        vertical-align: middle;\n",
       "    }\n",
       "\n",
       "    .dataframe tbody tr th {\n",
       "        vertical-align: top;\n",
       "    }\n",
       "\n",
       "    .dataframe thead th {\n",
       "        text-align: right;\n",
       "    }\n",
       "</style>\n",
       "<table border=\"1\" class=\"dataframe\">\n",
       "  <thead>\n",
       "    <tr style=\"text-align: right;\">\n",
       "      <th></th>\n",
       "      <th>t_fl_fea</th>\n",
       "      <th>newosteofx</th>\n",
       "      <th>age</th>\n",
       "      <th>height</th>\n",
       "      <th>weight</th>\n",
       "      <th>osteomed</th>\n",
       "      <th>prevfx_any</th>\n",
       "      <th>nbalc_week</th>\n",
       "      <th>t_fl_fea_sd</th>\n",
       "    </tr>\n",
       "  </thead>\n",
       "  <tbody>\n",
       "    <tr>\n",
       "      <th>0</th>\n",
       "      <td>4901.9</td>\n",
       "      <td>0.0</td>\n",
       "      <td>75.0</td>\n",
       "      <td>166.2</td>\n",
       "      <td>69.8</td>\n",
       "      <td>1.0</td>\n",
       "      <td>1.0</td>\n",
       "      <td>0.0</td>\n",
       "      <td>-5.030961</td>\n",
       "    </tr>\n",
       "    <tr>\n",
       "      <th>1</th>\n",
       "      <td>4901.9</td>\n",
       "      <td>0.0</td>\n",
       "      <td>75.0</td>\n",
       "      <td>166.2</td>\n",
       "      <td>69.8</td>\n",
       "      <td>1.0</td>\n",
       "      <td>1.0</td>\n",
       "      <td>0.0</td>\n",
       "      <td>-5.030961</td>\n",
       "    </tr>\n",
       "    <tr>\n",
       "      <th>2</th>\n",
       "      <td>6204.0</td>\n",
       "      <td>0.0</td>\n",
       "      <td>69.0</td>\n",
       "      <td>164.5</td>\n",
       "      <td>91.0</td>\n",
       "      <td>0.0</td>\n",
       "      <td>1.0</td>\n",
       "      <td>4.0</td>\n",
       "      <td>-6.367344</td>\n",
       "    </tr>\n",
       "    <tr>\n",
       "      <th>3</th>\n",
       "      <td>5529.5</td>\n",
       "      <td>0.0</td>\n",
       "      <td>69.0</td>\n",
       "      <td>161.0</td>\n",
       "      <td>69.1</td>\n",
       "      <td>0.0</td>\n",
       "      <td>1.0</td>\n",
       "      <td>1.0</td>\n",
       "      <td>-5.675085</td>\n",
       "    </tr>\n",
       "    <tr>\n",
       "      <th>4</th>\n",
       "      <td>5638.3</td>\n",
       "      <td>0.0</td>\n",
       "      <td>78.0</td>\n",
       "      <td>153.4</td>\n",
       "      <td>64.6</td>\n",
       "      <td>1.0</td>\n",
       "      <td>1.0</td>\n",
       "      <td>14.0</td>\n",
       "      <td>-5.786749</td>\n",
       "    </tr>\n",
       "    <tr>\n",
       "      <th>...</th>\n",
       "      <td>...</td>\n",
       "      <td>...</td>\n",
       "      <td>...</td>\n",
       "      <td>...</td>\n",
       "      <td>...</td>\n",
       "      <td>...</td>\n",
       "      <td>...</td>\n",
       "      <td>...</td>\n",
       "      <td>...</td>\n",
       "    </tr>\n",
       "    <tr>\n",
       "      <th>1226</th>\n",
       "      <td>5465.0</td>\n",
       "      <td>0.0</td>\n",
       "      <td>70.0</td>\n",
       "      <td>162.5</td>\n",
       "      <td>64.0</td>\n",
       "      <td>0.0</td>\n",
       "      <td>0.0</td>\n",
       "      <td>2.0</td>\n",
       "      <td>-5.608887</td>\n",
       "    </tr>\n",
       "    <tr>\n",
       "      <th>1227</th>\n",
       "      <td>5465.0</td>\n",
       "      <td>0.0</td>\n",
       "      <td>70.0</td>\n",
       "      <td>162.5</td>\n",
       "      <td>64.0</td>\n",
       "      <td>0.0</td>\n",
       "      <td>0.0</td>\n",
       "      <td>2.0</td>\n",
       "      <td>-5.608887</td>\n",
       "    </tr>\n",
       "    <tr>\n",
       "      <th>1228</th>\n",
       "      <td>5465.0</td>\n",
       "      <td>0.0</td>\n",
       "      <td>70.0</td>\n",
       "      <td>162.5</td>\n",
       "      <td>64.0</td>\n",
       "      <td>0.0</td>\n",
       "      <td>0.0</td>\n",
       "      <td>2.0</td>\n",
       "      <td>-5.608887</td>\n",
       "    </tr>\n",
       "    <tr>\n",
       "      <th>1229</th>\n",
       "      <td>5465.0</td>\n",
       "      <td>0.0</td>\n",
       "      <td>70.0</td>\n",
       "      <td>162.5</td>\n",
       "      <td>64.0</td>\n",
       "      <td>0.0</td>\n",
       "      <td>0.0</td>\n",
       "      <td>2.0</td>\n",
       "      <td>-5.608887</td>\n",
       "    </tr>\n",
       "    <tr>\n",
       "      <th>1230</th>\n",
       "      <td>3375.0</td>\n",
       "      <td>0.0</td>\n",
       "      <td>85.0</td>\n",
       "      <td>171.5</td>\n",
       "      <td>55.5</td>\n",
       "      <td>0.0</td>\n",
       "      <td>0.0</td>\n",
       "      <td>7.0</td>\n",
       "      <td>-3.463860</td>\n",
       "    </tr>\n",
       "  </tbody>\n",
       "</table>\n",
       "<p>1194 rows × 9 columns</p>\n",
       "</div>"
      ],
      "text/plain": [
       "      t_fl_fea  newosteofx   age  height  weight  osteomed  prevfx_any  \\\n",
       "0       4901.9         0.0  75.0   166.2    69.8       1.0         1.0   \n",
       "1       4901.9         0.0  75.0   166.2    69.8       1.0         1.0   \n",
       "2       6204.0         0.0  69.0   164.5    91.0       0.0         1.0   \n",
       "3       5529.5         0.0  69.0   161.0    69.1       0.0         1.0   \n",
       "4       5638.3         0.0  78.0   153.4    64.6       1.0         1.0   \n",
       "...        ...         ...   ...     ...     ...       ...         ...   \n",
       "1226    5465.0         0.0  70.0   162.5    64.0       0.0         0.0   \n",
       "1227    5465.0         0.0  70.0   162.5    64.0       0.0         0.0   \n",
       "1228    5465.0         0.0  70.0   162.5    64.0       0.0         0.0   \n",
       "1229    5465.0         0.0  70.0   162.5    64.0       0.0         0.0   \n",
       "1230    3375.0         0.0  85.0   171.5    55.5       0.0         0.0   \n",
       "\n",
       "      nbalc_week  t_fl_fea_sd  \n",
       "0            0.0    -5.030961  \n",
       "1            0.0    -5.030961  \n",
       "2            4.0    -6.367344  \n",
       "3            1.0    -5.675085  \n",
       "4           14.0    -5.786749  \n",
       "...          ...          ...  \n",
       "1226         2.0    -5.608887  \n",
       "1227         2.0    -5.608887  \n",
       "1228         2.0    -5.608887  \n",
       "1229         2.0    -5.608887  \n",
       "1230         7.0    -3.463860  \n",
       "\n",
       "[1194 rows x 9 columns]"
      ]
     },
     "execution_count": 345,
     "metadata": {},
     "output_type": "execute_result"
    }
   ],
   "source": [
    "data4"
   ]
  },
  {
   "cell_type": "code",
   "execution_count": 346,
   "id": "8906340d",
   "metadata": {},
   "outputs": [],
   "source": [
    "x5 = data4[['t_fl_fea_sd']]\n",
    "y5 = data4['newosteofx']"
   ]
  },
  {
   "cell_type": "code",
   "execution_count": 347,
   "id": "8ff9e0b6",
   "metadata": {},
   "outputs": [],
   "source": [
    "x6 = sm.add_constant(x5)"
   ]
  },
  {
   "cell_type": "code",
   "execution_count": 348,
   "id": "9a0e6b4b",
   "metadata": {
    "scrolled": false
   },
   "outputs": [
    {
     "name": "stdout",
     "output_type": "stream",
     "text": [
      "Optimization terminated successfully.\n",
      "         Current function value: 0.322456\n",
      "         Iterations 7\n",
      "                           Logit Regression Results                           \n",
      "==============================================================================\n",
      "Dep. Variable:             newosteofx   No. Observations:                 1194\n",
      "Model:                          Logit   Df Residuals:                     1192\n",
      "Method:                           MLE   Df Model:                            1\n",
      "Date:                Sun, 06 Mar 2022   Pseudo R-squ.:                 0.01143\n",
      "Time:                        17:28:29   Log-Likelihood:                -385.01\n",
      "converged:                       True   LL-Null:                       -389.47\n",
      "Covariance Type:            nonrobust   LLR p-value:                  0.002843\n",
      "===============================================================================\n",
      "                  coef    std err          z      P>|z|      [0.025      0.975]\n",
      "-------------------------------------------------------------------------------\n",
      "const          -0.5729      0.552     -1.038      0.299      -1.655       0.509\n",
      "t_fl_fea_sd     0.2992      0.103      2.917      0.004       0.098       0.500\n",
      "===============================================================================\n"
     ]
    }
   ],
   "source": [
    "model5 = sm.Logit(y5,x6).fit()\n",
    "print(model5.summary())"
   ]
  },
  {
   "cell_type": "code",
   "execution_count": 349,
   "id": "a7781ce6",
   "metadata": {},
   "outputs": [],
   "source": [
    "#compute odds ratio\n",
    "orparm = model5.params\n",
    "conf = model5.conf_int()"
   ]
  },
  {
   "cell_type": "code",
   "execution_count": 350,
   "id": "9679150a",
   "metadata": {
    "scrolled": true
   },
   "outputs": [
    {
     "name": "stdout",
     "output_type": "stream",
     "text": [
      "               OR  Lower CI  Upper CI\n",
      "const        0.56      0.19      1.66\n",
      "t_fl_fea_sd  1.35      1.10      1.65\n"
     ]
    }
   ],
   "source": [
    "# Better way to display odds ratios: \n",
    "\n",
    "# create a user defined function\n",
    "# just replace mod with your fitted model name \n",
    "# ie.  ORtab(fittedmodel)\n",
    "\n",
    "def ORtab(mod):\n",
    "    odds_ratios = pd.DataFrame(\n",
    "        {\n",
    "            \"OR\": mod.params,\n",
    "            \"Lower CI\": mod.conf_int()[0],\n",
    "            \"Upper CI\": mod.conf_int()[1],\n",
    "        }\n",
    "    )\n",
    "    odds_ratios = round(np.exp(odds_ratios),2)\n",
    "    return odds_ratios\n",
    "  \n",
    "print(ORtab(model5))"
   ]
  },
  {
   "cell_type": "code",
   "execution_count": 351,
   "id": "88d31790",
   "metadata": {
    "scrolled": true
   },
   "outputs": [
    {
     "name": "stdout",
     "output_type": "stream",
     "text": [
      "                   5%       95%  Odds Ratio\n",
      "const        0.191120  1.663643    0.563875\n",
      "t_fl_fea_sd  1.103149  1.648955    1.348719\n"
     ]
    }
   ],
   "source": [
    "#modify dateframe to add odds ratio and labels\n",
    "conf['Odds Ratio'] = orparm\n",
    "conf.columns = ['5%', '95%', 'Odds Ratio']\n",
    "ortable = np.exp(conf)\n",
    "print(ortable)\n"
   ]
  },
  {
   "cell_type": "code",
   "execution_count": 352,
   "id": "8419092a",
   "metadata": {},
   "outputs": [],
   "source": [
    "x10 = data4[['t_fl_fea_sd','age', 'height', 'weight', 'osteomed', 'prevfx_any', 'nbalc_week' ]]\n",
    "y10 = data4['newosteofx']"
   ]
  },
  {
   "cell_type": "code",
   "execution_count": 353,
   "id": "c99e232f",
   "metadata": {
    "scrolled": true
   },
   "outputs": [
    {
     "data": {
      "text/html": [
       "<div>\n",
       "<style scoped>\n",
       "    .dataframe tbody tr th:only-of-type {\n",
       "        vertical-align: middle;\n",
       "    }\n",
       "\n",
       "    .dataframe tbody tr th {\n",
       "        vertical-align: top;\n",
       "    }\n",
       "\n",
       "    .dataframe thead th {\n",
       "        text-align: right;\n",
       "    }\n",
       "</style>\n",
       "<table border=\"1\" class=\"dataframe\">\n",
       "  <thead>\n",
       "    <tr style=\"text-align: right;\">\n",
       "      <th></th>\n",
       "      <th>const</th>\n",
       "      <th>t_fl_fea_sd</th>\n",
       "      <th>age</th>\n",
       "      <th>height</th>\n",
       "      <th>weight</th>\n",
       "      <th>osteomed</th>\n",
       "      <th>prevfx_any</th>\n",
       "      <th>nbalc_week</th>\n",
       "    </tr>\n",
       "  </thead>\n",
       "  <tbody>\n",
       "    <tr>\n",
       "      <th>0</th>\n",
       "      <td>1.0</td>\n",
       "      <td>-5.030961</td>\n",
       "      <td>75.0</td>\n",
       "      <td>166.2</td>\n",
       "      <td>69.8</td>\n",
       "      <td>1.0</td>\n",
       "      <td>1.0</td>\n",
       "      <td>0.0</td>\n",
       "    </tr>\n",
       "    <tr>\n",
       "      <th>1</th>\n",
       "      <td>1.0</td>\n",
       "      <td>-5.030961</td>\n",
       "      <td>75.0</td>\n",
       "      <td>166.2</td>\n",
       "      <td>69.8</td>\n",
       "      <td>1.0</td>\n",
       "      <td>1.0</td>\n",
       "      <td>0.0</td>\n",
       "    </tr>\n",
       "    <tr>\n",
       "      <th>2</th>\n",
       "      <td>1.0</td>\n",
       "      <td>-6.367344</td>\n",
       "      <td>69.0</td>\n",
       "      <td>164.5</td>\n",
       "      <td>91.0</td>\n",
       "      <td>0.0</td>\n",
       "      <td>1.0</td>\n",
       "      <td>4.0</td>\n",
       "    </tr>\n",
       "    <tr>\n",
       "      <th>3</th>\n",
       "      <td>1.0</td>\n",
       "      <td>-5.675085</td>\n",
       "      <td>69.0</td>\n",
       "      <td>161.0</td>\n",
       "      <td>69.1</td>\n",
       "      <td>0.0</td>\n",
       "      <td>1.0</td>\n",
       "      <td>1.0</td>\n",
       "    </tr>\n",
       "    <tr>\n",
       "      <th>4</th>\n",
       "      <td>1.0</td>\n",
       "      <td>-5.786749</td>\n",
       "      <td>78.0</td>\n",
       "      <td>153.4</td>\n",
       "      <td>64.6</td>\n",
       "      <td>1.0</td>\n",
       "      <td>1.0</td>\n",
       "      <td>14.0</td>\n",
       "    </tr>\n",
       "    <tr>\n",
       "      <th>...</th>\n",
       "      <td>...</td>\n",
       "      <td>...</td>\n",
       "      <td>...</td>\n",
       "      <td>...</td>\n",
       "      <td>...</td>\n",
       "      <td>...</td>\n",
       "      <td>...</td>\n",
       "      <td>...</td>\n",
       "    </tr>\n",
       "    <tr>\n",
       "      <th>1226</th>\n",
       "      <td>1.0</td>\n",
       "      <td>-5.608887</td>\n",
       "      <td>70.0</td>\n",
       "      <td>162.5</td>\n",
       "      <td>64.0</td>\n",
       "      <td>0.0</td>\n",
       "      <td>0.0</td>\n",
       "      <td>2.0</td>\n",
       "    </tr>\n",
       "    <tr>\n",
       "      <th>1227</th>\n",
       "      <td>1.0</td>\n",
       "      <td>-5.608887</td>\n",
       "      <td>70.0</td>\n",
       "      <td>162.5</td>\n",
       "      <td>64.0</td>\n",
       "      <td>0.0</td>\n",
       "      <td>0.0</td>\n",
       "      <td>2.0</td>\n",
       "    </tr>\n",
       "    <tr>\n",
       "      <th>1228</th>\n",
       "      <td>1.0</td>\n",
       "      <td>-5.608887</td>\n",
       "      <td>70.0</td>\n",
       "      <td>162.5</td>\n",
       "      <td>64.0</td>\n",
       "      <td>0.0</td>\n",
       "      <td>0.0</td>\n",
       "      <td>2.0</td>\n",
       "    </tr>\n",
       "    <tr>\n",
       "      <th>1229</th>\n",
       "      <td>1.0</td>\n",
       "      <td>-5.608887</td>\n",
       "      <td>70.0</td>\n",
       "      <td>162.5</td>\n",
       "      <td>64.0</td>\n",
       "      <td>0.0</td>\n",
       "      <td>0.0</td>\n",
       "      <td>2.0</td>\n",
       "    </tr>\n",
       "    <tr>\n",
       "      <th>1230</th>\n",
       "      <td>1.0</td>\n",
       "      <td>-3.463860</td>\n",
       "      <td>85.0</td>\n",
       "      <td>171.5</td>\n",
       "      <td>55.5</td>\n",
       "      <td>0.0</td>\n",
       "      <td>0.0</td>\n",
       "      <td>7.0</td>\n",
       "    </tr>\n",
       "  </tbody>\n",
       "</table>\n",
       "<p>1194 rows × 8 columns</p>\n",
       "</div>"
      ],
      "text/plain": [
       "      const  t_fl_fea_sd   age  height  weight  osteomed  prevfx_any  \\\n",
       "0       1.0    -5.030961  75.0   166.2    69.8       1.0         1.0   \n",
       "1       1.0    -5.030961  75.0   166.2    69.8       1.0         1.0   \n",
       "2       1.0    -6.367344  69.0   164.5    91.0       0.0         1.0   \n",
       "3       1.0    -5.675085  69.0   161.0    69.1       0.0         1.0   \n",
       "4       1.0    -5.786749  78.0   153.4    64.6       1.0         1.0   \n",
       "...     ...          ...   ...     ...     ...       ...         ...   \n",
       "1226    1.0    -5.608887  70.0   162.5    64.0       0.0         0.0   \n",
       "1227    1.0    -5.608887  70.0   162.5    64.0       0.0         0.0   \n",
       "1228    1.0    -5.608887  70.0   162.5    64.0       0.0         0.0   \n",
       "1229    1.0    -5.608887  70.0   162.5    64.0       0.0         0.0   \n",
       "1230    1.0    -3.463860  85.0   171.5    55.5       0.0         0.0   \n",
       "\n",
       "      nbalc_week  \n",
       "0            0.0  \n",
       "1            0.0  \n",
       "2            4.0  \n",
       "3            1.0  \n",
       "4           14.0  \n",
       "...          ...  \n",
       "1226         2.0  \n",
       "1227         2.0  \n",
       "1228         2.0  \n",
       "1229         2.0  \n",
       "1230         7.0  \n",
       "\n",
       "[1194 rows x 8 columns]"
      ]
     },
     "execution_count": 353,
     "metadata": {},
     "output_type": "execute_result"
    }
   ],
   "source": [
    "x11 = sm.add_constant(x10)\n",
    "x11"
   ]
  },
  {
   "cell_type": "code",
   "execution_count": 354,
   "id": "c5e17083",
   "metadata": {
    "scrolled": true
   },
   "outputs": [
    {
     "name": "stdout",
     "output_type": "stream",
     "text": [
      "Optimization terminated successfully.\n",
      "         Current function value: 0.314536\n",
      "         Iterations 7\n",
      "                           Logit Regression Results                           \n",
      "==============================================================================\n",
      "Dep. Variable:             newosteofx   No. Observations:                 1194\n",
      "Model:                          Logit   Df Residuals:                     1186\n",
      "Method:                           MLE   Df Model:                            7\n",
      "Date:                Sun, 06 Mar 2022   Pseudo R-squ.:                 0.03571\n",
      "Time:                        17:28:29   Log-Likelihood:                -375.56\n",
      "converged:                       True   LL-Null:                       -389.47\n",
      "Covariance Type:            nonrobust   LLR p-value:                 0.0002372\n",
      "===============================================================================\n",
      "                  coef    std err          z      P>|z|      [0.025      0.975]\n",
      "-------------------------------------------------------------------------------\n",
      "const          -9.1396      2.968     -3.080      0.002     -14.956      -3.323\n",
      "t_fl_fea_sd     0.3453      0.123      2.817      0.005       0.105       0.586\n",
      "age             0.0141      0.014      1.039      0.299      -0.012       0.041\n",
      "height          0.0468      0.017      2.763      0.006       0.014       0.080\n",
      "weight          0.0046      0.008      0.571      0.568      -0.011       0.020\n",
      "osteomed        0.1237      0.210      0.590      0.556      -0.288       0.535\n",
      "prevfx_any      0.2253      0.206      1.096      0.273      -0.178       0.628\n",
      "nbalc_week     -0.0700      0.029     -2.416      0.016      -0.127      -0.013\n",
      "===============================================================================\n"
     ]
    }
   ],
   "source": [
    "fxmod10 = sm.Logit(y10, x11)\n",
    "model10fit = fxmod10.fit()\n",
    "\n",
    "print(model10fit.summary())"
   ]
  },
  {
   "cell_type": "code",
   "execution_count": 355,
   "id": "dcf780bf",
   "metadata": {
    "scrolled": true
   },
   "outputs": [
    {
     "data": {
      "text/plain": [
       "const         -9.139639\n",
       "t_fl_fea_sd    0.345326\n",
       "age            0.014051\n",
       "height         0.046843\n",
       "weight         0.004562\n",
       "osteomed       0.123739\n",
       "prevfx_any     0.225300\n",
       "nbalc_week    -0.070027\n",
       "dtype: float64"
      ]
     },
     "execution_count": 355,
     "metadata": {},
     "output_type": "execute_result"
    }
   ],
   "source": [
    "model10fit.params"
   ]
  },
  {
   "cell_type": "code",
   "execution_count": 356,
   "id": "3a0bb4b4",
   "metadata": {
    "scrolled": true
   },
   "outputs": [
    {
     "data": {
      "text/plain": [
       "const          0.00\n",
       "t_fl_fea_sd    1.41\n",
       "age            1.01\n",
       "height         1.05\n",
       "weight         1.00\n",
       "osteomed       1.13\n",
       "prevfx_any     1.25\n",
       "nbalc_week     0.93\n",
       "dtype: float64"
      ]
     },
     "execution_count": 356,
     "metadata": {},
     "output_type": "execute_result"
    }
   ],
   "source": [
    "round(np.exp(model10fit.params),2)"
   ]
  },
  {
   "cell_type": "code",
   "execution_count": 357,
   "id": "522ae1d4",
   "metadata": {
    "scrolled": false
   },
   "outputs": [
    {
     "data": {
      "text/html": [
       "<div>\n",
       "<style scoped>\n",
       "    .dataframe tbody tr th:only-of-type {\n",
       "        vertical-align: middle;\n",
       "    }\n",
       "\n",
       "    .dataframe tbody tr th {\n",
       "        vertical-align: top;\n",
       "    }\n",
       "\n",
       "    .dataframe thead th {\n",
       "        text-align: right;\n",
       "    }\n",
       "</style>\n",
       "<table border=\"1\" class=\"dataframe\">\n",
       "  <thead>\n",
       "    <tr style=\"text-align: right;\">\n",
       "      <th></th>\n",
       "      <th>5% CI</th>\n",
       "      <th>95% CI</th>\n",
       "      <th>Odds Ratio</th>\n",
       "    </tr>\n",
       "  </thead>\n",
       "  <tbody>\n",
       "    <tr>\n",
       "      <th>const</th>\n",
       "      <td>0.00</td>\n",
       "      <td>0.04</td>\n",
       "      <td>0.00</td>\n",
       "    </tr>\n",
       "    <tr>\n",
       "      <th>t_fl_fea_sd</th>\n",
       "      <td>1.11</td>\n",
       "      <td>1.80</td>\n",
       "      <td>1.41</td>\n",
       "    </tr>\n",
       "    <tr>\n",
       "      <th>age</th>\n",
       "      <td>0.99</td>\n",
       "      <td>1.04</td>\n",
       "      <td>1.01</td>\n",
       "    </tr>\n",
       "    <tr>\n",
       "      <th>height</th>\n",
       "      <td>1.01</td>\n",
       "      <td>1.08</td>\n",
       "      <td>1.05</td>\n",
       "    </tr>\n",
       "    <tr>\n",
       "      <th>weight</th>\n",
       "      <td>0.99</td>\n",
       "      <td>1.02</td>\n",
       "      <td>1.00</td>\n",
       "    </tr>\n",
       "    <tr>\n",
       "      <th>osteomed</th>\n",
       "      <td>0.75</td>\n",
       "      <td>1.71</td>\n",
       "      <td>1.13</td>\n",
       "    </tr>\n",
       "    <tr>\n",
       "      <th>prevfx_any</th>\n",
       "      <td>0.84</td>\n",
       "      <td>1.87</td>\n",
       "      <td>1.25</td>\n",
       "    </tr>\n",
       "    <tr>\n",
       "      <th>nbalc_week</th>\n",
       "      <td>0.88</td>\n",
       "      <td>0.99</td>\n",
       "      <td>0.93</td>\n",
       "    </tr>\n",
       "  </tbody>\n",
       "</table>\n",
       "</div>"
      ],
      "text/plain": [
       "             5% CI  95% CI  Odds Ratio\n",
       "const         0.00    0.04        0.00\n",
       "t_fl_fea_sd   1.11    1.80        1.41\n",
       "age           0.99    1.04        1.01\n",
       "height        1.01    1.08        1.05\n",
       "weight        0.99    1.02        1.00\n",
       "osteomed      0.75    1.71        1.13\n",
       "prevfx_any    0.84    1.87        1.25\n",
       "nbalc_week    0.88    0.99        0.93"
      ]
     },
     "execution_count": 357,
     "metadata": {},
     "output_type": "execute_result"
    }
   ],
   "source": [
    "orparm10 = model10fit.params\n",
    "conf10 = model10fit.conf_int()\n",
    "\n",
    "# add column for odds ratio (OR) determined above\n",
    "conf10['Odds Ratio'] = orparm10\n",
    "conf10.columns = ['5% CI', '95% CI', 'Odds Ratio'] # change column names \n",
    "\n",
    "ortable10 = round(np.exp(conf10),2)\n",
    "ortable10"
   ]
  },
  {
   "cell_type": "code",
   "execution_count": 358,
   "id": "bb13c259",
   "metadata": {},
   "outputs": [
    {
     "data": {
      "text/plain": [
       "767.1129093815554"
      ]
     },
     "execution_count": 358,
     "metadata": {},
     "output_type": "execute_result"
    }
   ],
   "source": [
    "model10fit.aic"
   ]
  },
  {
   "cell_type": "code",
   "execution_count": 359,
   "id": "21a0f0b7",
   "metadata": {},
   "outputs": [],
   "source": [
    "x20 = data4[['t_fl_fea_sd','age', 'height', 'weight', 'osteomed', 'prevfx_any']]\n",
    "y20 = data4['newosteofx']"
   ]
  },
  {
   "cell_type": "code",
   "execution_count": 360,
   "id": "988b2353",
   "metadata": {
    "scrolled": true
   },
   "outputs": [
    {
     "data": {
      "text/html": [
       "<div>\n",
       "<style scoped>\n",
       "    .dataframe tbody tr th:only-of-type {\n",
       "        vertical-align: middle;\n",
       "    }\n",
       "\n",
       "    .dataframe tbody tr th {\n",
       "        vertical-align: top;\n",
       "    }\n",
       "\n",
       "    .dataframe thead th {\n",
       "        text-align: right;\n",
       "    }\n",
       "</style>\n",
       "<table border=\"1\" class=\"dataframe\">\n",
       "  <thead>\n",
       "    <tr style=\"text-align: right;\">\n",
       "      <th></th>\n",
       "      <th>const</th>\n",
       "      <th>t_fl_fea_sd</th>\n",
       "      <th>age</th>\n",
       "      <th>height</th>\n",
       "      <th>weight</th>\n",
       "      <th>osteomed</th>\n",
       "      <th>prevfx_any</th>\n",
       "    </tr>\n",
       "  </thead>\n",
       "  <tbody>\n",
       "    <tr>\n",
       "      <th>0</th>\n",
       "      <td>1.0</td>\n",
       "      <td>-5.030961</td>\n",
       "      <td>75.0</td>\n",
       "      <td>166.2</td>\n",
       "      <td>69.8</td>\n",
       "      <td>1.0</td>\n",
       "      <td>1.0</td>\n",
       "    </tr>\n",
       "    <tr>\n",
       "      <th>1</th>\n",
       "      <td>1.0</td>\n",
       "      <td>-5.030961</td>\n",
       "      <td>75.0</td>\n",
       "      <td>166.2</td>\n",
       "      <td>69.8</td>\n",
       "      <td>1.0</td>\n",
       "      <td>1.0</td>\n",
       "    </tr>\n",
       "    <tr>\n",
       "      <th>2</th>\n",
       "      <td>1.0</td>\n",
       "      <td>-6.367344</td>\n",
       "      <td>69.0</td>\n",
       "      <td>164.5</td>\n",
       "      <td>91.0</td>\n",
       "      <td>0.0</td>\n",
       "      <td>1.0</td>\n",
       "    </tr>\n",
       "    <tr>\n",
       "      <th>3</th>\n",
       "      <td>1.0</td>\n",
       "      <td>-5.675085</td>\n",
       "      <td>69.0</td>\n",
       "      <td>161.0</td>\n",
       "      <td>69.1</td>\n",
       "      <td>0.0</td>\n",
       "      <td>1.0</td>\n",
       "    </tr>\n",
       "    <tr>\n",
       "      <th>4</th>\n",
       "      <td>1.0</td>\n",
       "      <td>-5.786749</td>\n",
       "      <td>78.0</td>\n",
       "      <td>153.4</td>\n",
       "      <td>64.6</td>\n",
       "      <td>1.0</td>\n",
       "      <td>1.0</td>\n",
       "    </tr>\n",
       "    <tr>\n",
       "      <th>...</th>\n",
       "      <td>...</td>\n",
       "      <td>...</td>\n",
       "      <td>...</td>\n",
       "      <td>...</td>\n",
       "      <td>...</td>\n",
       "      <td>...</td>\n",
       "      <td>...</td>\n",
       "    </tr>\n",
       "    <tr>\n",
       "      <th>1226</th>\n",
       "      <td>1.0</td>\n",
       "      <td>-5.608887</td>\n",
       "      <td>70.0</td>\n",
       "      <td>162.5</td>\n",
       "      <td>64.0</td>\n",
       "      <td>0.0</td>\n",
       "      <td>0.0</td>\n",
       "    </tr>\n",
       "    <tr>\n",
       "      <th>1227</th>\n",
       "      <td>1.0</td>\n",
       "      <td>-5.608887</td>\n",
       "      <td>70.0</td>\n",
       "      <td>162.5</td>\n",
       "      <td>64.0</td>\n",
       "      <td>0.0</td>\n",
       "      <td>0.0</td>\n",
       "    </tr>\n",
       "    <tr>\n",
       "      <th>1228</th>\n",
       "      <td>1.0</td>\n",
       "      <td>-5.608887</td>\n",
       "      <td>70.0</td>\n",
       "      <td>162.5</td>\n",
       "      <td>64.0</td>\n",
       "      <td>0.0</td>\n",
       "      <td>0.0</td>\n",
       "    </tr>\n",
       "    <tr>\n",
       "      <th>1229</th>\n",
       "      <td>1.0</td>\n",
       "      <td>-5.608887</td>\n",
       "      <td>70.0</td>\n",
       "      <td>162.5</td>\n",
       "      <td>64.0</td>\n",
       "      <td>0.0</td>\n",
       "      <td>0.0</td>\n",
       "    </tr>\n",
       "    <tr>\n",
       "      <th>1230</th>\n",
       "      <td>1.0</td>\n",
       "      <td>-3.463860</td>\n",
       "      <td>85.0</td>\n",
       "      <td>171.5</td>\n",
       "      <td>55.5</td>\n",
       "      <td>0.0</td>\n",
       "      <td>0.0</td>\n",
       "    </tr>\n",
       "  </tbody>\n",
       "</table>\n",
       "<p>1194 rows × 7 columns</p>\n",
       "</div>"
      ],
      "text/plain": [
       "      const  t_fl_fea_sd   age  height  weight  osteomed  prevfx_any\n",
       "0       1.0    -5.030961  75.0   166.2    69.8       1.0         1.0\n",
       "1       1.0    -5.030961  75.0   166.2    69.8       1.0         1.0\n",
       "2       1.0    -6.367344  69.0   164.5    91.0       0.0         1.0\n",
       "3       1.0    -5.675085  69.0   161.0    69.1       0.0         1.0\n",
       "4       1.0    -5.786749  78.0   153.4    64.6       1.0         1.0\n",
       "...     ...          ...   ...     ...     ...       ...         ...\n",
       "1226    1.0    -5.608887  70.0   162.5    64.0       0.0         0.0\n",
       "1227    1.0    -5.608887  70.0   162.5    64.0       0.0         0.0\n",
       "1228    1.0    -5.608887  70.0   162.5    64.0       0.0         0.0\n",
       "1229    1.0    -5.608887  70.0   162.5    64.0       0.0         0.0\n",
       "1230    1.0    -3.463860  85.0   171.5    55.5       0.0         0.0\n",
       "\n",
       "[1194 rows x 7 columns]"
      ]
     },
     "execution_count": 360,
     "metadata": {},
     "output_type": "execute_result"
    }
   ],
   "source": [
    "x21 = sm.add_constant(x20)\n",
    "x21"
   ]
  },
  {
   "cell_type": "code",
   "execution_count": 361,
   "id": "8e493f24",
   "metadata": {
    "scrolled": true
   },
   "outputs": [
    {
     "name": "stdout",
     "output_type": "stream",
     "text": [
      "Optimization terminated successfully.\n",
      "         Current function value: 0.317455\n",
      "         Iterations 7\n",
      "                           Logit Regression Results                           \n",
      "==============================================================================\n",
      "Dep. Variable:             newosteofx   No. Observations:                 1194\n",
      "Model:                          Logit   Df Residuals:                     1187\n",
      "Method:                           MLE   Df Model:                            6\n",
      "Date:                Sun, 06 Mar 2022   Pseudo R-squ.:                 0.02677\n",
      "Time:                        17:28:29   Log-Likelihood:                -379.04\n",
      "converged:                       True   LL-Null:                       -389.47\n",
      "Covariance Type:            nonrobust   LLR p-value:                  0.001953\n",
      "===============================================================================\n",
      "                  coef    std err          z      P>|z|      [0.025      0.975]\n",
      "-------------------------------------------------------------------------------\n",
      "const          -8.8101      2.954     -2.982      0.003     -14.600      -3.020\n",
      "t_fl_fea_sd     0.3299      0.121      2.732      0.006       0.093       0.567\n",
      "age             0.0153      0.013      1.139      0.255      -0.011       0.042\n",
      "height          0.0413      0.017      2.465      0.014       0.008       0.074\n",
      "weight          0.0074      0.008      0.931      0.352      -0.008       0.023\n",
      "osteomed        0.1647      0.209      0.787      0.431      -0.246       0.575\n",
      "prevfx_any      0.2343      0.204      1.147      0.251      -0.166       0.634\n",
      "===============================================================================\n"
     ]
    }
   ],
   "source": [
    "fxmod20 = sm.Logit(y20, x21)\n",
    "model20fit = fxmod20.fit()\n",
    "\n",
    "print(model20fit.summary())"
   ]
  },
  {
   "cell_type": "code",
   "execution_count": 362,
   "id": "114cbc4e",
   "metadata": {
    "scrolled": true
   },
   "outputs": [
    {
     "data": {
      "text/plain": [
       "const         -8.810065\n",
       "t_fl_fea_sd    0.329908\n",
       "age            0.015337\n",
       "height         0.041255\n",
       "weight         0.007358\n",
       "osteomed       0.164729\n",
       "prevfx_any     0.234256\n",
       "dtype: float64"
      ]
     },
     "execution_count": 362,
     "metadata": {},
     "output_type": "execute_result"
    }
   ],
   "source": [
    "model20fit.params"
   ]
  },
  {
   "cell_type": "code",
   "execution_count": 363,
   "id": "f6ae106e",
   "metadata": {
    "scrolled": true
   },
   "outputs": [
    {
     "data": {
      "text/plain": [
       "const          0.00\n",
       "t_fl_fea_sd    1.39\n",
       "age            1.02\n",
       "height         1.04\n",
       "weight         1.01\n",
       "osteomed       1.18\n",
       "prevfx_any     1.26\n",
       "dtype: float64"
      ]
     },
     "execution_count": 363,
     "metadata": {},
     "output_type": "execute_result"
    }
   ],
   "source": [
    "round(np.exp(model20fit.params),2)"
   ]
  },
  {
   "cell_type": "code",
   "execution_count": 364,
   "id": "14386bee",
   "metadata": {
    "scrolled": true
   },
   "outputs": [
    {
     "data": {
      "text/html": [
       "<div>\n",
       "<style scoped>\n",
       "    .dataframe tbody tr th:only-of-type {\n",
       "        vertical-align: middle;\n",
       "    }\n",
       "\n",
       "    .dataframe tbody tr th {\n",
       "        vertical-align: top;\n",
       "    }\n",
       "\n",
       "    .dataframe thead th {\n",
       "        text-align: right;\n",
       "    }\n",
       "</style>\n",
       "<table border=\"1\" class=\"dataframe\">\n",
       "  <thead>\n",
       "    <tr style=\"text-align: right;\">\n",
       "      <th></th>\n",
       "      <th>5% CI</th>\n",
       "      <th>95% CI</th>\n",
       "      <th>Odds Ratio</th>\n",
       "    </tr>\n",
       "  </thead>\n",
       "  <tbody>\n",
       "    <tr>\n",
       "      <th>const</th>\n",
       "      <td>0.00</td>\n",
       "      <td>0.05</td>\n",
       "      <td>0.00</td>\n",
       "    </tr>\n",
       "    <tr>\n",
       "      <th>t_fl_fea_sd</th>\n",
       "      <td>1.10</td>\n",
       "      <td>1.76</td>\n",
       "      <td>1.39</td>\n",
       "    </tr>\n",
       "    <tr>\n",
       "      <th>age</th>\n",
       "      <td>0.99</td>\n",
       "      <td>1.04</td>\n",
       "      <td>1.02</td>\n",
       "    </tr>\n",
       "    <tr>\n",
       "      <th>height</th>\n",
       "      <td>1.01</td>\n",
       "      <td>1.08</td>\n",
       "      <td>1.04</td>\n",
       "    </tr>\n",
       "    <tr>\n",
       "      <th>weight</th>\n",
       "      <td>0.99</td>\n",
       "      <td>1.02</td>\n",
       "      <td>1.01</td>\n",
       "    </tr>\n",
       "    <tr>\n",
       "      <th>osteomed</th>\n",
       "      <td>0.78</td>\n",
       "      <td>1.78</td>\n",
       "      <td>1.18</td>\n",
       "    </tr>\n",
       "    <tr>\n",
       "      <th>prevfx_any</th>\n",
       "      <td>0.85</td>\n",
       "      <td>1.89</td>\n",
       "      <td>1.26</td>\n",
       "    </tr>\n",
       "  </tbody>\n",
       "</table>\n",
       "</div>"
      ],
      "text/plain": [
       "             5% CI  95% CI  Odds Ratio\n",
       "const         0.00    0.05        0.00\n",
       "t_fl_fea_sd   1.10    1.76        1.39\n",
       "age           0.99    1.04        1.02\n",
       "height        1.01    1.08        1.04\n",
       "weight        0.99    1.02        1.01\n",
       "osteomed      0.78    1.78        1.18\n",
       "prevfx_any    0.85    1.89        1.26"
      ]
     },
     "execution_count": 364,
     "metadata": {},
     "output_type": "execute_result"
    }
   ],
   "source": [
    "orparm20 = model20fit.params\n",
    "conf20 = model20fit.conf_int()\n",
    "\n",
    "# add column for odds ratio (OR) determined above\n",
    "conf20['Odds Ratio'] = orparm20\n",
    "conf20.columns = ['5% CI', '95% CI', 'Odds Ratio'] # change column names \n",
    "\n",
    "ortable20 = round(np.exp(conf20),2)\n",
    "ortable20"
   ]
  },
  {
   "cell_type": "code",
   "execution_count": 365,
   "id": "2b2cdf5f",
   "metadata": {},
   "outputs": [
    {
     "data": {
      "text/plain": [
       "772.0827126815961"
      ]
     },
     "execution_count": 365,
     "metadata": {},
     "output_type": "execute_result"
    }
   ],
   "source": [
    "model20fit.aic"
   ]
  },
  {
   "cell_type": "markdown",
   "id": "96daced5",
   "metadata": {},
   "source": [
    "# PART 3 CLASSIFICATION AND MODEL FIT "
   ]
  },
  {
   "cell_type": "code",
   "execution_count": 366,
   "id": "f0c896b1",
   "metadata": {},
   "outputs": [],
   "source": [
    "# Hosmer-Lemeshow Goodness of Fit Function\n",
    "\n",
    "def hosmlemchisq(data,groupby,obs,Exp):\n",
    "    chisq_tbl=data.groupby(groupby).apply(lambda x: pd.Series([\n",
    "        np.size(x[obs]),\n",
    "        np.size(x[Exp][x[Exp]==1]),\n",
    "        np.size(x[Exp][x[Exp]==0]),   \n",
    "        np.sum(x[obs]),\n",
    "        (np.sum(1-x[obs]))      \n",
    "        ],\n",
    "        index=([\"cnt\", \"Obs_Resp\", \"Obs_Non_resp\", \n",
    "               \"Exp_Resp\", \"Exp_Non_Resp\"])\n",
    "        )).reset_index()\n",
    "    chisq_tbl=chisq_tbl.sort_values(by=groupby,ascending=False)\n",
    "    \n",
    "    chisq_tbl[\"chisq\"] = ( (chisq_tbl[\"Obs_Resp\"]-chisq_tbl[\"Exp_Resp\"])**2\n",
    "              /(chisq_tbl[\"Exp_Resp\"]*(1-(chisq_tbl[\"Exp_Resp\"]/chisq_tbl[\"cnt\"]))) )\n",
    "    \n",
    "    chisq_value = np.sum(chisq_tbl[\"chisq\"])\n",
    "    \n",
    "    g = len(data[\"decile\"].value_counts())\n",
    "    \n",
    "    chisq_tbl = chisq_tbl.round(2)\n",
    "    \n",
    "    import scipy    \n",
    "    pvalue=scipy.stats.chi2.sf(chisq_value , g-2)\n",
    "    \n",
    "    return({\"Chisq_Table\":chisq_tbl,\n",
    "            \"hosmerlem\": {\"degree_of_freedom\": g-2,\n",
    "                          \"X^2\":round(chisq_value,2),\n",
    "                          \"p_value\":round(pvalue, 5)}})"
   ]
  },
  {
   "cell_type": "code",
   "execution_count": 373,
   "id": "07c6398b",
   "metadata": {},
   "outputs": [],
   "source": [
    "# STEP 1, generate predicted outcome values: \n",
    "# no good way to generate this\n",
    "# not needed for Hosmer Lemeshow\n",
    "\n",
    "# STEP 2, generate predicted probabilities\n",
    "# note, the function is predict() instead of predict_proba()\n",
    "data4[\"prob\"] = model10fit.predict(x11) \n",
    "\n",
    "# STEP 3, split the probabilities into deciles (binnning of 10):\n",
    "data4_sorted = data4.sort_values('prob')\n",
    "data4[\"decile\"]=pd.qcut(data4_sorted['prob'], 10, labels=False)"
   ]
  },
  {
   "cell_type": "code",
   "execution_count": 374,
   "id": "a7d10cd9",
   "metadata": {
    "scrolled": true
   },
   "outputs": [
    {
     "data": {
      "text/html": [
       "<div>\n",
       "<style scoped>\n",
       "    .dataframe tbody tr th:only-of-type {\n",
       "        vertical-align: middle;\n",
       "    }\n",
       "\n",
       "    .dataframe tbody tr th {\n",
       "        vertical-align: top;\n",
       "    }\n",
       "\n",
       "    .dataframe thead th {\n",
       "        text-align: right;\n",
       "    }\n",
       "</style>\n",
       "<table border=\"1\" class=\"dataframe\">\n",
       "  <thead>\n",
       "    <tr style=\"text-align: right;\">\n",
       "      <th></th>\n",
       "      <th>decile</th>\n",
       "      <th>cnt</th>\n",
       "      <th>Obs_Resp</th>\n",
       "      <th>Obs_Non_resp</th>\n",
       "      <th>Exp_Resp</th>\n",
       "      <th>Exp_Non_Resp</th>\n",
       "      <th>chisq</th>\n",
       "    </tr>\n",
       "  </thead>\n",
       "  <tbody>\n",
       "    <tr>\n",
       "      <th>9</th>\n",
       "      <td>9</td>\n",
       "      <td>118.0</td>\n",
       "      <td>18.0</td>\n",
       "      <td>100.0</td>\n",
       "      <td>23.84</td>\n",
       "      <td>94.16</td>\n",
       "      <td>1.79</td>\n",
       "    </tr>\n",
       "    <tr>\n",
       "      <th>8</th>\n",
       "      <td>8</td>\n",
       "      <td>119.0</td>\n",
       "      <td>16.0</td>\n",
       "      <td>103.0</td>\n",
       "      <td>17.66</td>\n",
       "      <td>101.34</td>\n",
       "      <td>0.18</td>\n",
       "    </tr>\n",
       "    <tr>\n",
       "      <th>7</th>\n",
       "      <td>7</td>\n",
       "      <td>121.0</td>\n",
       "      <td>23.0</td>\n",
       "      <td>98.0</td>\n",
       "      <td>15.02</td>\n",
       "      <td>105.98</td>\n",
       "      <td>4.83</td>\n",
       "    </tr>\n",
       "    <tr>\n",
       "      <th>6</th>\n",
       "      <td>6</td>\n",
       "      <td>120.0</td>\n",
       "      <td>16.0</td>\n",
       "      <td>104.0</td>\n",
       "      <td>12.92</td>\n",
       "      <td>107.08</td>\n",
       "      <td>0.82</td>\n",
       "    </tr>\n",
       "    <tr>\n",
       "      <th>5</th>\n",
       "      <td>5</td>\n",
       "      <td>119.0</td>\n",
       "      <td>16.0</td>\n",
       "      <td>103.0</td>\n",
       "      <td>11.54</td>\n",
       "      <td>107.46</td>\n",
       "      <td>1.91</td>\n",
       "    </tr>\n",
       "    <tr>\n",
       "      <th>4</th>\n",
       "      <td>4</td>\n",
       "      <td>114.0</td>\n",
       "      <td>5.0</td>\n",
       "      <td>109.0</td>\n",
       "      <td>9.91</td>\n",
       "      <td>104.09</td>\n",
       "      <td>2.66</td>\n",
       "    </tr>\n",
       "    <tr>\n",
       "      <th>3</th>\n",
       "      <td>3</td>\n",
       "      <td>123.0</td>\n",
       "      <td>2.0</td>\n",
       "      <td>121.0</td>\n",
       "      <td>9.67</td>\n",
       "      <td>113.33</td>\n",
       "      <td>6.60</td>\n",
       "    </tr>\n",
       "    <tr>\n",
       "      <th>2</th>\n",
       "      <td>2</td>\n",
       "      <td>121.0</td>\n",
       "      <td>13.0</td>\n",
       "      <td>108.0</td>\n",
       "      <td>8.11</td>\n",
       "      <td>112.89</td>\n",
       "      <td>3.17</td>\n",
       "    </tr>\n",
       "    <tr>\n",
       "      <th>1</th>\n",
       "      <td>1</td>\n",
       "      <td>118.0</td>\n",
       "      <td>7.0</td>\n",
       "      <td>111.0</td>\n",
       "      <td>6.67</td>\n",
       "      <td>111.33</td>\n",
       "      <td>0.02</td>\n",
       "    </tr>\n",
       "    <tr>\n",
       "      <th>0</th>\n",
       "      <td>0</td>\n",
       "      <td>121.0</td>\n",
       "      <td>4.0</td>\n",
       "      <td>117.0</td>\n",
       "      <td>4.65</td>\n",
       "      <td>116.35</td>\n",
       "      <td>0.10</td>\n",
       "    </tr>\n",
       "  </tbody>\n",
       "</table>\n",
       "</div>"
      ],
      "text/plain": [
       "   decile    cnt  Obs_Resp  Obs_Non_resp  Exp_Resp  Exp_Non_Resp  chisq\n",
       "9       9  118.0      18.0         100.0     23.84         94.16   1.79\n",
       "8       8  119.0      16.0         103.0     17.66        101.34   0.18\n",
       "7       7  121.0      23.0          98.0     15.02        105.98   4.83\n",
       "6       6  120.0      16.0         104.0     12.92        107.08   0.82\n",
       "5       5  119.0      16.0         103.0     11.54        107.46   1.91\n",
       "4       4  114.0       5.0         109.0      9.91        104.09   2.66\n",
       "3       3  123.0       2.0         121.0      9.67        113.33   6.60\n",
       "2       2  121.0      13.0         108.0      8.11        112.89   3.17\n",
       "1       1  118.0       7.0         111.0      6.67        111.33   0.02\n",
       "0       0  121.0       4.0         117.0      4.65        116.35   0.10"
      ]
     },
     "execution_count": 374,
     "metadata": {},
     "output_type": "execute_result"
    }
   ],
   "source": [
    "# STEP 4, run hosmlemchisq() function: \n",
    "hltest = hosmlemchisq(data4, \"decile\", \"prob\", \"newosteofx\")\n",
    "hltest['Chisq_Table']"
   ]
  },
  {
   "cell_type": "code",
   "execution_count": 376,
   "id": "30f6df77",
   "metadata": {},
   "outputs": [
    {
     "data": {
      "text/plain": [
       "{'degree_of_freedom': 8, 'X^2': 22.09, 'p_value': 0.00475}"
      ]
     },
     "execution_count": 376,
     "metadata": {},
     "output_type": "execute_result"
    }
   ],
   "source": [
    "# STEP 5, Print Hosmer-Lemeshow Goodness of Fit p-value:\n",
    "# < 0.05 means poorly fit \n",
    "hltest['hosmerlem']"
   ]
  },
  {
   "cell_type": "code",
   "execution_count": 378,
   "id": "51543f53",
   "metadata": {
    "scrolled": true
   },
   "outputs": [
    {
     "data": {
      "image/png": "[encoded data removed]",
      "text/plain": [
       "<Figure size 648x360 with 1 Axes>"
      ]
     },
     "metadata": {
      "needs_background": "light"
     },
     "output_type": "display_data"
    }
   ],
   "source": [
    "from sklearn.metrics import roc_curve\n",
    "from sklearn.metrics import roc_auc_score\n",
    "\n",
    "import matplotlib.pyplot as plt\n",
    "%matplotlib inline\n",
    "\n",
    "fpr, tpr, thresholds = roc_curve(data4[\"newosteofx\"],data4[\"prob\"])\n",
    "\n",
    "plt.figure(figsize=(9,5))\n",
    "plt.plot([0, 1], [0, 1], 'k--', label = 'Random')\n",
    "plt.plot(fpr, tpr, color = 'blue', label = 'ROC')\n",
    "plt.xlabel('False Positive Rate', fontsize=15)\n",
    "plt.ylabel('True Positive Rate', fontsize=15)\n",
    "plt.title('ROC Curve', fontsize=20)\n",
    "plt.legend(fontsize=10, loc='best')\n",
    "plt.show()"
   ]
  },
  {
   "cell_type": "code",
   "execution_count": 380,
   "id": "7557b6f3",
   "metadata": {},
   "outputs": [
    {
     "data": {
      "text/plain": [
       "0.6427684667908131"
      ]
     },
     "execution_count": 380,
     "metadata": {},
     "output_type": "execute_result"
    }
   ],
   "source": [
    "# AUC value: \n",
    "roc_auc_score(y10, data4[\"prob\"])"
   ]
  },
  {
   "cell_type": "code",
   "execution_count": 381,
   "id": "7da3506c",
   "metadata": {
    "scrolled": true
   },
   "outputs": [
    {
     "data": {
      "text/html": [
       "<div>\n",
       "<style scoped>\n",
       "    .dataframe tbody tr th:only-of-type {\n",
       "        vertical-align: middle;\n",
       "    }\n",
       "\n",
       "    .dataframe tbody tr th {\n",
       "        vertical-align: top;\n",
       "    }\n",
       "\n",
       "    .dataframe thead th {\n",
       "        text-align: right;\n",
       "    }\n",
       "</style>\n",
       "<table border=\"1\" class=\"dataframe\">\n",
       "  <thead>\n",
       "    <tr style=\"text-align: right;\">\n",
       "      <th></th>\n",
       "      <th>1-spec</th>\n",
       "      <th>sens</th>\n",
       "      <th>threshold</th>\n",
       "      <th>spec</th>\n",
       "      <th>youdenj</th>\n",
       "      <th>d</th>\n",
       "    </tr>\n",
       "  </thead>\n",
       "  <tbody>\n",
       "    <tr>\n",
       "      <th>0</th>\n",
       "      <td>0.486965</td>\n",
       "      <td>0.783333</td>\n",
       "      <td>0.089799</td>\n",
       "      <td>0.513035</td>\n",
       "      <td>0.296369</td>\n",
       "      <td>0.532991</td>\n",
       "    </tr>\n",
       "    <tr>\n",
       "      <th>1</th>\n",
       "      <td>0.487896</td>\n",
       "      <td>0.783333</td>\n",
       "      <td>0.089435</td>\n",
       "      <td>0.512104</td>\n",
       "      <td>0.295438</td>\n",
       "      <td>0.533841</td>\n",
       "    </tr>\n",
       "    <tr>\n",
       "      <th>2</th>\n",
       "      <td>0.491620</td>\n",
       "      <td>0.783333</td>\n",
       "      <td>0.088894</td>\n",
       "      <td>0.508380</td>\n",
       "      <td>0.291713</td>\n",
       "      <td>0.537247</td>\n",
       "    </tr>\n",
       "    <tr>\n",
       "      <th>3</th>\n",
       "      <td>0.495345</td>\n",
       "      <td>0.783333</td>\n",
       "      <td>0.088740</td>\n",
       "      <td>0.504655</td>\n",
       "      <td>0.287989</td>\n",
       "      <td>0.540658</td>\n",
       "    </tr>\n",
       "    <tr>\n",
       "      <th>4</th>\n",
       "      <td>0.496276</td>\n",
       "      <td>0.783333</td>\n",
       "      <td>0.088610</td>\n",
       "      <td>0.503724</td>\n",
       "      <td>0.287058</td>\n",
       "      <td>0.541511</td>\n",
       "    </tr>\n",
       "    <tr>\n",
       "      <th>...</th>\n",
       "      <td>...</td>\n",
       "      <td>...</td>\n",
       "      <td>...</td>\n",
       "      <td>...</td>\n",
       "      <td>...</td>\n",
       "      <td>...</td>\n",
       "    </tr>\n",
       "    <tr>\n",
       "      <th>437</th>\n",
       "      <td>0.962756</td>\n",
       "      <td>0.966667</td>\n",
       "      <td>0.035615</td>\n",
       "      <td>0.037244</td>\n",
       "      <td>0.003911</td>\n",
       "      <td>0.963333</td>\n",
       "    </tr>\n",
       "    <tr>\n",
       "      <th>438</th>\n",
       "      <td>0.974860</td>\n",
       "      <td>0.975000</td>\n",
       "      <td>0.033256</td>\n",
       "      <td>0.025140</td>\n",
       "      <td>0.000140</td>\n",
       "      <td>0.975181</td>\n",
       "    </tr>\n",
       "    <tr>\n",
       "      <th>439</th>\n",
       "      <td>0.000000</td>\n",
       "      <td>0.000000</td>\n",
       "      <td>1.351541</td>\n",
       "      <td>1.000000</td>\n",
       "      <td>0.000000</td>\n",
       "      <td>1.000000</td>\n",
       "    </tr>\n",
       "    <tr>\n",
       "      <th>440</th>\n",
       "      <td>1.000000</td>\n",
       "      <td>1.000000</td>\n",
       "      <td>0.016130</td>\n",
       "      <td>0.000000</td>\n",
       "      <td>0.000000</td>\n",
       "      <td>1.000000</td>\n",
       "    </tr>\n",
       "    <tr>\n",
       "      <th>441</th>\n",
       "      <td>0.975791</td>\n",
       "      <td>0.975000</td>\n",
       "      <td>0.032599</td>\n",
       "      <td>0.024209</td>\n",
       "      <td>-0.000791</td>\n",
       "      <td>0.976112</td>\n",
       "    </tr>\n",
       "  </tbody>\n",
       "</table>\n",
       "<p>442 rows × 6 columns</p>\n",
       "</div>"
      ],
      "text/plain": [
       "       1-spec      sens  threshold      spec   youdenj         d\n",
       "0    0.486965  0.783333   0.089799  0.513035  0.296369  0.532991\n",
       "1    0.487896  0.783333   0.089435  0.512104  0.295438  0.533841\n",
       "2    0.491620  0.783333   0.088894  0.508380  0.291713  0.537247\n",
       "3    0.495345  0.783333   0.088740  0.504655  0.287989  0.540658\n",
       "4    0.496276  0.783333   0.088610  0.503724  0.287058  0.541511\n",
       "..        ...       ...        ...       ...       ...       ...\n",
       "437  0.962756  0.966667   0.035615  0.037244  0.003911  0.963333\n",
       "438  0.974860  0.975000   0.033256  0.025140  0.000140  0.975181\n",
       "439  0.000000  0.000000   1.351541  1.000000  0.000000  1.000000\n",
       "440  1.000000  1.000000   0.016130  0.000000  0.000000  1.000000\n",
       "441  0.975791  0.975000   0.032599  0.024209 -0.000791  0.976112\n",
       "\n",
       "[442 rows x 6 columns]"
      ]
     },
     "execution_count": 381,
     "metadata": {},
     "output_type": "execute_result"
    }
   ],
   "source": [
    "# Sens Spec Table:\n",
    "\n",
    "senspecthr = pd.DataFrame(np.array([fpr, tpr, thresholds]).T)\n",
    "senspecthr.columns = [\"1-spec\",\"sens\",\"threshold\"]\n",
    "\n",
    "# Compute specificity: \n",
    "senspecthr['spec'] = 1-senspecthr['1-spec']\n",
    "\n",
    "# Youden J - maximize:\n",
    "senspecthr['youdenj'] = senspecthr['sens'] + senspecthr['spec'] - 1\n",
    "\n",
    "# Geometric distance from points along the curve to coordinate (0,1) - top left hand corner:\n",
    "# minimize:\n",
    "senspecthr['d'] = np.sqrt((1-senspecthr['sens'])**2 + (1-senspecthr['spec'])**2)\n",
    "\n",
    "# sort by decreasing youdenJ\n",
    "senspecthr_sorted = senspecthr.sort_values('youdenj', ascending=False)\n",
    "senspecthr_sorted[['threshold','sens','spec','1-spec','youdenj','d']]\n",
    "\n",
    "# reindex: \n",
    "senspecthr_sorted = senspecthr_sorted.reset_index(drop=True)\n",
    "senspecthr_sorted"
   ]
  },
  {
   "cell_type": "code",
   "execution_count": 382,
   "id": "b31f4539",
   "metadata": {},
   "outputs": [
    {
     "data": {
      "text/plain": [
       "0.29636871508379903"
      ]
     },
     "execution_count": 382,
     "metadata": {},
     "output_type": "execute_result"
    }
   ],
   "source": [
    "np.max(senspecthr_sorted['youdenj'])"
   ]
  },
  {
   "cell_type": "code",
   "execution_count": 383,
   "id": "3b692af2",
   "metadata": {},
   "outputs": [
    {
     "data": {
      "text/plain": [
       "0.08979863724155716"
      ]
     },
     "execution_count": 383,
     "metadata": {},
     "output_type": "execute_result"
    }
   ],
   "source": [
    "# isolate the value: 0.117652\n",
    "probthr = senspecthr_sorted.iloc[0,2]\n",
    "probthr"
   ]
  },
  {
   "cell_type": "code",
   "execution_count": 384,
   "id": "a2a9427c",
   "metadata": {
    "scrolled": true
   },
   "outputs": [
    {
     "data": {
      "text/plain": [
       "1    617\n",
       "0    577\n",
       "Name: pred, dtype: int64"
      ]
     },
     "execution_count": 384,
     "metadata": {},
     "output_type": "execute_result"
    }
   ],
   "source": [
    "# Apply threshold \n",
    "data4[\"pred\"] = data4[\"prob\"].apply(lambda x: 1 if (x >= probthr) else 0) \n",
    "data4[\"pred\"].value_counts()"
   ]
  },
  {
   "cell_type": "code",
   "execution_count": 385,
   "id": "d0121698",
   "metadata": {},
   "outputs": [
    {
     "data": {
      "text/plain": [
       "array([[551, 523],\n",
       "       [ 26,  94]], dtype=int64)"
      ]
     },
     "execution_count": 385,
     "metadata": {},
     "output_type": "execute_result"
    }
   ],
   "source": [
    "# Show confusion matrix / contingency table of predicted vs. observed outcome (newosteofx)\n",
    "from sklearn.metrics import confusion_matrix\n",
    "cf_matrix2 = confusion_matrix(data4['newosteofx'], data4['pred'])\n",
    "cf_matrix2"
   ]
  },
  {
   "cell_type": "code",
   "execution_count": 386,
   "id": "9ff0932f",
   "metadata": {},
   "outputs": [
    {
     "data": {
      "text/plain": [
       "<AxesSubplot:xlabel='Predicted', ylabel='Observed'>"
      ]
     },
     "execution_count": 386,
     "metadata": {},
     "output_type": "execute_result"
    },
    {
     "data": {
      "image/png": "[encoded data removed]",
      "text/plain": [
       "<Figure size 432x288 with 2 Axes>"
      ]
     },
     "metadata": {},
     "output_type": "display_data"
    }
   ],
   "source": [
    "# make it look prettier \n",
    "\n",
    "import seaborn as sns\n",
    "sns.set(font_scale = 2)\n",
    "cf2 = sns.heatmap(cf_matrix2, annot=True, cmap='Blues', fmt='d')\n",
    "cf2.set(xlabel='Predicted', ylabel='Observed') # reverse order from above in confusion_matrix() function\n",
    "cf2"
   ]
  }
 ],
 "metadata": {
  "kernelspec": {
   "display_name": "Python 3",
   "language": "python",
   "name": "python3"
  },
  "language_info": {
   "codemirror_mode": {
    "name": "ipython",
    "version": 3
   },
   "file_extension": ".py",
   "mimetype": "text/x-python",
   "name": "python",
   "nbconvert_exporter": "python",
   "pygments_lexer": "ipython3",
   "version": "3.8.8"
  }
 },
 "nbformat": 4,
 "nbformat_minor": 5
}
