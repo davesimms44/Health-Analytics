{
 "cells": [
  {
   "cell_type": "code",
   "execution_count": 74,
   "id": "bf43c0a7",
   "metadata": {},
   "outputs": [],
   "source": [
    "import pandas as pd\n",
    "from datetime import datetime as dt\n",
    "import numpy as np\n",
    "import matplotlib.pyplot as plt\n",
    "import seaborn as sns\n",
    "\n",
    "import statsmodels.api as sm\n",
    "from sklearn.linear_model import LinearRegression"
   ]
  },
  {
   "cell_type": "code",
   "execution_count": 75,
   "id": "80ab6cc0",
   "metadata": {},
   "outputs": [],
   "source": [
    "data = pd.read_sas(\"xtrsupmerged.sas7bdat\", format='sas7bdat')"
   ]
  },
  {
   "cell_type": "code",
   "execution_count": 76,
   "id": "fe61ce27",
   "metadata": {},
   "outputs": [],
   "source": [
    "data.columns = data.columns.str.lower()"
   ]
  },
  {
   "cell_type": "code",
   "execution_count": 77,
   "id": "7854c46e",
   "metadata": {},
   "outputs": [
    {
     "data": {
      "text/plain": [
       "Index(['age', 'height', 'weight', 'parentfracture', 'previousfracture', 'id',\n",
       "       'bonedensity', 'bonespacing', 'bonefraction', 'ctdate', 'studyenddate',\n",
       "       'fracturedate', 'fractureyn', 'bmi', 'timetostudyend', 'timetofracture',\n",
       "       'timetoevent'],\n",
       "      dtype='object')"
      ]
     },
     "execution_count": 77,
     "metadata": {},
     "output_type": "execute_result"
    }
   ],
   "source": [
    "data.columns"
   ]
  },
  {
   "cell_type": "code",
   "execution_count": 78,
   "id": "a425e439",
   "metadata": {},
   "outputs": [],
   "source": [
    "data1 = data[['bonespacing', 'age']].dropna()"
   ]
  },
  {
   "cell_type": "code",
   "execution_count": 79,
   "id": "dd587467",
   "metadata": {},
   "outputs": [
    {
     "data": {
      "text/plain": [
       "bonespacing  age  \n",
       "False        False    1193\n",
       "dtype: int64"
      ]
     },
     "execution_count": 79,
     "metadata": {},
     "output_type": "execute_result"
    }
   ],
   "source": [
    "np.isnan(data1).value_counts()"
   ]
  },
  {
   "cell_type": "code",
   "execution_count": 80,
   "id": "a0dd45c1",
   "metadata": {},
   "outputs": [],
   "source": [
    "x = data1[['age']]\n",
    "y = data1[['bonespacing']]\n",
    "model = LinearRegression().fit(x,y)"
   ]
  },
  {
   "cell_type": "code",
   "execution_count": 81,
   "id": "47537816",
   "metadata": {},
   "outputs": [
    {
     "name": "stdout",
     "output_type": "stream",
     "text": [
      "0.004542404726068483 [0.41714956] [[0.00140198]]\n"
     ]
    }
   ],
   "source": [
    "r_sq = model.score(x,y)\n",
    "intercept, coefficients = model.intercept_,model.coef_\n",
    "print(r_sq, intercept, coefficients)"
   ]
  },
  {
   "cell_type": "code",
   "execution_count": 82,
   "id": "4fffe4f1",
   "metadata": {},
   "outputs": [
    {
     "data": {
      "text/plain": [
       "0.0673973643851767"
      ]
     },
     "execution_count": 82,
     "metadata": {},
     "output_type": "execute_result"
    }
   ],
   "source": [
    "pear = data.bonespacing.corr(data.age)\n",
    "pear"
   ]
  },
  {
   "cell_type": "code",
   "execution_count": 83,
   "id": "8e5b7106",
   "metadata": {},
   "outputs": [
    {
     "data": {
      "text/plain": [
       "0.024443594265916628"
      ]
     },
     "execution_count": 83,
     "metadata": {},
     "output_type": "execute_result"
    }
   ],
   "source": [
    "spear = data.bonespacing.corr(data['age'], method='spearman')\n",
    "spear"
   ]
  },
  {
   "cell_type": "code",
   "execution_count": 84,
   "id": "5ecdfb80",
   "metadata": {},
   "outputs": [],
   "source": [
    "data2 = data[['bonespacing', 'age', 'bmi', 'previousfracture']].dropna()\n",
    "\n",
    "x2=data2[['age','bmi','previousfracture']]\n",
    "y2=data2[['bonespacing']]\n",
    "\n",
    "x2= sm.add_constant(x2)"
   ]
  },
  {
   "cell_type": "code",
   "execution_count": 85,
   "id": "fd5ae0a1",
   "metadata": {},
   "outputs": [],
   "source": [
    "model2 = sm.OLS(y2,x2)"
   ]
  },
  {
   "cell_type": "code",
   "execution_count": 86,
   "id": "8d40d777",
   "metadata": {},
   "outputs": [],
   "source": [
    "results2 = model2.fit()"
   ]
  },
  {
   "cell_type": "code",
   "execution_count": 87,
   "id": "8bf4f4cc",
   "metadata": {
    "scrolled": true
   },
   "outputs": [
    {
     "name": "stdout",
     "output_type": "stream",
     "text": [
      "                            OLS Regression Results                            \n",
      "==============================================================================\n",
      "Dep. Variable:            bonespacing   R-squared:                       0.076\n",
      "Model:                            OLS   Adj. R-squared:                  0.073\n",
      "Method:                 Least Squares   F-statistic:                     32.49\n",
      "Date:                Fri, 11 Feb 2022   Prob (F-statistic):           3.47e-20\n",
      "Time:                        23:03:08   Log-Likelihood:                 516.70\n",
      "No. Observations:                1192   AIC:                            -1025.\n",
      "Df Residuals:                    1188   BIC:                            -1005.\n",
      "Df Model:                           3                                         \n",
      "Covariance Type:            nonrobust                                         \n",
      "====================================================================================\n",
      "                       coef    std err          t      P>|t|      [0.025      0.975]\n",
      "------------------------------------------------------------------------------------\n",
      "const                0.6372      0.050     12.799      0.000       0.540       0.735\n",
      "age                  0.0008      0.001      1.317      0.188      -0.000       0.002\n",
      "bmi                 -0.0069      0.001     -8.104      0.000      -0.009      -0.005\n",
      "previousfracture     0.0440      0.010      4.618      0.000       0.025       0.063\n",
      "==============================================================================\n",
      "Omnibus:                      886.751   Durbin-Watson:                   0.929\n",
      "Prob(Omnibus):                  0.000   Jarque-Bera (JB):            19144.534\n",
      "Skew:                           3.235   Prob(JB):                         0.00\n",
      "Kurtosis:                      21.537   Cond. No.                         859.\n",
      "==============================================================================\n",
      "\n",
      "Notes:\n",
      "[1] Standard Errors assume that the covariance matrix of the errors is correctly specified.\n"
     ]
    }
   ],
   "source": [
    "print(results2.summary())"
   ]
  },
  {
   "cell_type": "code",
   "execution_count": 73,
   "id": "9c22bd7b",
   "metadata": {
    "scrolled": true
   },
   "outputs": [
    {
     "name": "stdout",
     "output_type": "stream",
     "text": [
      "Requirement already satisfied: jupyter in c:\\users\\dave_\\anaconda3\\lib\\site-packages (1.0.0)\n",
      "Requirement already satisfied: notebook in c:\\users\\dave_\\anaconda3\\lib\\site-packages (6.3.0)\n",
      "Collecting notebook\n",
      "  Downloading notebook-6.4.8-py3-none-any.whl (9.9 MB)\n",
      "Requirement already satisfied: ipykernel in c:\\users\\dave_\\anaconda3\\lib\\site-packages (from jupyter) (5.3.4)\n",
      "Requirement already satisfied: qtconsole in c:\\users\\dave_\\anaconda3\\lib\\site-packages (from jupyter) (5.0.3)\n",
      "Requirement already satisfied: nbconvert in c:\\users\\dave_\\anaconda3\\lib\\site-packages (from jupyter) (6.0.7)\n",
      "Requirement already satisfied: jupyter-console in c:\\users\\dave_\\anaconda3\\lib\\site-packages (from jupyter) (6.4.0)\n",
      "Requirement already satisfied: ipywidgets in c:\\users\\dave_\\anaconda3\\lib\\site-packages (from jupyter) (7.6.3)\n",
      "Requirement already satisfied: nest-asyncio>=1.5 in c:\\users\\dave_\\anaconda3\\lib\\site-packages (from notebook) (1.5.1)\n",
      "Requirement already satisfied: jupyter-core>=4.6.1 in c:\\users\\dave_\\anaconda3\\lib\\site-packages (from notebook) (4.7.1)\n",
      "Requirement already satisfied: argon2-cffi in c:\\users\\dave_\\anaconda3\\lib\\site-packages (from notebook) (20.1.0)\n",
      "Requirement already satisfied: prometheus-client in c:\\users\\dave_\\anaconda3\\lib\\site-packages (from notebook) (0.10.1)\n",
      "Collecting Send2Trash>=1.8.0\n",
      "  Downloading Send2Trash-1.8.0-py3-none-any.whl (18 kB)\n",
      "Requirement already satisfied: tornado>=6.1 in c:\\users\\dave_\\anaconda3\\lib\\site-packages (from notebook) (6.1)\n",
      "Requirement already satisfied: jupyter-client>=5.3.4 in c:\\users\\dave_\\anaconda3\\lib\\site-packages (from notebook) (6.1.12)\n",
      "Requirement already satisfied: traitlets>=4.2.1 in c:\\users\\dave_\\anaconda3\\lib\\site-packages (from notebook) (5.0.5)\n",
      "Requirement already satisfied: nbformat in c:\\users\\dave_\\anaconda3\\lib\\site-packages (from notebook) (5.1.3)\n",
      "Requirement already satisfied: pyzmq>=17 in c:\\users\\dave_\\anaconda3\\lib\\site-packages (from notebook) (20.0.0)\n",
      "Requirement already satisfied: terminado>=0.8.3 in c:\\users\\dave_\\anaconda3\\lib\\site-packages (from notebook) (0.9.4)\n",
      "Requirement already satisfied: jinja2 in c:\\users\\dave_\\anaconda3\\lib\\site-packages (from notebook) (2.11.3)\n",
      "Requirement already satisfied: ipython-genutils in c:\\users\\dave_\\anaconda3\\lib\\site-packages (from notebook) (0.2.0)\n",
      "Requirement already satisfied: python-dateutil>=2.1 in c:\\users\\dave_\\anaconda3\\lib\\site-packages (from jupyter-client>=5.3.4->notebook) (2.8.1)\n",
      "Requirement already satisfied: pywin32>=1.0 in c:\\users\\dave_\\anaconda3\\lib\\site-packages (from jupyter-core>=4.6.1->notebook) (227)\n",
      "Requirement already satisfied: six>=1.5 in c:\\users\\dave_\\anaconda3\\lib\\site-packages (from python-dateutil>=2.1->jupyter-client>=5.3.4->notebook) (1.15.0)\n",
      "Requirement already satisfied: pywinpty>=0.5 in c:\\users\\dave_\\anaconda3\\lib\\site-packages (from terminado>=0.8.3->notebook) (0.5.7)\n",
      "Requirement already satisfied: cffi>=1.0.0 in c:\\users\\dave_\\anaconda3\\lib\\site-packages (from argon2-cffi->notebook) (1.14.5)\n",
      "Requirement already satisfied: pycparser in c:\\users\\dave_\\anaconda3\\lib\\site-packages (from cffi>=1.0.0->argon2-cffi->notebook) (2.20)\n",
      "Requirement already satisfied: ipython>=5.0.0 in c:\\users\\dave_\\anaconda3\\lib\\site-packages (from ipykernel->jupyter) (7.22.0)\n",
      "Requirement already satisfied: colorama in c:\\users\\dave_\\anaconda3\\lib\\site-packages (from ipython>=5.0.0->ipykernel->jupyter) (0.4.4)\n",
      "Requirement already satisfied: pygments in c:\\users\\dave_\\anaconda3\\lib\\site-packages (from ipython>=5.0.0->ipykernel->jupyter) (2.8.1)\n",
      "Requirement already satisfied: backcall in c:\\users\\dave_\\anaconda3\\lib\\site-packages (from ipython>=5.0.0->ipykernel->jupyter) (0.2.0)\n",
      "Requirement already satisfied: jedi>=0.16 in c:\\users\\dave_\\anaconda3\\lib\\site-packages (from ipython>=5.0.0->ipykernel->jupyter) (0.17.2)\n",
      "Requirement already satisfied: decorator in c:\\users\\dave_\\anaconda3\\lib\\site-packages (from ipython>=5.0.0->ipykernel->jupyter) (5.0.6)\n",
      "Requirement already satisfied: setuptools>=18.5 in c:\\users\\dave_\\anaconda3\\lib\\site-packages (from ipython>=5.0.0->ipykernel->jupyter) (52.0.0.post20210125)\n",
      "Requirement already satisfied: pickleshare in c:\\users\\dave_\\anaconda3\\lib\\site-packages (from ipython>=5.0.0->ipykernel->jupyter) (0.7.5)\n",
      "Requirement already satisfied: prompt-toolkit!=3.0.0,!=3.0.1,<3.1.0,>=2.0.0 in c:\\users\\dave_\\anaconda3\\lib\\site-packages (from ipython>=5.0.0->ipykernel->jupyter) (3.0.17)\n",
      "Requirement already satisfied: parso<0.8.0,>=0.7.0 in c:\\users\\dave_\\anaconda3\\lib\\site-packages (from jedi>=0.16->ipython>=5.0.0->ipykernel->jupyter) (0.7.0)\n",
      "Requirement already satisfied: wcwidth in c:\\users\\dave_\\anaconda3\\lib\\site-packages (from prompt-toolkit!=3.0.0,!=3.0.1,<3.1.0,>=2.0.0->ipython>=5.0.0->ipykernel->jupyter) (0.2.5)\n",
      "Requirement already satisfied: widgetsnbextension~=3.5.0 in c:\\users\\dave_\\anaconda3\\lib\\site-packages (from ipywidgets->jupyter) (3.5.1)\n",
      "Requirement already satisfied: jupyterlab-widgets>=1.0.0 in c:\\users\\dave_\\anaconda3\\lib\\site-packages (from ipywidgets->jupyter) (1.0.0)\n",
      "Requirement already satisfied: jsonschema!=2.5.0,>=2.4 in c:\\users\\dave_\\anaconda3\\lib\\site-packages (from nbformat->notebook) (3.2.0)\n",
      "Requirement already satisfied: pyrsistent>=0.14.0 in c:\\users\\dave_\\anaconda3\\lib\\site-packages (from jsonschema!=2.5.0,>=2.4->nbformat->notebook) (0.17.3)\n",
      "Requirement already satisfied: attrs>=17.4.0 in c:\\users\\dave_\\anaconda3\\lib\\site-packages (from jsonschema!=2.5.0,>=2.4->nbformat->notebook) (20.3.0)\n",
      "Requirement already satisfied: MarkupSafe>=0.23 in c:\\users\\dave_\\anaconda3\\lib\\site-packages (from jinja2->notebook) (1.1.1)\n",
      "Requirement already satisfied: nbclient<0.6.0,>=0.5.0 in c:\\users\\dave_\\anaconda3\\lib\\site-packages (from nbconvert->jupyter) (0.5.3)\n",
      "Requirement already satisfied: bleach in c:\\users\\dave_\\anaconda3\\lib\\site-packages (from nbconvert->jupyter) (3.3.0)\n",
      "Requirement already satisfied: testpath in c:\\users\\dave_\\anaconda3\\lib\\site-packages (from nbconvert->jupyter) (0.4.4)\n",
      "Requirement already satisfied: jupyterlab-pygments in c:\\users\\dave_\\anaconda3\\lib\\site-packages (from nbconvert->jupyter) (0.1.2)\n",
      "Requirement already satisfied: mistune<2,>=0.8.1 in c:\\users\\dave_\\anaconda3\\lib\\site-packages (from nbconvert->jupyter) (0.8.4)\n",
      "Requirement already satisfied: entrypoints>=0.2.2 in c:\\users\\dave_\\anaconda3\\lib\\site-packages (from nbconvert->jupyter) (0.3)\n",
      "Requirement already satisfied: defusedxml in c:\\users\\dave_\\anaconda3\\lib\\site-packages (from nbconvert->jupyter) (0.7.1)\n",
      "Requirement already satisfied: pandocfilters>=1.4.1 in c:\\users\\dave_\\anaconda3\\lib\\site-packages (from nbconvert->jupyter) (1.4.3)\n",
      "Requirement already satisfied: async-generator in c:\\users\\dave_\\anaconda3\\lib\\site-packages (from nbclient<0.6.0,>=0.5.0->nbconvert->jupyter) (1.10)\n",
      "Requirement already satisfied: webencodings in c:\\users\\dave_\\anaconda3\\lib\\site-packages (from bleach->nbconvert->jupyter) (0.5.1)\n",
      "Requirement already satisfied: packaging in c:\\users\\dave_\\anaconda3\\lib\\site-packages (from bleach->nbconvert->jupyter) (20.9)\n",
      "Requirement already satisfied: pyparsing>=2.0.2 in c:\\users\\dave_\\anaconda3\\lib\\site-packages (from packaging->bleach->nbconvert->jupyter) (2.4.7)\n",
      "Requirement already satisfied: qtpy in c:\\users\\dave_\\anaconda3\\lib\\site-packages (from qtconsole->jupyter) (1.9.0)\n",
      "Installing collected packages: Send2Trash, notebook\n",
      "  Attempting uninstall: Send2Trash\n",
      "    Found existing installation: Send2Trash 1.5.0\n",
      "    Uninstalling Send2Trash-1.5.0:Note: you may need to restart the kernel to use updated packages.\n"
     ]
    },
    {
     "name": "stderr",
     "output_type": "stream",
     "text": [
      "ERROR: Could not install packages due to an OSError: [WinError 5] Access is denied: 'C:\\\\Users\\\\dave_\\\\AppData\\\\Local\\\\Temp\\\\pip-uninstall-9_qu9w0z\\\\jupyter-notebook.exe'\n",
      "Consider using the `--user` option or check the permissions.\n",
      "\n"
     ]
    },
    {
     "name": "stdout",
     "output_type": "stream",
     "text": [
      "\n",
      "      Successfully uninstalled Send2Trash-1.5.0\n",
      "  Attempting uninstall: notebook\n",
      "    Found existing installation: notebook 6.3.0\n",
      "    Uninstalling notebook-6.3.0:\n",
      "      Successfully uninstalled notebook-6.3.0\n"
     ]
    }
   ],
   "source": [
    "pip install -U jupyter notebook"
   ]
  }
 ],
 "metadata": {
  "kernelspec": {
   "display_name": "Python 3",
   "language": "python",
   "name": "python3"
  },
  "language_info": {
   "codemirror_mode": {
    "name": "ipython",
    "version": 3
   },
   "file_extension": ".py",
   "mimetype": "text/x-python",
   "name": "python",
   "nbconvert_exporter": "python",
   "pygments_lexer": "ipython3",
   "version": "3.8.8"
  }
 },
 "nbformat": 4,
 "nbformat_minor": 5
}
