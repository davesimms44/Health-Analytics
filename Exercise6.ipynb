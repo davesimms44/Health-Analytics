{
 "cells": [
  {
   "cell_type": "code",
   "execution_count": 90,
   "id": "294ac2f5",
   "metadata": {},
   "outputs": [],
   "source": [
    "import pandas as pd\n",
    "from datetime import datetime as dt\n",
    "import numpy as np\n",
    "import matplotlib.pyplot as plt\n",
    "import seaborn as sns\n",
    "\n",
    "from patsy import dmatrices\n",
    "import statsmodels.api as sm\n",
    "from sklearn.linear_model import LinearRegression\n",
    "from sklearn.linear_model import LogisticRegression"
   ]
  },
  {
   "cell_type": "code",
   "execution_count": 91,
   "id": "83786668",
   "metadata": {},
   "outputs": [
    {
     "data": {
      "text/plain": [
       "'C:\\\\Users\\\\dave_\\\\Desktop\\\\DHDA\\\\SEMESTER2\\\\Data Analytics II\\\\Week 6 - logistic regression'"
      ]
     },
     "execution_count": 91,
     "metadata": {},
     "output_type": "execute_result"
    }
   ],
   "source": [
    "import os\n",
    "os.getcwd()"
   ]
  },
  {
   "cell_type": "code",
   "execution_count": 92,
   "id": "689fa6c5",
   "metadata": {},
   "outputs": [],
   "source": [
    "xtrcovbs = pd.read_sas('xtrfxcovbs.sas7bdat', format='sas7bdat')"
   ]
  },
  {
   "cell_type": "code",
   "execution_count": 93,
   "id": "2ef2d82c",
   "metadata": {
    "scrolled": true
   },
   "outputs": [
    {
     "data": {
      "text/plain": [
       "Index(['replicate', 't_xtrdate', 'r_xtrdate', 'nonewosteofx_enddate',\n",
       "       'nonewhipfx_enddate', 'qid', 't_fl_fea', 't_ctpo_ec', 't_ttar',\n",
       "       't_ctar', 't_tbar', 't_ttbmd', 't_ctbmd', 't_ctth', 't_tbbmd', 't_tbn',\n",
       "       't_tbth', 't_tbsp', 't_moart', 'r_fl_fea', 'r_ctpo_ec', 'r_ttar',\n",
       "       'r_ctar', 'r_tbar', 'r_ttbmd', 'r_ctbmd', 'r_ctth', 'r_tbbmd', 'r_tbn',\n",
       "       'r_tbth', 'r_tbsp', 'r_moart', 't_bvtv', 'r_bvtv', 'fnewopfxd',\n",
       "       'fnewhipfxd', 'newosteofx', 'firstnewosteofx_site',\n",
       "       'firstnewosteofx_year', 'firstnewosteofx_month', 'firstnewosteofx_day',\n",
       "       'newosteofx_trauma', 'newhipfx', 'firstnewhipfx_year',\n",
       "       'firstnewhipfx_month', 'firstnewhipfx_day', 'newhipfx_trauma',\n",
       "       'nonewosteofx_enddispo', 'nonewhipfx_enddispo', 'age', 'height',\n",
       "       'weight', 'centre', 'parenthipfx', 'prevfx_any', 'cig_cur',\n",
       "       'nbalc_week', 'rheu_ever', 'cortico_oral_reg', 'secop', 'nbfall_pastyr',\n",
       "       'everlost10lbs', 'osteomed', 'i', 'prev_backmt', 'prev_hipmt', 'hicnum',\n",
       "       'sex', 'type1diabetes_ever', 'untreat_hyperthyr_ever', 'age_at_menop',\n",
       "       'meno_status', 'liver_ever', 'status', 'r_ttop', 't_ttop', 'r_tthip',\n",
       "       't_tthip', 'numberhits', 'id'],\n",
       "      dtype='object')"
      ]
     },
     "execution_count": 93,
     "metadata": {},
     "output_type": "execute_result"
    }
   ],
   "source": [
    "xtrcovbs.columns = xtrcovbs.columns.str.lower()\n",
    "xtrcovbs.columns"
   ]
  },
  {
   "cell_type": "code",
   "execution_count": 94,
   "id": "d08cf67a",
   "metadata": {},
   "outputs": [
    {
     "data": {
      "text/plain": [
       "t_tbsp  age    height  weight  newosteofx\n",
       "False   False  False   False   False         1192\n",
       "dtype: int64"
      ]
     },
     "execution_count": 94,
     "metadata": {},
     "output_type": "execute_result"
    }
   ],
   "source": [
    "#drop all rows with missing values for the variables you are looking at\n",
    "xtrfx = xtrcovbs[['t_tbsp','age',\"height\", \"weight\",\"newosteofx\"]].dropna()\n",
    "\n",
    "np.isnan(xtrfx).value_counts()"
   ]
  },
  {
   "cell_type": "code",
   "execution_count": 95,
   "id": "a407e474",
   "metadata": {},
   "outputs": [],
   "source": [
    "#sklearn\n",
    "x = xtrfx[[\"t_tbsp\"]] # 2D array\n",
    "y = xtrfx[\"newosteofx\"]\n",
    "\n",
    "logmod = LogisticRegression(fit_intercept = True, penalty='none', solver='newton-cg')\n",
    "fxmod = logmod.fit(x, y)"
   ]
  },
  {
   "cell_type": "code",
   "execution_count": 96,
   "id": "e6346043",
   "metadata": {},
   "outputs": [],
   "source": [
    "# Then to get results: \n",
    "r_sq = fxmod.score(x, y)\n",
    "intercept, coefficients = fxmod.intercept_, fxmod.coef_\n",
    "\n",
    "# NOTE: that by default, just like in SAS & R, the intercept is modeled here "
   ]
  },
  {
   "cell_type": "code",
   "execution_count": 97,
   "id": "64771c2f",
   "metadata": {},
   "outputs": [
    {
     "data": {
      "text/plain": [
       "(0.8976510067114094, array([-3.0578872]), array([[1.61227097]]))"
      ]
     },
     "execution_count": 97,
     "metadata": {},
     "output_type": "execute_result"
    }
   ],
   "source": [
    "r_sq, intercept, coefficients"
   ]
  },
  {
   "cell_type": "code",
   "execution_count": 98,
   "id": "31dbd7ba",
   "metadata": {
    "scrolled": true
   },
   "outputs": [
    {
     "data": {
      "text/plain": [
       "5.014185358679075"
      ]
     },
     "execution_count": 98,
     "metadata": {},
     "output_type": "execute_result"
    }
   ],
   "source": [
    "# odds ratio for age:\n",
    "np.exp(coefficients[0][0])\n",
    "\n",
    "# note: unfortunately there is no easy way to generate confidence intervals in sklearn"
   ]
  },
  {
   "cell_type": "markdown",
   "id": "9a1b84b9",
   "metadata": {},
   "source": [
    "#statsmodel"
   ]
  },
  {
   "cell_type": "code",
   "execution_count": 99,
   "id": "e39b7579",
   "metadata": {},
   "outputs": [],
   "source": [
    "#statsmodel\n",
    "#outcome - newosteofx\n",
    "#exposure - t_tbsp\n",
    "#covariates - age, bmi\n",
    "xtrfx = xtrcovbs[[\"age\", \"height\", \"weight\", \"newosteofx\", 't_tbsp']].dropna()\n",
    "xtrfx['bmi'] = xtrfx.weight / (xtrfx.height / 100) **2\n",
    "x = xtrfx[[\"t_tbsp\", \"age\", \"bmi\"]] # 2D array\n",
    "y = xtrfx[\"newosteofx\"]"
   ]
  },
  {
   "cell_type": "code",
   "execution_count": 100,
   "id": "861c3171",
   "metadata": {},
   "outputs": [],
   "source": [
    "# need to manually add a constant 1.0 to get intercept\t\t \n",
    "# NOTE: unlike SAS, R, and scikitlearn, this step needs to be explicit\n",
    "x1 = sm.add_constant(x)"
   ]
  },
  {
   "cell_type": "code",
   "execution_count": 101,
   "id": "a96e901b",
   "metadata": {
    "scrolled": true
   },
   "outputs": [
    {
     "name": "stdout",
     "output_type": "stream",
     "text": [
      "Optimization terminated successfully.\n",
      "         Current function value: 0.321166\n",
      "         Iterations 6\n",
      "                           Logit Regression Results                           \n",
      "==============================================================================\n",
      "Dep. Variable:             newosteofx   No. Observations:                 1192\n",
      "Model:                          Logit   Df Residuals:                     1188\n",
      "Method:                           MLE   Df Model:                            3\n",
      "Date:                Wed, 23 Feb 2022   Pseudo R-squ.:                 0.01650\n",
      "Time:                        15:11:06   Log-Likelihood:                -382.83\n",
      "converged:                       True   LL-Null:                       -389.25\n",
      "Covariance Type:            nonrobust   LLR p-value:                  0.004977\n",
      "==============================================================================\n",
      "                 coef    std err          z      P>|z|      [0.025      0.975]\n",
      "------------------------------------------------------------------------------\n",
      "const         -4.2175      1.143     -3.690      0.000      -6.458      -1.977\n",
      "t_tbsp         1.5448      0.465      3.325      0.001       0.634       2.455\n",
      "age            0.0167      0.013      1.288      0.198      -0.009       0.042\n",
      "bmi           -0.0011      0.019     -0.056      0.955      -0.038       0.036\n",
      "==============================================================================\n"
     ]
    }
   ],
   "source": [
    "fxmod2 = sm.Logit(y, x1)\n",
    "model2fit = fxmod2.fit()\n",
    "\n",
    "print(model2fit.summary())"
   ]
  },
  {
   "cell_type": "code",
   "execution_count": 102,
   "id": "8cd5c228",
   "metadata": {},
   "outputs": [
    {
     "data": {
      "text/plain": [
       "const    -4.217527\n",
       "t_tbsp    1.544817\n",
       "age       0.016667\n",
       "bmi      -0.001058\n",
       "dtype: float64"
      ]
     },
     "execution_count": 102,
     "metadata": {},
     "output_type": "execute_result"
    }
   ],
   "source": [
    "model2fit.params"
   ]
  },
  {
   "cell_type": "code",
   "execution_count": 103,
   "id": "61fbd488",
   "metadata": {
    "scrolled": true
   },
   "outputs": [
    {
     "data": {
      "text/plain": [
       "const     0.01\n",
       "t_tbsp    4.69\n",
       "age       1.02\n",
       "bmi       1.00\n",
       "dtype: float64"
      ]
     },
     "execution_count": 103,
     "metadata": {},
     "output_type": "execute_result"
    }
   ],
   "source": [
    "round(np.exp(model2fit.params),2)"
   ]
  },
  {
   "cell_type": "code",
   "execution_count": 104,
   "id": "cd5d855c",
   "metadata": {
    "scrolled": true
   },
   "outputs": [
    {
     "data": {
      "text/html": [
       "<div>\n",
       "<style scoped>\n",
       "    .dataframe tbody tr th:only-of-type {\n",
       "        vertical-align: middle;\n",
       "    }\n",
       "\n",
       "    .dataframe tbody tr th {\n",
       "        vertical-align: top;\n",
       "    }\n",
       "\n",
       "    .dataframe thead th {\n",
       "        text-align: right;\n",
       "    }\n",
       "</style>\n",
       "<table border=\"1\" class=\"dataframe\">\n",
       "  <thead>\n",
       "    <tr style=\"text-align: right;\">\n",
       "      <th></th>\n",
       "      <th>5% CI</th>\n",
       "      <th>95% CI</th>\n",
       "      <th>Odds Ratio</th>\n",
       "    </tr>\n",
       "  </thead>\n",
       "  <tbody>\n",
       "    <tr>\n",
       "      <th>const</th>\n",
       "      <td>0.00</td>\n",
       "      <td>0.14</td>\n",
       "      <td>0.01</td>\n",
       "    </tr>\n",
       "    <tr>\n",
       "      <th>t_tbsp</th>\n",
       "      <td>1.89</td>\n",
       "      <td>11.65</td>\n",
       "      <td>4.69</td>\n",
       "    </tr>\n",
       "    <tr>\n",
       "      <th>age</th>\n",
       "      <td>0.99</td>\n",
       "      <td>1.04</td>\n",
       "      <td>1.02</td>\n",
       "    </tr>\n",
       "    <tr>\n",
       "      <th>bmi</th>\n",
       "      <td>0.96</td>\n",
       "      <td>1.04</td>\n",
       "      <td>1.00</td>\n",
       "    </tr>\n",
       "  </tbody>\n",
       "</table>\n",
       "</div>"
      ],
      "text/plain": [
       "        5% CI  95% CI  Odds Ratio\n",
       "const    0.00    0.14        0.01\n",
       "t_tbsp   1.89   11.65        4.69\n",
       "age      0.99    1.04        1.02\n",
       "bmi      0.96    1.04        1.00"
      ]
     },
     "execution_count": 104,
     "metadata": {},
     "output_type": "execute_result"
    }
   ],
   "source": [
    "orparm = model2fit.params\n",
    "conf = model2fit.conf_int()\n",
    "\n",
    "# add column for odds ratio (OR) determined above\n",
    "conf['Odds Ratio'] = orparm\n",
    "conf.columns = ['5% CI', '95% CI', 'Odds Ratio'] # change column names \n",
    "\n",
    "ortable = round(np.exp(conf),2)\n",
    "ortable"
   ]
  },
  {
   "cell_type": "markdown",
   "id": "caa1fbce",
   "metadata": {},
   "source": [
    "redo expressed as 1 SD change"
   ]
  },
  {
   "cell_type": "code",
   "execution_count": 105,
   "id": "5ccb3f1c",
   "metadata": {},
   "outputs": [
    {
     "data": {
      "text/html": [
       "<div>\n",
       "<style scoped>\n",
       "    .dataframe tbody tr th:only-of-type {\n",
       "        vertical-align: middle;\n",
       "    }\n",
       "\n",
       "    .dataframe tbody tr th {\n",
       "        vertical-align: top;\n",
       "    }\n",
       "\n",
       "    .dataframe thead th {\n",
       "        text-align: right;\n",
       "    }\n",
       "</style>\n",
       "<table border=\"1\" class=\"dataframe\">\n",
       "  <thead>\n",
       "    <tr style=\"text-align: right;\">\n",
       "      <th></th>\n",
       "      <th>const</th>\n",
       "      <th>t_tbsp</th>\n",
       "      <th>age</th>\n",
       "      <th>bmi</th>\n",
       "    </tr>\n",
       "  </thead>\n",
       "  <tbody>\n",
       "    <tr>\n",
       "      <th>0</th>\n",
       "      <td>1.0</td>\n",
       "      <td>3.568733</td>\n",
       "      <td>75.0</td>\n",
       "      <td>25.269310</td>\n",
       "    </tr>\n",
       "    <tr>\n",
       "      <th>1</th>\n",
       "      <td>1.0</td>\n",
       "      <td>3.568733</td>\n",
       "      <td>75.0</td>\n",
       "      <td>25.269310</td>\n",
       "    </tr>\n",
       "    <tr>\n",
       "      <th>2</th>\n",
       "      <td>1.0</td>\n",
       "      <td>2.694170</td>\n",
       "      <td>69.0</td>\n",
       "      <td>33.628662</td>\n",
       "    </tr>\n",
       "    <tr>\n",
       "      <th>3</th>\n",
       "      <td>1.0</td>\n",
       "      <td>3.415516</td>\n",
       "      <td>69.0</td>\n",
       "      <td>26.657922</td>\n",
       "    </tr>\n",
       "    <tr>\n",
       "      <th>4</th>\n",
       "      <td>1.0</td>\n",
       "      <td>2.980992</td>\n",
       "      <td>78.0</td>\n",
       "      <td>27.452494</td>\n",
       "    </tr>\n",
       "  </tbody>\n",
       "</table>\n",
       "</div>"
      ],
      "text/plain": [
       "   const    t_tbsp   age        bmi\n",
       "0    1.0  3.568733  75.0  25.269310\n",
       "1    1.0  3.568733  75.0  25.269310\n",
       "2    1.0  2.694170  69.0  33.628662\n",
       "3    1.0  3.415516  69.0  26.657922\n",
       "4    1.0  2.980992  78.0  27.452494"
      ]
     },
     "execution_count": 105,
     "metadata": {},
     "output_type": "execute_result"
    }
   ],
   "source": [
    "x1b.head()"
   ]
  },
  {
   "cell_type": "code",
   "execution_count": 106,
   "id": "5fcd7c59",
   "metadata": {},
   "outputs": [
    {
     "data": {
      "text/plain": [
       "1.000000000000001"
      ]
     },
     "execution_count": 106,
     "metadata": {},
     "output_type": "execute_result"
    }
   ],
   "source": [
    "np.std(x1b['t_tbsp'])"
   ]
  },
  {
   "cell_type": "code",
   "execution_count": 107,
   "id": "7b077fd1",
   "metadata": {},
   "outputs": [],
   "source": [
    "x1b = x1.copy()\n",
    "x1b['t_tbsp'] = x1b['t_tbsp']/np.std(x1b['t_tbsp'])"
   ]
  },
  {
   "cell_type": "code",
   "execution_count": 108,
   "id": "64bbd644",
   "metadata": {
    "scrolled": true
   },
   "outputs": [
    {
     "name": "stdout",
     "output_type": "stream",
     "text": [
      "Optimization terminated successfully.\n",
      "         Current function value: 0.321166\n",
      "         Iterations 6\n",
      "                           Logit Regression Results                           \n",
      "==============================================================================\n",
      "Dep. Variable:             newosteofx   No. Observations:                 1192\n",
      "Model:                          Logit   Df Residuals:                     1188\n",
      "Method:                           MLE   Df Model:                            3\n",
      "Date:                Wed, 23 Feb 2022   Pseudo R-squ.:                 0.01650\n",
      "Time:                        15:11:06   Log-Likelihood:                -382.83\n",
      "converged:                       True   LL-Null:                       -389.25\n",
      "Covariance Type:            nonrobust   LLR p-value:                  0.004977\n",
      "==============================================================================\n",
      "                 coef    std err          z      P>|z|      [0.025      0.975]\n",
      "------------------------------------------------------------------------------\n",
      "const         -4.2175      1.143     -3.690      0.000      -6.458      -1.977\n",
      "t_tbsp         0.2521      0.076      3.325      0.001       0.103       0.401\n",
      "age            0.0167      0.013      1.288      0.198      -0.009       0.042\n",
      "bmi           -0.0011      0.019     -0.056      0.955      -0.038       0.036\n",
      "==============================================================================\n"
     ]
    }
   ],
   "source": [
    "fxmod2b = sm.Logit(y, x1b)\n",
    "model2bfit = fxmod2b.fit()\n",
    "\n",
    "print(model2bfit.summary())"
   ]
  },
  {
   "cell_type": "code",
   "execution_count": 109,
   "id": "cc8b48d6",
   "metadata": {
    "scrolled": true
   },
   "outputs": [
    {
     "data": {
      "text/plain": [
       "const     0.01\n",
       "t_tbsp    1.29\n",
       "age       1.02\n",
       "bmi       1.00\n",
       "dtype: float64"
      ]
     },
     "execution_count": 109,
     "metadata": {},
     "output_type": "execute_result"
    }
   ],
   "source": [
    "ortable = round(np.exp(model2bfit.params),2)\n",
    "ortable"
   ]
  },
  {
   "cell_type": "code",
   "execution_count": 110,
   "id": "547df3f0",
   "metadata": {
    "scrolled": true
   },
   "outputs": [
    {
     "data": {
      "text/html": [
       "<div>\n",
       "<style scoped>\n",
       "    .dataframe tbody tr th:only-of-type {\n",
       "        vertical-align: middle;\n",
       "    }\n",
       "\n",
       "    .dataframe tbody tr th {\n",
       "        vertical-align: top;\n",
       "    }\n",
       "\n",
       "    .dataframe thead th {\n",
       "        text-align: right;\n",
       "    }\n",
       "</style>\n",
       "<table border=\"1\" class=\"dataframe\">\n",
       "  <thead>\n",
       "    <tr style=\"text-align: right;\">\n",
       "      <th></th>\n",
       "      <th>5%</th>\n",
       "      <th>95%</th>\n",
       "      <th>Odds Ratio</th>\n",
       "    </tr>\n",
       "  </thead>\n",
       "  <tbody>\n",
       "    <tr>\n",
       "      <th>const</th>\n",
       "      <td>0.00</td>\n",
       "      <td>0.14</td>\n",
       "      <td>0.01</td>\n",
       "    </tr>\n",
       "    <tr>\n",
       "      <th>t_tbsp</th>\n",
       "      <td>1.11</td>\n",
       "      <td>1.49</td>\n",
       "      <td>1.29</td>\n",
       "    </tr>\n",
       "    <tr>\n",
       "      <th>age</th>\n",
       "      <td>0.99</td>\n",
       "      <td>1.04</td>\n",
       "      <td>1.02</td>\n",
       "    </tr>\n",
       "    <tr>\n",
       "      <th>bmi</th>\n",
       "      <td>0.96</td>\n",
       "      <td>1.04</td>\n",
       "      <td>1.00</td>\n",
       "    </tr>\n",
       "  </tbody>\n",
       "</table>\n",
       "</div>"
      ],
      "text/plain": [
       "          5%   95%  Odds Ratio\n",
       "const   0.00  0.14        0.01\n",
       "t_tbsp  1.11  1.49        1.29\n",
       "age     0.99  1.04        1.02\n",
       "bmi     0.96  1.04        1.00"
      ]
     },
     "execution_count": 110,
     "metadata": {},
     "output_type": "execute_result"
    }
   ],
   "source": [
    "orparmb = model2bfit.params\n",
    "confb = model2bfit.conf_int()\n",
    "\n",
    "# add column for odds ratio (OR) determined above\n",
    "confb['Odds Ratio'] = orparmb\n",
    "confb.columns = ['5%', '95%', 'Odds Ratio'] # change column names \n",
    "\n",
    "ortableb = round(np.exp(confb),2)\n",
    "ortableb"
   ]
  },
  {
   "cell_type": "markdown",
   "id": "50597d79",
   "metadata": {},
   "source": [
    "#set categorical exposure variable by creating ref variable "
   ]
  },
  {
   "cell_type": "code",
   "execution_count": 111,
   "id": "5e817303",
   "metadata": {},
   "outputs": [],
   "source": [
    "import patsy # when using a categorical exposure, need to use formula instead of a list of variables"
   ]
  },
  {
   "cell_type": "code",
   "execution_count": 112,
   "id": "70076e70",
   "metadata": {},
   "outputs": [],
   "source": [
    "xtrcovbs2 = xtrcovbs.copy()"
   ]
  },
  {
   "cell_type": "code",
   "execution_count": 113,
   "id": "5e785a6f",
   "metadata": {},
   "outputs": [],
   "source": [
    "# making sure no missing values\n",
    "xtrfx = xtrcovbs2[[\"t_ctth\",'age', \"height\", \"weight\", \"newosteofx\"]].dropna()\n",
    "#code bmi \n",
    "xtrfx['bmi'] = xtrfx.weight / (xtrfx.height / 100) **2\n",
    "\n",
    "#code t_ctth_cat \n",
    "xtrfx.loc[xtrfx['t_ctth'] < 0.77, 't_ctth_cat'] = 1   \n",
    "xtrfx.loc[xtrfx['t_ctth'] < 0.96, 't_ctth_cat'] = 2 \n",
    "xtrfx.loc[xtrfx['t_ctth'] < 1.12, 't_ctth_cat'] = 3\n",
    "xtrfx.loc[xtrfx['t_ctth'] > 1.12, 't_ctth_cat'] = 4\n",
    "\n",
    "y1c, x1c = patsy.dmatrices(\"newosteofx ~ C(t_ctth_cat) + age + bmi\",\n",
    "                        data=xtrfx,\n",
    "                        return_type=\"dataframe\")"
   ]
  },
  {
   "cell_type": "code",
   "execution_count": 114,
   "id": "d63e3713",
   "metadata": {
    "scrolled": true
   },
   "outputs": [
    {
     "data": {
      "text/html": [
       "<div>\n",
       "<style scoped>\n",
       "    .dataframe tbody tr th:only-of-type {\n",
       "        vertical-align: middle;\n",
       "    }\n",
       "\n",
       "    .dataframe tbody tr th {\n",
       "        vertical-align: top;\n",
       "    }\n",
       "\n",
       "    .dataframe thead th {\n",
       "        text-align: right;\n",
       "    }\n",
       "</style>\n",
       "<table border=\"1\" class=\"dataframe\">\n",
       "  <thead>\n",
       "    <tr style=\"text-align: right;\">\n",
       "      <th></th>\n",
       "      <th>Intercept</th>\n",
       "      <th>C(t_ctth_cat)[T.4.0]</th>\n",
       "      <th>age</th>\n",
       "      <th>bmi</th>\n",
       "    </tr>\n",
       "  </thead>\n",
       "  <tbody>\n",
       "    <tr>\n",
       "      <th>0</th>\n",
       "      <td>1.0</td>\n",
       "      <td>0.0</td>\n",
       "      <td>75.0</td>\n",
       "      <td>25.269310</td>\n",
       "    </tr>\n",
       "    <tr>\n",
       "      <th>1</th>\n",
       "      <td>1.0</td>\n",
       "      <td>0.0</td>\n",
       "      <td>75.0</td>\n",
       "      <td>25.269310</td>\n",
       "    </tr>\n",
       "    <tr>\n",
       "      <th>2</th>\n",
       "      <td>1.0</td>\n",
       "      <td>0.0</td>\n",
       "      <td>69.0</td>\n",
       "      <td>33.628662</td>\n",
       "    </tr>\n",
       "    <tr>\n",
       "      <th>3</th>\n",
       "      <td>1.0</td>\n",
       "      <td>1.0</td>\n",
       "      <td>69.0</td>\n",
       "      <td>26.657922</td>\n",
       "    </tr>\n",
       "    <tr>\n",
       "      <th>4</th>\n",
       "      <td>1.0</td>\n",
       "      <td>1.0</td>\n",
       "      <td>78.0</td>\n",
       "      <td>27.452494</td>\n",
       "    </tr>\n",
       "    <tr>\n",
       "      <th>...</th>\n",
       "      <td>...</td>\n",
       "      <td>...</td>\n",
       "      <td>...</td>\n",
       "      <td>...</td>\n",
       "    </tr>\n",
       "    <tr>\n",
       "      <th>1226</th>\n",
       "      <td>1.0</td>\n",
       "      <td>0.0</td>\n",
       "      <td>70.0</td>\n",
       "      <td>24.236686</td>\n",
       "    </tr>\n",
       "    <tr>\n",
       "      <th>1227</th>\n",
       "      <td>1.0</td>\n",
       "      <td>0.0</td>\n",
       "      <td>70.0</td>\n",
       "      <td>24.236686</td>\n",
       "    </tr>\n",
       "    <tr>\n",
       "      <th>1228</th>\n",
       "      <td>1.0</td>\n",
       "      <td>0.0</td>\n",
       "      <td>70.0</td>\n",
       "      <td>24.236686</td>\n",
       "    </tr>\n",
       "    <tr>\n",
       "      <th>1229</th>\n",
       "      <td>1.0</td>\n",
       "      <td>0.0</td>\n",
       "      <td>70.0</td>\n",
       "      <td>24.236686</td>\n",
       "    </tr>\n",
       "    <tr>\n",
       "      <th>1230</th>\n",
       "      <td>1.0</td>\n",
       "      <td>0.0</td>\n",
       "      <td>85.0</td>\n",
       "      <td>18.869689</td>\n",
       "    </tr>\n",
       "  </tbody>\n",
       "</table>\n",
       "<p>1189 rows × 4 columns</p>\n",
       "</div>"
      ],
      "text/plain": [
       "      Intercept  C(t_ctth_cat)[T.4.0]   age        bmi\n",
       "0           1.0                   0.0  75.0  25.269310\n",
       "1           1.0                   0.0  75.0  25.269310\n",
       "2           1.0                   0.0  69.0  33.628662\n",
       "3           1.0                   1.0  69.0  26.657922\n",
       "4           1.0                   1.0  78.0  27.452494\n",
       "...         ...                   ...   ...        ...\n",
       "1226        1.0                   0.0  70.0  24.236686\n",
       "1227        1.0                   0.0  70.0  24.236686\n",
       "1228        1.0                   0.0  70.0  24.236686\n",
       "1229        1.0                   0.0  70.0  24.236686\n",
       "1230        1.0                   0.0  85.0  18.869689\n",
       "\n",
       "[1189 rows x 4 columns]"
      ]
     },
     "execution_count": 114,
     "metadata": {},
     "output_type": "execute_result"
    }
   ],
   "source": [
    "x1c"
   ]
  },
  {
   "cell_type": "code",
   "execution_count": 115,
   "id": "e5a3bced",
   "metadata": {},
   "outputs": [
    {
     "name": "stdout",
     "output_type": "stream",
     "text": [
      "Optimization terminated successfully.\n",
      "         Current function value: 0.323294\n",
      "         Iterations 7\n",
      "                           Logit Regression Results                           \n",
      "==============================================================================\n",
      "Dep. Variable:             newosteofx   No. Observations:                 1189\n",
      "Model:                          Logit   Df Residuals:                     1185\n",
      "Method:                           MLE   Df Model:                            3\n",
      "Date:                Wed, 23 Feb 2022   Pseudo R-squ.:                 0.01167\n",
      "Time:                        15:11:06   Log-Likelihood:                -384.40\n",
      "converged:                       True   LL-Null:                       -388.93\n",
      "Covariance Type:            nonrobust   LLR p-value:                   0.02829\n",
      "========================================================================================\n",
      "                           coef    std err          z      P>|z|      [0.025      0.975]\n",
      "----------------------------------------------------------------------------------------\n",
      "Intercept               -2.8386      1.114     -2.547      0.011      -5.023      -0.655\n",
      "C(t_ctth_cat)[T.4.0]    -0.6375      0.269     -2.366      0.018      -1.166      -0.109\n",
      "age                      0.0118      0.013      0.905      0.365      -0.014       0.037\n",
      "bmi                     -0.0030      0.019     -0.164      0.870      -0.040       0.033\n",
      "========================================================================================\n"
     ]
    }
   ],
   "source": [
    "fxmod2c = sm.Logit(y1c, x1c)\n",
    "model2cfit = fxmod2c.fit()\n",
    "\n",
    "# If no referent defined, always uses first category\n",
    "print(model2cfit.summary())"
   ]
  },
  {
   "cell_type": "code",
   "execution_count": 116,
   "id": "c975bd46",
   "metadata": {
    "scrolled": true
   },
   "outputs": [
    {
     "data": {
      "text/html": [
       "<div>\n",
       "<style scoped>\n",
       "    .dataframe tbody tr th:only-of-type {\n",
       "        vertical-align: middle;\n",
       "    }\n",
       "\n",
       "    .dataframe tbody tr th {\n",
       "        vertical-align: top;\n",
       "    }\n",
       "\n",
       "    .dataframe thead th {\n",
       "        text-align: right;\n",
       "    }\n",
       "</style>\n",
       "<table border=\"1\" class=\"dataframe\">\n",
       "  <thead>\n",
       "    <tr style=\"text-align: right;\">\n",
       "      <th></th>\n",
       "      <th>5%</th>\n",
       "      <th>95%</th>\n",
       "      <th>Odds Ratio</th>\n",
       "    </tr>\n",
       "  </thead>\n",
       "  <tbody>\n",
       "    <tr>\n",
       "      <th>Intercept</th>\n",
       "      <td>0.01</td>\n",
       "      <td>0.52</td>\n",
       "      <td>0.06</td>\n",
       "    </tr>\n",
       "    <tr>\n",
       "      <th>C(t_ctth_cat)[T.4.0]</th>\n",
       "      <td>0.31</td>\n",
       "      <td>0.90</td>\n",
       "      <td>0.53</td>\n",
       "    </tr>\n",
       "    <tr>\n",
       "      <th>age</th>\n",
       "      <td>0.99</td>\n",
       "      <td>1.04</td>\n",
       "      <td>1.01</td>\n",
       "    </tr>\n",
       "    <tr>\n",
       "      <th>bmi</th>\n",
       "      <td>0.96</td>\n",
       "      <td>1.03</td>\n",
       "      <td>1.00</td>\n",
       "    </tr>\n",
       "  </tbody>\n",
       "</table>\n",
       "</div>"
      ],
      "text/plain": [
       "                        5%   95%  Odds Ratio\n",
       "Intercept             0.01  0.52        0.06\n",
       "C(t_ctth_cat)[T.4.0]  0.31  0.90        0.53\n",
       "age                   0.99  1.04        1.01\n",
       "bmi                   0.96  1.03        1.00"
      ]
     },
     "execution_count": 116,
     "metadata": {},
     "output_type": "execute_result"
    }
   ],
   "source": [
    "orparmc = model2cfit.params\n",
    "confc = model2cfit.conf_int()\n",
    "\n",
    "# add column for odds ratio (OR) determined above\n",
    "confc['Odds Ratio'] = orparmc\n",
    "confc.columns = ['5%', '95%', 'Odds Ratio'] # change column names \n",
    "\n",
    "ortablec = round(np.exp(confc),2)\n",
    "ortablec"
   ]
  },
  {
   "cell_type": "markdown",
   "id": "060ec514",
   "metadata": {},
   "source": [
    "REPEAT WITH REFERENT"
   ]
  },
  {
   "cell_type": "code",
   "execution_count": 120,
   "id": "bed6ba54",
   "metadata": {},
   "outputs": [],
   "source": [
    "y1d, x1d = patsy.dmatrices(\"newosteofx ~ C(t_ctth_cat, Treatment(reference=3)) + height + weight\",\n",
    "                        data=xtrfx,\n",
    "                        return_type=\"dataframe\")"
   ]
  },
  {
   "cell_type": "code",
   "execution_count": 1,
   "id": "bae5ace1",
   "metadata": {},
   "outputs": [
    {
     "ename": "NameError",
     "evalue": "name 'data' is not defined",
     "output_type": "error",
     "traceback": [
      "\u001b[1;31m---------------------------------------------------------------------------\u001b[0m",
      "\u001b[1;31mNameError\u001b[0m                                 Traceback (most recent call last)",
      "\u001b[1;32m<ipython-input-1-4fab94e2d5af>\u001b[0m in \u001b[0;36m<module>\u001b[1;34m\u001b[0m\n\u001b[1;32m----> 1\u001b[1;33m \u001b[0mdata\u001b[0m\u001b[1;33m.\u001b[0m\u001b[0mrheu_ever\u001b[0m\u001b[1;33m\u001b[0m\u001b[1;33m\u001b[0m\u001b[0m\n\u001b[0m",
      "\u001b[1;31mNameError\u001b[0m: name 'data' is not defined"
     ]
    }
   ],
   "source": [
    "data.rheu_ever"
   ]
  },
  {
   "cell_type": "code",
   "execution_count": 121,
   "id": "f560128b",
   "metadata": {
    "scrolled": true
   },
   "outputs": [
    {
     "name": "stdout",
     "output_type": "stream",
     "text": [
      "Optimization terminated successfully.\n",
      "         Current function value: 0.322964\n",
      "         Iterations 7\n",
      "                           Logit Regression Results                           \n",
      "==============================================================================\n",
      "Dep. Variable:             newosteofx   No. Observations:                 1189\n",
      "Model:                          Logit   Df Residuals:                     1185\n",
      "Method:                           MLE   Df Model:                            3\n",
      "Date:                Wed, 23 Feb 2022   Pseudo R-squ.:                 0.01268\n",
      "Time:                        15:13:02   Log-Likelihood:                -384.00\n",
      "converged:                       True   LL-Null:                       -388.93\n",
      "Covariance Type:            nonrobust   LLR p-value:                   0.01979\n",
      "================================================================================================================\n",
      "                                                   coef    std err          z      P>|z|      [0.025      0.975]\n",
      "----------------------------------------------------------------------------------------------------------------\n",
      "Intercept                                       -5.2809      2.533     -2.085      0.037     -10.245      -0.316\n",
      "C(t_ctth_cat, Treatment(reference=3))[T.4.0]    -0.6435      0.265     -2.424      0.015      -1.164      -0.123\n",
      "height                                           0.0208      0.017      1.259      0.208      -0.012       0.053\n",
      "weight                                          -0.0014      0.007     -0.190      0.849      -0.016       0.013\n",
      "================================================================================================================\n"
     ]
    }
   ],
   "source": [
    "fxmod2d = sm.Logit(y1d, x1d)\n",
    "model2dfit = fxmod2d.fit()\n",
    "\n",
    "print(model2dfit.summary())"
   ]
  },
  {
   "cell_type": "code",
   "execution_count": 122,
   "id": "69152535",
   "metadata": {},
   "outputs": [
    {
     "data": {
      "text/html": [
       "<div>\n",
       "<style scoped>\n",
       "    .dataframe tbody tr th:only-of-type {\n",
       "        vertical-align: middle;\n",
       "    }\n",
       "\n",
       "    .dataframe tbody tr th {\n",
       "        vertical-align: top;\n",
       "    }\n",
       "\n",
       "    .dataframe thead th {\n",
       "        text-align: right;\n",
       "    }\n",
       "</style>\n",
       "<table border=\"1\" class=\"dataframe\">\n",
       "  <thead>\n",
       "    <tr style=\"text-align: right;\">\n",
       "      <th></th>\n",
       "      <th>5%</th>\n",
       "      <th>95%</th>\n",
       "      <th>Odds Ratio</th>\n",
       "    </tr>\n",
       "  </thead>\n",
       "  <tbody>\n",
       "    <tr>\n",
       "      <th>Intercept</th>\n",
       "      <td>0.00</td>\n",
       "      <td>0.73</td>\n",
       "      <td>0.01</td>\n",
       "    </tr>\n",
       "    <tr>\n",
       "      <th>C(t_ctth_cat, Treatment(reference=3))[T.4.0]</th>\n",
       "      <td>0.31</td>\n",
       "      <td>0.88</td>\n",
       "      <td>0.53</td>\n",
       "    </tr>\n",
       "    <tr>\n",
       "      <th>height</th>\n",
       "      <td>0.99</td>\n",
       "      <td>1.05</td>\n",
       "      <td>1.02</td>\n",
       "    </tr>\n",
       "    <tr>\n",
       "      <th>weight</th>\n",
       "      <td>0.98</td>\n",
       "      <td>1.01</td>\n",
       "      <td>1.00</td>\n",
       "    </tr>\n",
       "  </tbody>\n",
       "</table>\n",
       "</div>"
      ],
      "text/plain": [
       "                                                5%   95%  Odds Ratio\n",
       "Intercept                                     0.00  0.73        0.01\n",
       "C(t_ctth_cat, Treatment(reference=3))[T.4.0]  0.31  0.88        0.53\n",
       "height                                        0.99  1.05        1.02\n",
       "weight                                        0.98  1.01        1.00"
      ]
     },
     "execution_count": 122,
     "metadata": {},
     "output_type": "execute_result"
    }
   ],
   "source": [
    "# Now generating odds ratios: \n",
    "\n",
    "orparmd = model2dfit.params\n",
    "confd = model2dfit.conf_int()\n",
    "\n",
    "# add column for odds ratio (OR) determined above\n",
    "confd['Odds Ratio'] = orparmd\n",
    "confd.columns = ['5%', '95%', 'Odds Ratio'] # change column names \n",
    "\n",
    "ortabled = round(np.exp(confd),2)\n",
    "ortabled"
   ]
  }
 ],
 "metadata": {
  "kernelspec": {
   "display_name": "Python 3",
   "language": "python",
   "name": "python3"
  },
  "language_info": {
   "codemirror_mode": {
    "name": "ipython",
    "version": 3
   },
   "file_extension": ".py",
   "mimetype": "text/x-python",
   "name": "python",
   "nbconvert_exporter": "python",
   "pygments_lexer": "ipython3",
   "version": "3.8.8"
  }
 },
 "nbformat": 4,
 "nbformat_minor": 5
}
