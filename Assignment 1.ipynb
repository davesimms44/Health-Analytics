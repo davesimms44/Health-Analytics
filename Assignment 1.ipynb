{
 "cells": [
  {
   "cell_type": "markdown",
   "id": "6ff6e4ca",
   "metadata": {},
   "source": [
    "# Data Science II: Assignment 1\n",
    "## Performance Assessment Task (PAT) 2"
   ]
  },
  {
   "cell_type": "code",
   "execution_count": 1,
   "id": "056daf74",
   "metadata": {},
   "outputs": [
    {
     "name": "stdout",
     "output_type": "stream",
     "text": [
      "C:\\Users\\Andra\\Documents\\michener dhda\\120 data science ii\\Assignment 1\n"
     ]
    }
   ],
   "source": [
    "%cd C:\\Users\\Andra\\Documents\\michener dhda\\120 data science ii\\Assignment 1"
   ]
  },
  {
   "cell_type": "code",
   "execution_count": 2,
   "id": "b5b8fef6",
   "metadata": {},
   "outputs": [
    {
     "data": {
      "text/plain": [
       "'C:\\\\Users\\\\Andra\\\\Documents\\\\michener dhda\\\\120 data science ii\\\\Assignment 1'"
      ]
     },
     "execution_count": 2,
     "metadata": {},
     "output_type": "execute_result"
    }
   ],
   "source": [
    "%pwd"
   ]
  },
  {
   "cell_type": "code",
   "execution_count": 3,
   "id": "56a3a76c",
   "metadata": {},
   "outputs": [],
   "source": [
    "import os\n",
    "import numpy as np\n",
    "import pandas as pd\n",
    "\n",
    "import matplotlib.pyplot as plt\n",
    "import statsmodels.api as sm\n",
    "import seaborn as sb\n",
    "\n",
    "import statsmodels.api as sm\n",
    "from sklearn.linear_model import LinearRegression\n",
    "\n",
    "from scipy import stats"
   ]
  },
  {
   "cell_type": "code",
   "execution_count": 4,
   "id": "c5102472",
   "metadata": {},
   "outputs": [],
   "source": [
    "# To show the whole data set:\n",
    "# pd.set_option(\"display.max.columns\", None)\n",
    "# pd.set_option(\"display.max.rows\", None)\n",
    "\n",
    "# To reset otherwise it always shows the whole data set\n",
    "# pd.reset_option('all')"
   ]
  },
  {
   "cell_type": "code",
   "execution_count": 5,
   "id": "726f38f6",
   "metadata": {},
   "outputs": [
    {
     "data": {
      "text/html": [
       "<div>\n",
       "<style scoped>\n",
       "    .dataframe tbody tr th:only-of-type {\n",
       "        vertical-align: middle;\n",
       "    }\n",
       "\n",
       "    .dataframe tbody tr th {\n",
       "        vertical-align: top;\n",
       "    }\n",
       "\n",
       "    .dataframe thead th {\n",
       "        text-align: right;\n",
       "    }\n",
       "</style>\n",
       "<table border=\"1\" class=\"dataframe\">\n",
       "  <thead>\n",
       "    <tr style=\"text-align: right;\">\n",
       "      <th></th>\n",
       "      <th>Replicate</th>\n",
       "      <th>t_XTRDate</th>\n",
       "      <th>r_XTRDate</th>\n",
       "      <th>NoNewOsteoFx_EndDate</th>\n",
       "      <th>NoNewhipFx_EndDate</th>\n",
       "      <th>QID</th>\n",
       "      <th>t_FL_FEA</th>\n",
       "      <th>t_CtPo_EC</th>\n",
       "      <th>t_TtAr</th>\n",
       "      <th>t_CtAr</th>\n",
       "      <th>...</th>\n",
       "      <th>age_at_menop</th>\n",
       "      <th>meno_status</th>\n",
       "      <th>liver_ever</th>\n",
       "      <th>STATUS</th>\n",
       "      <th>r_TTOP</th>\n",
       "      <th>t_TTOP</th>\n",
       "      <th>r_TTHip</th>\n",
       "      <th>t_TTHip</th>\n",
       "      <th>NumberHits</th>\n",
       "      <th>ID</th>\n",
       "    </tr>\n",
       "  </thead>\n",
       "  <tbody>\n",
       "    <tr>\n",
       "      <th>0</th>\n",
       "      <td>1.0</td>\n",
       "      <td>2012-04-03</td>\n",
       "      <td>2012-04-03</td>\n",
       "      <td>2014-03-11 00:00:00</td>\n",
       "      <td>2014-03-11 00:00:00</td>\n",
       "      <td>b'CA01519'</td>\n",
       "      <td>4901.9</td>\n",
       "      <td>8.8300</td>\n",
       "      <td>960.47070</td>\n",
       "      <td>72.70221</td>\n",
       "      <td>...</td>\n",
       "      <td>53.0</td>\n",
       "      <td>2.0</td>\n",
       "      <td>0.0</td>\n",
       "      <td>0.0</td>\n",
       "      <td>23.0</td>\n",
       "      <td>23.0</td>\n",
       "      <td>23.0</td>\n",
       "      <td>23.0</td>\n",
       "      <td>2.0</td>\n",
       "      <td>891.0</td>\n",
       "    </tr>\n",
       "    <tr>\n",
       "      <th>1</th>\n",
       "      <td>1.0</td>\n",
       "      <td>2012-04-03</td>\n",
       "      <td>2012-04-03</td>\n",
       "      <td>2014-03-11 00:00:00</td>\n",
       "      <td>2014-03-11 00:00:00</td>\n",
       "      <td>b'CA01519'</td>\n",
       "      <td>4901.9</td>\n",
       "      <td>8.8300</td>\n",
       "      <td>960.47070</td>\n",
       "      <td>72.70221</td>\n",
       "      <td>...</td>\n",
       "      <td>53.0</td>\n",
       "      <td>2.0</td>\n",
       "      <td>0.0</td>\n",
       "      <td>0.0</td>\n",
       "      <td>23.0</td>\n",
       "      <td>23.0</td>\n",
       "      <td>23.0</td>\n",
       "      <td>23.0</td>\n",
       "      <td>2.0</td>\n",
       "      <td>892.0</td>\n",
       "    </tr>\n",
       "    <tr>\n",
       "      <th>2</th>\n",
       "      <td>1.0</td>\n",
       "      <td>2012-03-13</td>\n",
       "      <td>2012-03-13</td>\n",
       "      <td>2015-01-27 00:00:00</td>\n",
       "      <td>2015-01-27 00:00:00</td>\n",
       "      <td>b'CA01545'</td>\n",
       "      <td>6204.0</td>\n",
       "      <td>9.5600</td>\n",
       "      <td>701.02992</td>\n",
       "      <td>99.59033</td>\n",
       "      <td>...</td>\n",
       "      <td>32.0</td>\n",
       "      <td>3.0</td>\n",
       "      <td>0.0</td>\n",
       "      <td>0.0</td>\n",
       "      <td>34.0</td>\n",
       "      <td>34.0</td>\n",
       "      <td>34.0</td>\n",
       "      <td>34.0</td>\n",
       "      <td>1.0</td>\n",
       "      <td>893.0</td>\n",
       "    </tr>\n",
       "    <tr>\n",
       "      <th>3</th>\n",
       "      <td>1.0</td>\n",
       "      <td>2012-03-21</td>\n",
       "      <td>2012-03-21</td>\n",
       "      <td>2015-01-26 00:00:00</td>\n",
       "      <td>2015-01-26 00:00:00</td>\n",
       "      <td>b'CA01590'</td>\n",
       "      <td>5529.5</td>\n",
       "      <td>10.2100</td>\n",
       "      <td>689.24115</td>\n",
       "      <td>104.05397</td>\n",
       "      <td>...</td>\n",
       "      <td>32.0</td>\n",
       "      <td>3.0</td>\n",
       "      <td>0.0</td>\n",
       "      <td>0.0</td>\n",
       "      <td>34.0</td>\n",
       "      <td>34.0</td>\n",
       "      <td>34.0</td>\n",
       "      <td>34.0</td>\n",
       "      <td>1.0</td>\n",
       "      <td>894.0</td>\n",
       "    </tr>\n",
       "    <tr>\n",
       "      <th>4</th>\n",
       "      <td>1.0</td>\n",
       "      <td>2012-10-18</td>\n",
       "      <td>2012-10-18</td>\n",
       "      <td>2015-03-29 00:00:00</td>\n",
       "      <td>2015-03-29 00:00:00</td>\n",
       "      <td>b'CA01620'</td>\n",
       "      <td>5638.3</td>\n",
       "      <td>6.3200</td>\n",
       "      <td>588.60634</td>\n",
       "      <td>109.83789</td>\n",
       "      <td>...</td>\n",
       "      <td>55.0</td>\n",
       "      <td>3.0</td>\n",
       "      <td>0.0</td>\n",
       "      <td>0.0</td>\n",
       "      <td>29.0</td>\n",
       "      <td>29.0</td>\n",
       "      <td>29.0</td>\n",
       "      <td>29.0</td>\n",
       "      <td>3.0</td>\n",
       "      <td>895.0</td>\n",
       "    </tr>\n",
       "    <tr>\n",
       "      <th>...</th>\n",
       "      <td>...</td>\n",
       "      <td>...</td>\n",
       "      <td>...</td>\n",
       "      <td>...</td>\n",
       "      <td>...</td>\n",
       "      <td>...</td>\n",
       "      <td>...</td>\n",
       "      <td>...</td>\n",
       "      <td>...</td>\n",
       "      <td>...</td>\n",
       "      <td>...</td>\n",
       "      <td>...</td>\n",
       "      <td>...</td>\n",
       "      <td>...</td>\n",
       "      <td>...</td>\n",
       "      <td>...</td>\n",
       "      <td>...</td>\n",
       "      <td>...</td>\n",
       "      <td>...</td>\n",
       "      <td>...</td>\n",
       "      <td>...</td>\n",
       "    </tr>\n",
       "    <tr>\n",
       "      <th>1226</th>\n",
       "      <td>1.0</td>\n",
       "      <td>2012-11-22</td>\n",
       "      <td>2012-11-22</td>\n",
       "      <td>2014-06-27 00:00:00</td>\n",
       "      <td>2014-06-27 00:00:00</td>\n",
       "      <td>b'VR02755'</td>\n",
       "      <td>5465.0</td>\n",
       "      <td>0.1475</td>\n",
       "      <td>651.50000</td>\n",
       "      <td>92.40000</td>\n",
       "      <td>...</td>\n",
       "      <td>63.0</td>\n",
       "      <td>3.0</td>\n",
       "      <td>0.0</td>\n",
       "      <td>2.0</td>\n",
       "      <td>19.0</td>\n",
       "      <td>19.0</td>\n",
       "      <td>19.0</td>\n",
       "      <td>19.0</td>\n",
       "      <td>4.0</td>\n",
       "      <td>1421.0</td>\n",
       "    </tr>\n",
       "    <tr>\n",
       "      <th>1227</th>\n",
       "      <td>1.0</td>\n",
       "      <td>2012-11-22</td>\n",
       "      <td>2012-11-22</td>\n",
       "      <td>2014-06-27 00:00:00</td>\n",
       "      <td>2014-06-27 00:00:00</td>\n",
       "      <td>b'VR02755'</td>\n",
       "      <td>5465.0</td>\n",
       "      <td>0.1475</td>\n",
       "      <td>651.50000</td>\n",
       "      <td>92.40000</td>\n",
       "      <td>...</td>\n",
       "      <td>63.0</td>\n",
       "      <td>3.0</td>\n",
       "      <td>0.0</td>\n",
       "      <td>2.0</td>\n",
       "      <td>19.0</td>\n",
       "      <td>19.0</td>\n",
       "      <td>19.0</td>\n",
       "      <td>19.0</td>\n",
       "      <td>4.0</td>\n",
       "      <td>1422.0</td>\n",
       "    </tr>\n",
       "    <tr>\n",
       "      <th>1228</th>\n",
       "      <td>1.0</td>\n",
       "      <td>2012-11-22</td>\n",
       "      <td>2012-11-22</td>\n",
       "      <td>2014-06-27 00:00:00</td>\n",
       "      <td>2014-06-27 00:00:00</td>\n",
       "      <td>b'VR02755'</td>\n",
       "      <td>5465.0</td>\n",
       "      <td>0.1475</td>\n",
       "      <td>651.50000</td>\n",
       "      <td>92.40000</td>\n",
       "      <td>...</td>\n",
       "      <td>63.0</td>\n",
       "      <td>3.0</td>\n",
       "      <td>0.0</td>\n",
       "      <td>2.0</td>\n",
       "      <td>19.0</td>\n",
       "      <td>19.0</td>\n",
       "      <td>19.0</td>\n",
       "      <td>19.0</td>\n",
       "      <td>4.0</td>\n",
       "      <td>1423.0</td>\n",
       "    </tr>\n",
       "    <tr>\n",
       "      <th>1229</th>\n",
       "      <td>1.0</td>\n",
       "      <td>2012-11-22</td>\n",
       "      <td>2012-11-22</td>\n",
       "      <td>2014-06-27 00:00:00</td>\n",
       "      <td>2014-06-27 00:00:00</td>\n",
       "      <td>b'VR02755'</td>\n",
       "      <td>5465.0</td>\n",
       "      <td>0.1475</td>\n",
       "      <td>651.50000</td>\n",
       "      <td>92.40000</td>\n",
       "      <td>...</td>\n",
       "      <td>63.0</td>\n",
       "      <td>3.0</td>\n",
       "      <td>0.0</td>\n",
       "      <td>2.0</td>\n",
       "      <td>19.0</td>\n",
       "      <td>19.0</td>\n",
       "      <td>19.0</td>\n",
       "      <td>19.0</td>\n",
       "      <td>4.0</td>\n",
       "      <td>1424.0</td>\n",
       "    </tr>\n",
       "    <tr>\n",
       "      <th>1230</th>\n",
       "      <td>1.0</td>\n",
       "      <td>2013-07-04</td>\n",
       "      <td>2013-07-04</td>\n",
       "      <td>2014-01-07 00:00:00</td>\n",
       "      <td>2014-01-07 00:00:00</td>\n",
       "      <td>b'VR04913'</td>\n",
       "      <td>3375.0</td>\n",
       "      <td>0.0838</td>\n",
       "      <td>825.30000</td>\n",
       "      <td>16.90000</td>\n",
       "      <td>...</td>\n",
       "      <td>54.0</td>\n",
       "      <td>2.0</td>\n",
       "      <td>0.0</td>\n",
       "      <td>2.0</td>\n",
       "      <td>6.0</td>\n",
       "      <td>6.0</td>\n",
       "      <td>6.0</td>\n",
       "      <td>6.0</td>\n",
       "      <td>1.0</td>\n",
       "      <td>1425.0</td>\n",
       "    </tr>\n",
       "  </tbody>\n",
       "</table>\n",
       "<p>1231 rows × 80 columns</p>\n",
       "</div>"
      ],
      "text/plain": [
       "      Replicate  t_XTRDate  r_XTRDate NoNewOsteoFx_EndDate  \\\n",
       "0           1.0 2012-04-03 2012-04-03  2014-03-11 00:00:00   \n",
       "1           1.0 2012-04-03 2012-04-03  2014-03-11 00:00:00   \n",
       "2           1.0 2012-03-13 2012-03-13  2015-01-27 00:00:00   \n",
       "3           1.0 2012-03-21 2012-03-21  2015-01-26 00:00:00   \n",
       "4           1.0 2012-10-18 2012-10-18  2015-03-29 00:00:00   \n",
       "...         ...        ...        ...                  ...   \n",
       "1226        1.0 2012-11-22 2012-11-22  2014-06-27 00:00:00   \n",
       "1227        1.0 2012-11-22 2012-11-22  2014-06-27 00:00:00   \n",
       "1228        1.0 2012-11-22 2012-11-22  2014-06-27 00:00:00   \n",
       "1229        1.0 2012-11-22 2012-11-22  2014-06-27 00:00:00   \n",
       "1230        1.0 2013-07-04 2013-07-04  2014-01-07 00:00:00   \n",
       "\n",
       "       NoNewhipFx_EndDate         QID  t_FL_FEA  t_CtPo_EC     t_TtAr  \\\n",
       "0     2014-03-11 00:00:00  b'CA01519'    4901.9     8.8300  960.47070   \n",
       "1     2014-03-11 00:00:00  b'CA01519'    4901.9     8.8300  960.47070   \n",
       "2     2015-01-27 00:00:00  b'CA01545'    6204.0     9.5600  701.02992   \n",
       "3     2015-01-26 00:00:00  b'CA01590'    5529.5    10.2100  689.24115   \n",
       "4     2015-03-29 00:00:00  b'CA01620'    5638.3     6.3200  588.60634   \n",
       "...                   ...         ...       ...        ...        ...   \n",
       "1226  2014-06-27 00:00:00  b'VR02755'    5465.0     0.1475  651.50000   \n",
       "1227  2014-06-27 00:00:00  b'VR02755'    5465.0     0.1475  651.50000   \n",
       "1228  2014-06-27 00:00:00  b'VR02755'    5465.0     0.1475  651.50000   \n",
       "1229  2014-06-27 00:00:00  b'VR02755'    5465.0     0.1475  651.50000   \n",
       "1230  2014-01-07 00:00:00  b'VR04913'    3375.0     0.0838  825.30000   \n",
       "\n",
       "         t_CtAr  ...  age_at_menop  meno_status  liver_ever  STATUS  r_TTOP  \\\n",
       "0      72.70221  ...          53.0          2.0         0.0     0.0    23.0   \n",
       "1      72.70221  ...          53.0          2.0         0.0     0.0    23.0   \n",
       "2      99.59033  ...          32.0          3.0         0.0     0.0    34.0   \n",
       "3     104.05397  ...          32.0          3.0         0.0     0.0    34.0   \n",
       "4     109.83789  ...          55.0          3.0         0.0     0.0    29.0   \n",
       "...         ...  ...           ...          ...         ...     ...     ...   \n",
       "1226   92.40000  ...          63.0          3.0         0.0     2.0    19.0   \n",
       "1227   92.40000  ...          63.0          3.0         0.0     2.0    19.0   \n",
       "1228   92.40000  ...          63.0          3.0         0.0     2.0    19.0   \n",
       "1229   92.40000  ...          63.0          3.0         0.0     2.0    19.0   \n",
       "1230   16.90000  ...          54.0          2.0         0.0     2.0     6.0   \n",
       "\n",
       "      t_TTOP  r_TTHip  t_TTHip  NumberHits      ID  \n",
       "0       23.0     23.0     23.0         2.0   891.0  \n",
       "1       23.0     23.0     23.0         2.0   892.0  \n",
       "2       34.0     34.0     34.0         1.0   893.0  \n",
       "3       34.0     34.0     34.0         1.0   894.0  \n",
       "4       29.0     29.0     29.0         3.0   895.0  \n",
       "...      ...      ...      ...         ...     ...  \n",
       "1226    19.0     19.0     19.0         4.0  1421.0  \n",
       "1227    19.0     19.0     19.0         4.0  1422.0  \n",
       "1228    19.0     19.0     19.0         4.0  1423.0  \n",
       "1229    19.0     19.0     19.0         4.0  1424.0  \n",
       "1230     6.0      6.0      6.0         1.0  1425.0  \n",
       "\n",
       "[1231 rows x 80 columns]"
      ]
     },
     "execution_count": 5,
     "metadata": {},
     "output_type": "execute_result"
    }
   ],
   "source": [
    "xtrfxcovbs = pd.read_sas(\"xtrfxcovbs.sas7bdat\",format='sas7bdat')\n",
    "xtrfxcovbs"
   ]
  },
  {
   "cell_type": "markdown",
   "id": "d05a0f2e",
   "metadata": {},
   "source": [
    "Convert variables to lower case"
   ]
  },
  {
   "cell_type": "code",
   "execution_count": 6,
   "id": "b5b079d1",
   "metadata": {},
   "outputs": [
    {
     "data": {
      "text/plain": [
       "Index(['replicate', 't_xtrdate', 'r_xtrdate', 'nonewosteofx_enddate',\n",
       "       'nonewhipfx_enddate', 'qid', 't_fl_fea', 't_ctpo_ec', 't_ttar',\n",
       "       't_ctar', 't_tbar', 't_ttbmd', 't_ctbmd', 't_ctth', 't_tbbmd', 't_tbn',\n",
       "       't_tbth', 't_tbsp', 't_moart', 'r_fl_fea', 'r_ctpo_ec', 'r_ttar',\n",
       "       'r_ctar', 'r_tbar', 'r_ttbmd', 'r_ctbmd', 'r_ctth', 'r_tbbmd', 'r_tbn',\n",
       "       'r_tbth', 'r_tbsp', 'r_moart', 't_bvtv', 'r_bvtv', 'fnewopfxd',\n",
       "       'fnewhipfxd', 'newosteofx', 'firstnewosteofx_site',\n",
       "       'firstnewosteofx_year', 'firstnewosteofx_month', 'firstnewosteofx_day',\n",
       "       'newosteofx_trauma', 'newhipfx', 'firstnewhipfx_year',\n",
       "       'firstnewhipfx_month', 'firstnewhipfx_day', 'newhipfx_trauma',\n",
       "       'nonewosteofx_enddispo', 'nonewhipfx_enddispo', 'age', 'height',\n",
       "       'weight', 'centre', 'parenthipfx', 'prevfx_any', 'cig_cur',\n",
       "       'nbalc_week', 'rheu_ever', 'cortico_oral_reg', 'secop', 'nbfall_pastyr',\n",
       "       'everlost10lbs', 'osteomed', 'i', 'prev_backmt', 'prev_hipmt', 'hicnum',\n",
       "       'sex', 'type1diabetes_ever', 'untreat_hyperthyr_ever', 'age_at_menop',\n",
       "       'meno_status', 'liver_ever', 'status', 'r_ttop', 't_ttop', 'r_tthip',\n",
       "       't_tthip', 'numberhits', 'id'],\n",
       "      dtype='object')"
      ]
     },
     "execution_count": 6,
     "metadata": {},
     "output_type": "execute_result"
    }
   ],
   "source": [
    "xtrfxcovbs.columns = xtrfxcovbs.columns.str.lower()\n",
    "xtrfxcovbs.columns"
   ]
  },
  {
   "cell_type": "markdown",
   "id": "ea52bb0d",
   "metadata": {},
   "source": [
    "### Questions 1 <br>\n",
    "In the dataset xtrfxcovbs.sas7bdat, there is a variable named type1diabetes_ever. This variable indicates whether an individual has ever been diagnosed with diabetes. Which is the most likely distribution that this variable follows? \n",
    "\n",
    "__a.\tBinomial__ <br>\n",
    "b.\tCategorical <br>\n",
    "c.\tOrdinal <br>\n",
    "d.\tInterval <br>\n",
    "e.\tContinuous <br>\n"
   ]
  },
  {
   "cell_type": "markdown",
   "id": "ba907137",
   "metadata": {},
   "source": [
    "_Answer: A. Binomial_"
   ]
  },
  {
   "cell_type": "code",
   "execution_count": 7,
   "id": "a0fbf205",
   "metadata": {},
   "outputs": [
    {
     "data": {
      "text/html": [
       "<div>\n",
       "<style scoped>\n",
       "    .dataframe tbody tr th:only-of-type {\n",
       "        vertical-align: middle;\n",
       "    }\n",
       "\n",
       "    .dataframe tbody tr th {\n",
       "        vertical-align: top;\n",
       "    }\n",
       "\n",
       "    .dataframe thead th {\n",
       "        text-align: right;\n",
       "    }\n",
       "</style>\n",
       "<table border=\"1\" class=\"dataframe\">\n",
       "  <thead>\n",
       "    <tr style=\"text-align: right;\">\n",
       "      <th>col_0</th>\n",
       "      <th>freq</th>\n",
       "    </tr>\n",
       "    <tr>\n",
       "      <th>type1diabetes_ever</th>\n",
       "      <th></th>\n",
       "    </tr>\n",
       "  </thead>\n",
       "  <tbody>\n",
       "    <tr>\n",
       "      <th>0.0</th>\n",
       "      <td>1215</td>\n",
       "    </tr>\n",
       "    <tr>\n",
       "      <th>1.0</th>\n",
       "      <td>15</td>\n",
       "    </tr>\n",
       "  </tbody>\n",
       "</table>\n",
       "</div>"
      ],
      "text/plain": [
       "col_0               freq\n",
       "type1diabetes_ever      \n",
       "0.0                 1215\n",
       "1.0                   15"
      ]
     },
     "execution_count": 7,
     "metadata": {},
     "output_type": "execute_result"
    }
   ],
   "source": [
    "pd.crosstab(index=xtrfxcovbs['type1diabetes_ever'], columns='freq')"
   ]
  },
  {
   "cell_type": "markdown",
   "id": "eca5e0d6",
   "metadata": {},
   "source": [
    "### Question 2\n",
    "In the dataset xtrfxcovbs.sas7bdat, there is a variable named nbalc_week. This variable indicates the number of alcoholic beverages an individual consumes per week. Which is the most likely distribution that this variable follows?\n",
    "\n",
    "a.\tBinomial  <br>\n",
    "b.\tCategorical <br>\n",
    "c.\tOrdinal <br>\n",
    "d.\tInterval <br>\n",
    "__e.\tContinuous__ <br>\n"
   ]
  },
  {
   "cell_type": "markdown",
   "id": "e23aa353",
   "metadata": {},
   "source": [
    "_Answer: e.The way it's coded it seems continuous based on the decimal places. "
   ]
  },
  {
   "cell_type": "code",
   "execution_count": 8,
   "id": "868ce5ef",
   "metadata": {
    "scrolled": true
   },
   "outputs": [
    {
     "data": {
      "text/html": [
       "<div>\n",
       "<style scoped>\n",
       "    .dataframe tbody tr th:only-of-type {\n",
       "        vertical-align: middle;\n",
       "    }\n",
       "\n",
       "    .dataframe tbody tr th {\n",
       "        vertical-align: top;\n",
       "    }\n",
       "\n",
       "    .dataframe thead th {\n",
       "        text-align: right;\n",
       "    }\n",
       "</style>\n",
       "<table border=\"1\" class=\"dataframe\">\n",
       "  <thead>\n",
       "    <tr style=\"text-align: right;\">\n",
       "      <th>col_0</th>\n",
       "      <th>freq</th>\n",
       "    </tr>\n",
       "    <tr>\n",
       "      <th>nbalc_week</th>\n",
       "      <th></th>\n",
       "    </tr>\n",
       "  </thead>\n",
       "  <tbody>\n",
       "    <tr>\n",
       "      <th>0.000000</th>\n",
       "      <td>375</td>\n",
       "    </tr>\n",
       "    <tr>\n",
       "      <th>0.230769</th>\n",
       "      <td>126</td>\n",
       "    </tr>\n",
       "    <tr>\n",
       "      <th>0.461538</th>\n",
       "      <td>66</td>\n",
       "    </tr>\n",
       "    <tr>\n",
       "      <th>0.692308</th>\n",
       "      <td>32</td>\n",
       "    </tr>\n",
       "    <tr>\n",
       "      <th>0.923077</th>\n",
       "      <td>5</td>\n",
       "    </tr>\n",
       "    <tr>\n",
       "      <th>1.000000</th>\n",
       "      <td>119</td>\n",
       "    </tr>\n",
       "    <tr>\n",
       "      <th>1.153846</th>\n",
       "      <td>4</td>\n",
       "    </tr>\n",
       "    <tr>\n",
       "      <th>1.384615</th>\n",
       "      <td>2</td>\n",
       "    </tr>\n",
       "    <tr>\n",
       "      <th>2.000000</th>\n",
       "      <td>93</td>\n",
       "    </tr>\n",
       "    <tr>\n",
       "      <th>2.307692</th>\n",
       "      <td>3</td>\n",
       "    </tr>\n",
       "    <tr>\n",
       "      <th>3.000000</th>\n",
       "      <td>73</td>\n",
       "    </tr>\n",
       "    <tr>\n",
       "      <th>3.230769</th>\n",
       "      <td>1</td>\n",
       "    </tr>\n",
       "    <tr>\n",
       "      <th>4.000000</th>\n",
       "      <td>45</td>\n",
       "    </tr>\n",
       "    <tr>\n",
       "      <th>4.615385</th>\n",
       "      <td>3</td>\n",
       "    </tr>\n",
       "    <tr>\n",
       "      <th>5.000000</th>\n",
       "      <td>21</td>\n",
       "    </tr>\n",
       "    <tr>\n",
       "      <th>6.000000</th>\n",
       "      <td>12</td>\n",
       "    </tr>\n",
       "    <tr>\n",
       "      <th>7.000000</th>\n",
       "      <td>157</td>\n",
       "    </tr>\n",
       "    <tr>\n",
       "      <th>8.000000</th>\n",
       "      <td>1</td>\n",
       "    </tr>\n",
       "    <tr>\n",
       "      <th>10.000000</th>\n",
       "      <td>1</td>\n",
       "    </tr>\n",
       "    <tr>\n",
       "      <th>14.000000</th>\n",
       "      <td>77</td>\n",
       "    </tr>\n",
       "    <tr>\n",
       "      <th>21.000000</th>\n",
       "      <td>10</td>\n",
       "    </tr>\n",
       "    <tr>\n",
       "      <th>23.000000</th>\n",
       "      <td>1</td>\n",
       "    </tr>\n",
       "    <tr>\n",
       "      <th>28.000000</th>\n",
       "      <td>3</td>\n",
       "    </tr>\n",
       "  </tbody>\n",
       "</table>\n",
       "</div>"
      ],
      "text/plain": [
       "col_0       freq\n",
       "nbalc_week      \n",
       "0.000000     375\n",
       "0.230769     126\n",
       "0.461538      66\n",
       "0.692308      32\n",
       "0.923077       5\n",
       "1.000000     119\n",
       "1.153846       4\n",
       "1.384615       2\n",
       "2.000000      93\n",
       "2.307692       3\n",
       "3.000000      73\n",
       "3.230769       1\n",
       "4.000000      45\n",
       "4.615385       3\n",
       "5.000000      21\n",
       "6.000000      12\n",
       "7.000000     157\n",
       "8.000000       1\n",
       "10.000000      1\n",
       "14.000000     77\n",
       "21.000000     10\n",
       "23.000000      1\n",
       "28.000000      3"
      ]
     },
     "execution_count": 8,
     "metadata": {},
     "output_type": "execute_result"
    }
   ],
   "source": [
    "pd.crosstab(index=xtrfxcovbs['nbalc_week'], columns='freq')"
   ]
  },
  {
   "cell_type": "code",
   "execution_count": 9,
   "id": "532486c7",
   "metadata": {},
   "outputs": [
    {
     "data": {
      "text/plain": [
       "False    1230\n",
       "True        1\n",
       "Name: nbalc_week, dtype: int64"
      ]
     },
     "execution_count": 9,
     "metadata": {},
     "output_type": "execute_result"
    }
   ],
   "source": [
    "(np.isnan(xtrfxcovbs['nbalc_week'])).value_counts()"
   ]
  },
  {
   "cell_type": "code",
   "execution_count": 10,
   "id": "81d372a5",
   "metadata": {},
   "outputs": [
    {
     "data": {
      "image/png": "[encoded data removed]",
      "text/plain": [
       "<Figure size 864x432 with 1 Axes>"
      ]
     },
     "metadata": {
      "needs_background": "light"
     },
     "output_type": "display_data"
    }
   ],
   "source": [
    "plt.figure(figsize=(12,6))\n",
    "#plt.title(\"Title\",fontsize=20)\n",
    "plt.hist(data=xtrfxcovbs, x='nbalc_week',edgecolor=\"k\", color=\"beige\", bins=5)\n",
    "plt.xlabel ('Number of Alcoholic Beverages per week', fontsize=16)\n",
    "plt.ylabel ('Frequency', fontsize=16)\n",
    "plt.show()"
   ]
  },
  {
   "cell_type": "markdown",
   "id": "684e2429",
   "metadata": {},
   "source": [
    "### Question 3\n",
    "In the dataset xtrfxcovbs.sas7bdat, there is a variable named CENTRE. This variable indicates the study centre that participants visited to have their data collected. Sites were labelled Centre 1 to 5. Which is the most likely distribution that this variable follows? \n",
    "\n",
    "a.\tBinomial <br>\n",
    "__b.\tCategorical__ <br>\n",
    "c.\tOrdinal <br>\n",
    "d.\tInterval <br>\n",
    "e.\tContinuous <br>\n"
   ]
  },
  {
   "cell_type": "markdown",
   "id": "36d8e775",
   "metadata": {},
   "source": [
    "_Answer: b.Categorical_"
   ]
  },
  {
   "cell_type": "code",
   "execution_count": 11,
   "id": "4c44a607",
   "metadata": {},
   "outputs": [
    {
     "data": {
      "text/plain": [
       "0       1.0\n",
       "1       1.0\n",
       "2       1.0\n",
       "3       1.0\n",
       "4       1.0\n",
       "       ... \n",
       "1226    5.0\n",
       "1227    5.0\n",
       "1228    5.0\n",
       "1229    5.0\n",
       "1230    5.0\n",
       "Name: centre, Length: 1231, dtype: float64"
      ]
     },
     "execution_count": 11,
     "metadata": {},
     "output_type": "execute_result"
    }
   ],
   "source": [
    "xtrfxcovbs['centre']\n",
    "#pd.crosstab(index=xtrfxcovbs['centre'], columns='freq')"
   ]
  },
  {
   "cell_type": "markdown",
   "id": "46cdb379",
   "metadata": {},
   "source": [
    "### PART 2\n",
    "For Questions 4–5, read the following scenarios and determine which statistical test is most appropriate. You do not need to conduct any statistical tests for Questions 4 and 5. Make sure to look up the distribution properties of the exposure and outcome along “The Stats Table”.\n",
    "\n",
    "### Question 4\n",
    "In the dataset xtrfxcovbs.sas7bdat, we obtained information on the exposure variable, current smoking status (cig_cur; yes/no), and the outcome variable, previous fractures (prevfx_any; yes/no). If we wanted to compare whether there was a difference in experiencing a previous fracture based on smoking status, which statistical test would we use? \n",
    "\n",
    "_Answer Fisher’s test OR Chi-square test (depending on the cell frequencies)_\n",
    "\n",
    "### Question 5\n",
    "\n",
    "In the dataset xtrfxcovbs.sas7bdat, we obtained information on the exposure variable, experiencing a new fracture (newosteofx; yes/no), and the outcome variable, trabecular bone thickness of the radius (r_TbTh) which is measured in millimetres. Assume the outcome variable is Normally distributed If we wanted to compare the mean trabecular bone thickness of the radius based on whether an individual experienced a new fracture, which statistical test would we use? \n",
    "\n",
    "_Answer: Independent samples (unpaired) t-test_"
   ]
  },
  {
   "cell_type": "code",
   "execution_count": 12,
   "id": "70b6104b",
   "metadata": {},
   "outputs": [],
   "source": [
    "q4 = xtrfxcovbs[[\"cig_cur\",\"prevfx_any\"]].dropna()"
   ]
  },
  {
   "cell_type": "code",
   "execution_count": 13,
   "id": "81e7aead",
   "metadata": {},
   "outputs": [
    {
     "data": {
      "text/html": [
       "<div>\n",
       "<style scoped>\n",
       "    .dataframe tbody tr th:only-of-type {\n",
       "        vertical-align: middle;\n",
       "    }\n",
       "\n",
       "    .dataframe tbody tr th {\n",
       "        vertical-align: top;\n",
       "    }\n",
       "\n",
       "    .dataframe thead th {\n",
       "        text-align: right;\n",
       "    }\n",
       "</style>\n",
       "<table border=\"1\" class=\"dataframe\">\n",
       "  <thead>\n",
       "    <tr style=\"text-align: right;\">\n",
       "      <th>prevfx_any</th>\n",
       "      <th>0.0</th>\n",
       "      <th>1.0</th>\n",
       "    </tr>\n",
       "    <tr>\n",
       "      <th>cig_cur</th>\n",
       "      <th></th>\n",
       "      <th></th>\n",
       "    </tr>\n",
       "  </thead>\n",
       "  <tbody>\n",
       "    <tr>\n",
       "      <th>0.0</th>\n",
       "      <td>746</td>\n",
       "      <td>443</td>\n",
       "    </tr>\n",
       "    <tr>\n",
       "      <th>1.0</th>\n",
       "      <td>20</td>\n",
       "      <td>21</td>\n",
       "    </tr>\n",
       "  </tbody>\n",
       "</table>\n",
       "</div>"
      ],
      "text/plain": [
       "prevfx_any  0.0  1.0\n",
       "cig_cur             \n",
       "0.0         746  443\n",
       "1.0          20   21"
      ]
     },
     "execution_count": 13,
     "metadata": {},
     "output_type": "execute_result"
    }
   ],
   "source": [
    "q4freq = pd.crosstab(q4['cig_cur'], q4['prevfx_any'])\n",
    "q4freq"
   ]
  },
  {
   "cell_type": "markdown",
   "id": "87cdd91d",
   "metadata": {},
   "source": [
    "### Question 6\n",
    "\n",
    "We hypothesize that 5% of individuals in the general population have untreated hyperthyroidism. In the dataset xtrfxcovbs.sas7bdat, we obtained information on untreated hyperthyroidism (untreat_hyperthyr_ever; yes/no). Test whether the proportion of individuals with untreated hyperthyroidism in the sample dataset significantly differs from 5% (i.e., the hypothesized value). Please report the following information in your answer: "
   ]
  },
  {
   "cell_type": "markdown",
   "id": "165fa5e9",
   "metadata": {},
   "source": [
    "__i. The statistical test used__"
   ]
  },
  {
   "cell_type": "markdown",
   "id": "9a615b0f",
   "metadata": {},
   "source": [
    "_Answer: chi-square test_"
   ]
  },
  {
   "cell_type": "code",
   "execution_count": 14,
   "id": "1c8ffa3c",
   "metadata": {
    "scrolled": true
   },
   "outputs": [],
   "source": [
    "#clean up the data\n",
    "xtrfxhyperthy = xtrfxcovbs[[\"untreat_hyperthyr_ever\"]].dropna()"
   ]
  },
  {
   "cell_type": "code",
   "execution_count": 15,
   "id": "95850262",
   "metadata": {
    "scrolled": true
   },
   "outputs": [
    {
     "data": {
      "text/html": [
       "<div>\n",
       "<style scoped>\n",
       "    .dataframe tbody tr th:only-of-type {\n",
       "        vertical-align: middle;\n",
       "    }\n",
       "\n",
       "    .dataframe tbody tr th {\n",
       "        vertical-align: top;\n",
       "    }\n",
       "\n",
       "    .dataframe thead th {\n",
       "        text-align: right;\n",
       "    }\n",
       "</style>\n",
       "<table border=\"1\" class=\"dataframe\">\n",
       "  <thead>\n",
       "    <tr style=\"text-align: right;\">\n",
       "      <th>col_0</th>\n",
       "      <th>1</th>\n",
       "    </tr>\n",
       "    <tr>\n",
       "      <th>untreat_hyperthyr_ever</th>\n",
       "      <th></th>\n",
       "    </tr>\n",
       "  </thead>\n",
       "  <tbody>\n",
       "    <tr>\n",
       "      <th>0.0</th>\n",
       "      <td>1222</td>\n",
       "    </tr>\n",
       "    <tr>\n",
       "      <th>1.0</th>\n",
       "      <td>8</td>\n",
       "    </tr>\n",
       "  </tbody>\n",
       "</table>\n",
       "</div>"
      ],
      "text/plain": [
       "col_0                      1\n",
       "untreat_hyperthyr_ever      \n",
       "0.0                     1222\n",
       "1.0                        8"
      ]
     },
     "execution_count": 15,
     "metadata": {},
     "output_type": "execute_result"
    }
   ],
   "source": [
    "# first create a frequency:\n",
    "q6 = pd.crosstab(xtrfxhyperthy['untreat_hyperthyr_ever'], 1)\n",
    "q6"
   ]
  },
  {
   "cell_type": "code",
   "execution_count": 16,
   "id": "6be2b168",
   "metadata": {},
   "outputs": [
    {
     "data": {
      "text/plain": [
       "untreat_hyperthyr_ever\n",
       "0.0    1222\n",
       "1.0       8\n",
       "Name: 1, dtype: int64"
      ]
     },
     "execution_count": 16,
     "metadata": {},
     "output_type": "execute_result"
    }
   ],
   "source": [
    "# take column 2 to generate an array that just looks like [1110, 120]\n",
    "q6[1]"
   ]
  },
  {
   "cell_type": "code",
   "execution_count": 17,
   "id": "16f73076",
   "metadata": {},
   "outputs": [
    {
     "data": {
      "text/plain": [
       "1230"
      ]
     },
     "execution_count": 17,
     "metadata": {},
     "output_type": "execute_result"
    }
   ],
   "source": [
    "# Convert proportions to absolute numbers by multiplying proportions with sample size \n",
    "ss = xtrfxhyperthy['untreat_hyperthyr_ever'].size\n",
    "\n",
    "# this is applied in: \n",
    "# f_exp=ss*np.array([0.90, 0.10])  # vector scalar multiplication\n",
    "ss"
   ]
  },
  {
   "cell_type": "code",
   "execution_count": 18,
   "id": "9179d9f6",
   "metadata": {},
   "outputs": [
    {
     "name": "stdout",
     "output_type": "stream",
     "text": [
      "Chisquare test of specified proportions: Chi2 =  48.99015832263586 ; p-value =  2.572500381754843e-12\n"
     ]
    }
   ],
   "source": [
    "q6chi2, q6chi2pval = stats.chisquare(q6[1], f_exp=ss*np.array([0.95,0.05]), axis=None)\n",
    "print(\"Chisquare test of specified proportions: Chi2 = \", q6chi2,\n",
    "\"; p-value = \", q6chi2pval)"
   ]
  },
  {
   "cell_type": "markdown",
   "id": "91e7205a",
   "metadata": {},
   "source": [
    "__ii.\tThe proportion of individuals in the dataset with untreated hyperthyroidism__"
   ]
  },
  {
   "cell_type": "code",
   "execution_count": 19,
   "id": "f4151003",
   "metadata": {},
   "outputs": [
    {
     "data": {
      "text/plain": [
       "0.6504065040650406"
      ]
     },
     "execution_count": 19,
     "metadata": {},
     "output_type": "execute_result"
    }
   ],
   "source": [
    "proportion = 8/1230*100\n",
    "proportion"
   ]
  },
  {
   "cell_type": "markdown",
   "id": "b82de90f",
   "metadata": {},
   "source": [
    "__iii. Whether the proportion of individuals in the dataset with untreated hyperthyroidism was greater or less than the hypothesized value__"
   ]
  },
  {
   "cell_type": "markdown",
   "id": "2ffbf5f6",
   "metadata": {},
   "source": [
    "_Answer: the proportion is less_"
   ]
  },
  {
   "cell_type": "markdown",
   "id": "89349708",
   "metadata": {},
   "source": [
    "__iv.\tInterpret the results and level of significance (i.e., whether the results were statistically significant or not)__"
   ]
  },
  {
   "cell_type": "markdown",
   "id": "aa1ecfd7",
   "metadata": {},
   "source": [
    "_Answer: Because the p-value = <0.0001 the proportion of the population with untreated hyperthyroidism is significantly different than the hypothesis that 5% of individuals in the general population have untreated hyperthyroidism._"
   ]
  },
  {
   "cell_type": "markdown",
   "id": "388ee8a2",
   "metadata": {},
   "source": [
    "### Question 7\n",
    "\n",
    "In the dataset xtrfxcovbs.sas7bdat, assume age is a Normally distributed outcome variable. Test whether the mean age (age, years) differs across the five different study centres (CENTRE; Centre 1, 2, 3, 4, or 5). Please report the following information in your answer:"
   ]
  },
  {
   "cell_type": "markdown",
   "id": "124668d7",
   "metadata": {},
   "source": [
    "__i.\tThe statistical test used__"
   ]
  },
  {
   "cell_type": "markdown",
   "id": "96572578",
   "metadata": {},
   "source": [
    "_Answer: One Way Anova_"
   ]
  },
  {
   "cell_type": "code",
   "execution_count": 20,
   "id": "43506dd2",
   "metadata": {
    "scrolled": false
   },
   "outputs": [
    {
     "data": {
      "text/plain": [
       "74.0    75\n",
       "79.0    74\n",
       "77.0    64\n",
       "75.0    61\n",
       "81.0    58\n",
       "63.0    51\n",
       "82.0    51\n",
       "66.0    50\n",
       "80.0    47\n",
       "65.0    46\n",
       "78.0    46\n",
       "71.0    46\n",
       "72.0    45\n",
       "68.0    44\n",
       "70.0    44\n",
       "76.0    41\n",
       "73.0    41\n",
       "64.0    41\n",
       "83.0    40\n",
       "67.0    39\n",
       "62.0    38\n",
       "69.0    37\n",
       "84.0    29\n",
       "85.0    29\n",
       "60.0    17\n",
       "86.0    14\n",
       "61.0     9\n",
       "58.0     7\n",
       "87.0     6\n",
       "59.0     6\n",
       "47.0     6\n",
       "54.0     5\n",
       "48.0     5\n",
       "56.0     4\n",
       "91.0     4\n",
       "40.0     2\n",
       "53.0     2\n",
       "50.0     2\n",
       "89.0     1\n",
       "51.0     1\n",
       "42.0     1\n",
       "52.0     1\n",
       "Name: age, dtype: int64"
      ]
     },
     "execution_count": 20,
     "metadata": {},
     "output_type": "execute_result"
    }
   ],
   "source": [
    "# Check distribution of exposure: \n",
    "xtrfxcovbs['age'].value_counts()"
   ]
  },
  {
   "cell_type": "code",
   "execution_count": 21,
   "id": "9182971e",
   "metadata": {},
   "outputs": [],
   "source": [
    "#Need to figure segment out outcome values (age) for each exposure group:\n",
    "\n",
    "# centre = 1: \n",
    "age1 = xtrfxcovbs['age'][xtrfxcovbs['centre']==1].dropna()\n",
    "# centre = 2: \n",
    "age2 = xtrfxcovbs['age'][xtrfxcovbs['centre']==2].dropna()\n",
    "# centres = 3: \n",
    "age3 = xtrfxcovbs['age'][xtrfxcovbs['centre']==3].dropna()\n",
    "# centre = 4: \n",
    "age4 = xtrfxcovbs['age'][xtrfxcovbs['centre']==4].dropna()\n",
    "# centre = 5: \n",
    "age5 = xtrfxcovbs['age'][xtrfxcovbs['centre']==5].dropna()"
   ]
  },
  {
   "cell_type": "code",
   "execution_count": 22,
   "id": "565fcf06",
   "metadata": {},
   "outputs": [
    {
     "data": {
      "text/plain": [
       "F_onewayResult(statistic=18.98996169713232, pvalue=3.648577854148935e-15)"
      ]
     },
     "execution_count": 22,
     "metadata": {},
     "output_type": "execute_result"
    }
   ],
   "source": [
    "stats.f_oneway(age1, age2, age3, age4, age5)"
   ]
  },
  {
   "cell_type": "markdown",
   "id": "cd8a22c4",
   "metadata": {},
   "source": [
    "__ii.\tThe mean age of each of the five study centres__"
   ]
  },
  {
   "cell_type": "code",
   "execution_count": 23,
   "id": "9453c37e",
   "metadata": {},
   "outputs": [],
   "source": [
    "q7mean = xtrfxcovbs[['centre','age']]"
   ]
  },
  {
   "cell_type": "code",
   "execution_count": 24,
   "id": "3c3e24d2",
   "metadata": {
    "scrolled": true
   },
   "outputs": [
    {
     "data": {
      "text/html": [
       "<div>\n",
       "<style scoped>\n",
       "    .dataframe tbody tr th:only-of-type {\n",
       "        vertical-align: middle;\n",
       "    }\n",
       "\n",
       "    .dataframe tbody tr th {\n",
       "        vertical-align: top;\n",
       "    }\n",
       "\n",
       "    .dataframe thead th {\n",
       "        text-align: right;\n",
       "    }\n",
       "</style>\n",
       "<table border=\"1\" class=\"dataframe\">\n",
       "  <thead>\n",
       "    <tr style=\"text-align: right;\">\n",
       "      <th></th>\n",
       "      <th>centre</th>\n",
       "      <th>1.0</th>\n",
       "      <th>2.0</th>\n",
       "      <th>3.0</th>\n",
       "      <th>4.0</th>\n",
       "      <th>5.0</th>\n",
       "    </tr>\n",
       "  </thead>\n",
       "  <tbody>\n",
       "    <tr>\n",
       "      <th rowspan=\"8\" valign=\"top\">age</th>\n",
       "      <th>count</th>\n",
       "      <td>352.0</td>\n",
       "      <td>200.0</td>\n",
       "      <td>161.0</td>\n",
       "      <td>292.0</td>\n",
       "      <td>225.0</td>\n",
       "    </tr>\n",
       "    <tr>\n",
       "      <th>mean</th>\n",
       "      <td>74.0</td>\n",
       "      <td>74.0</td>\n",
       "      <td>75.0</td>\n",
       "      <td>70.0</td>\n",
       "      <td>73.0</td>\n",
       "    </tr>\n",
       "    <tr>\n",
       "      <th>std</th>\n",
       "      <td>6.0</td>\n",
       "      <td>8.0</td>\n",
       "      <td>7.0</td>\n",
       "      <td>10.0</td>\n",
       "      <td>7.0</td>\n",
       "    </tr>\n",
       "    <tr>\n",
       "      <th>min</th>\n",
       "      <td>60.0</td>\n",
       "      <td>58.0</td>\n",
       "      <td>60.0</td>\n",
       "      <td>40.0</td>\n",
       "      <td>61.0</td>\n",
       "    </tr>\n",
       "    <tr>\n",
       "      <th>25%</th>\n",
       "      <td>69.0</td>\n",
       "      <td>68.0</td>\n",
       "      <td>70.0</td>\n",
       "      <td>63.0</td>\n",
       "      <td>67.0</td>\n",
       "    </tr>\n",
       "    <tr>\n",
       "      <th>50%</th>\n",
       "      <td>74.0</td>\n",
       "      <td>76.0</td>\n",
       "      <td>75.0</td>\n",
       "      <td>70.0</td>\n",
       "      <td>73.0</td>\n",
       "    </tr>\n",
       "    <tr>\n",
       "      <th>75%</th>\n",
       "      <td>79.0</td>\n",
       "      <td>80.0</td>\n",
       "      <td>80.0</td>\n",
       "      <td>77.0</td>\n",
       "      <td>79.0</td>\n",
       "    </tr>\n",
       "    <tr>\n",
       "      <th>max</th>\n",
       "      <td>86.0</td>\n",
       "      <td>89.0</td>\n",
       "      <td>87.0</td>\n",
       "      <td>91.0</td>\n",
       "      <td>85.0</td>\n",
       "    </tr>\n",
       "  </tbody>\n",
       "</table>\n",
       "</div>"
      ],
      "text/plain": [
       "centre       1.0    2.0    3.0    4.0    5.0\n",
       "age count  352.0  200.0  161.0  292.0  225.0\n",
       "    mean    74.0   74.0   75.0   70.0   73.0\n",
       "    std      6.0    8.0    7.0   10.0    7.0\n",
       "    min     60.0   58.0   60.0   40.0   61.0\n",
       "    25%     69.0   68.0   70.0   63.0   67.0\n",
       "    50%     74.0   76.0   75.0   70.0   73.0\n",
       "    75%     79.0   80.0   80.0   77.0   79.0\n",
       "    max     86.0   89.0   87.0   91.0   85.0"
      ]
     },
     "execution_count": 24,
     "metadata": {},
     "output_type": "execute_result"
    }
   ],
   "source": [
    "q7mean.groupby('centre').describe().round(0).T"
   ]
  },
  {
   "cell_type": "markdown",
   "id": "c6887961",
   "metadata": {},
   "source": [
    "__iii.\tInterpret the results and level of significance (i.e., whether the results were statistically significant or not)__"
   ]
  },
  {
   "cell_type": "markdown",
   "id": "47015a30",
   "metadata": {},
   "source": [
    "_Answer: Because the p-value is <0.001 the age differes significantly across the different centres_"
   ]
  },
  {
   "cell_type": "markdown",
   "id": "30634f85",
   "metadata": {},
   "source": [
    "### Question 8\n",
    "\n",
    "In the dataset xtrfxcovbs.sas7bdat, assume weight is a non-Normally distributed outcome variable. Test whether the mean weight (weight, kilograms) differs across the five different study centres (CENTRE; Centre 1, 2, 3, 4, or 5). Please report the following information in your answer:  "
   ]
  },
  {
   "cell_type": "markdown",
   "id": "c7836da3",
   "metadata": {},
   "source": [
    "__i.\tThe statistical test used__"
   ]
  },
  {
   "cell_type": "markdown",
   "id": "fc9132cd",
   "metadata": {},
   "source": [
    "_Answer: Kruskal Wallis test_"
   ]
  },
  {
   "cell_type": "code",
   "execution_count": 27,
   "id": "6ab10cec",
   "metadata": {},
   "outputs": [],
   "source": [
    "weight1 = xtrfxcovbs['weight'][xtrfxcovbs['centre']==1].dropna()\n",
    "weight2 = xtrfxcovbs['weight'][xtrfxcovbs['centre']==2].dropna()\n",
    "weight3 = xtrfxcovbs['weight'][xtrfxcovbs['centre']==3].dropna()\n",
    "weight4 = xtrfxcovbs['weight'][xtrfxcovbs['centre']==4].dropna()\n",
    "weight5 = xtrfxcovbs['weight'][xtrfxcovbs['centre']==5].dropna()"
   ]
  },
  {
   "cell_type": "code",
   "execution_count": 28,
   "id": "e82a0444",
   "metadata": {},
   "outputs": [
    {
     "data": {
      "text/plain": [
       "KruskalResult(statistic=14.57073544277422, pvalue=0.005679587412680891)"
      ]
     },
     "execution_count": 28,
     "metadata": {},
     "output_type": "execute_result"
    }
   ],
   "source": [
    "q8 = stats.kruskal(weight1, weight2, weight3, weight4, weight5)\n",
    "q8"
   ]
  },
  {
   "cell_type": "markdown",
   "id": "81e320a9",
   "metadata": {},
   "source": [
    "__ii.\tInterpret the results and level of significance (i.e., whether the results were statistically significant or not)__"
   ]
  },
  {
   "cell_type": "markdown",
   "id": "871182fb",
   "metadata": {},
   "source": [
    "_Answer: Because the p-Value is < 0.05 the difference is statistically significant_"
   ]
  },
  {
   "cell_type": "markdown",
   "id": "8890ccd1",
   "metadata": {},
   "source": [
    "### Question 9\n",
    "\n",
    "In the dataset xtrfxcovbs.sas7bdat, there are trabecular bone microarchitectural measures for both the radius and tibia obtained from the same individuals. For example, each individual in the dataset has a measure of trabecular bone separation for their radius (r_TbSp, millimetres) and tibia (t_TbSp, millimetres). Assume both variables are Normally distributed and dependent. Compare whether the mean trabecular bone separation of the radius differs from the mean trabecular bone separation of the tibia. Please report the following information in your answer: "
   ]
  },
  {
   "cell_type": "markdown",
   "id": "ac3c5e11",
   "metadata": {},
   "source": [
    "__i.\tThe statistical test used__"
   ]
  },
  {
   "cell_type": "markdown",
   "id": "5334e141",
   "metadata": {},
   "source": [
    "_Answer: paired t-test_"
   ]
  },
  {
   "cell_type": "code",
   "execution_count": 29,
   "id": "0f9e4ce5",
   "metadata": {},
   "outputs": [],
   "source": [
    "#clean up the data\n",
    "q9 = xtrfxcovbs[[\"r_tbsp\",\"t_tbsp\"]].dropna()"
   ]
  },
  {
   "cell_type": "code",
   "execution_count": 30,
   "id": "a6f17cf6",
   "metadata": {},
   "outputs": [
    {
     "data": {
      "text/plain": [
       "Ttest_relResult(statistic=2.8585123206965517, pvalue=0.004331416508262454)"
      ]
     },
     "execution_count": 30,
     "metadata": {},
     "output_type": "execute_result"
    }
   ],
   "source": [
    "q9ttest = stats.ttest_rel(q9['r_tbsp'], q9['t_tbsp'], nan_policy='propagate', alternative='two-sided')\n",
    "q9ttest"
   ]
  },
  {
   "cell_type": "markdown",
   "id": "68d636ea",
   "metadata": {},
   "source": [
    "__ii.\tInterpret the results and level of significance (i.e., whether the results were statistically significant or not)__ "
   ]
  },
  {
   "cell_type": "markdown",
   "id": "b01dc959",
   "metadata": {},
   "source": [
    "_Answer: The two are statistically significantly different_"
   ]
  },
  {
   "cell_type": "markdown",
   "id": "da9ee4c0",
   "metadata": {},
   "source": [
    "### Question 10\n",
    "\n",
    "In the dataset xtrfxcovbs.sas7bdat, we obtained information on the exposure variable, experiencing a new fracture (newosteofx; yes/no) and the outcome variable, use of oral corticosteroids (cortico_oral_reg; yes/no). Compare whether there is a difference in use of oral corticosteroids based on experiencing a new fracture. Hint: Remember to check the cell frequencies. Please report the following information in your answer: "
   ]
  },
  {
   "cell_type": "markdown",
   "id": "4abe9556",
   "metadata": {},
   "source": [
    "__i.\tThe statistical test used__"
   ]
  },
  {
   "cell_type": "markdown",
   "id": "b9b403e5",
   "metadata": {},
   "source": [
    "_Answer: Fisher's Exact test_"
   ]
  },
  {
   "cell_type": "code",
   "execution_count": 27,
   "id": "976b3684",
   "metadata": {},
   "outputs": [],
   "source": [
    "q10 = xtrfxcovbs[[\"cortico_oral_reg\",\"newosteofx\"]].dropna()"
   ]
  },
  {
   "cell_type": "code",
   "execution_count": 28,
   "id": "42c68711",
   "metadata": {},
   "outputs": [
    {
     "data": {
      "text/html": [
       "<div>\n",
       "<style scoped>\n",
       "    .dataframe tbody tr th:only-of-type {\n",
       "        vertical-align: middle;\n",
       "    }\n",
       "\n",
       "    .dataframe tbody tr th {\n",
       "        vertical-align: top;\n",
       "    }\n",
       "\n",
       "    .dataframe thead th {\n",
       "        text-align: right;\n",
       "    }\n",
       "</style>\n",
       "<table border=\"1\" class=\"dataframe\">\n",
       "  <thead>\n",
       "    <tr style=\"text-align: right;\">\n",
       "      <th>newosteofx</th>\n",
       "      <th>0.0</th>\n",
       "      <th>1.0</th>\n",
       "    </tr>\n",
       "    <tr>\n",
       "      <th>cortico_oral_reg</th>\n",
       "      <th></th>\n",
       "      <th></th>\n",
       "    </tr>\n",
       "  </thead>\n",
       "  <tbody>\n",
       "    <tr>\n",
       "      <th>0.0</th>\n",
       "      <td>1051</td>\n",
       "      <td>116</td>\n",
       "    </tr>\n",
       "    <tr>\n",
       "      <th>1.0</th>\n",
       "      <td>59</td>\n",
       "      <td>4</td>\n",
       "    </tr>\n",
       "  </tbody>\n",
       "</table>\n",
       "</div>"
      ],
      "text/plain": [
       "newosteofx         0.0  1.0\n",
       "cortico_oral_reg           \n",
       "0.0               1051  116\n",
       "1.0                 59    4"
      ]
     },
     "execution_count": 28,
     "metadata": {},
     "output_type": "execute_result"
    }
   ],
   "source": [
    "q10freq = pd.crosstab(q10['cortico_oral_reg'], q10['newosteofx'])\n",
    "q10freq"
   ]
  },
  {
   "cell_type": "code",
   "execution_count": 29,
   "id": "f775f9c1",
   "metadata": {},
   "outputs": [
    {
     "name": "stdout",
     "output_type": "stream",
     "text": [
      "Fisher exact test p-vaue =  0.5111053024080378 ; with odds ratio =  0.614260666277031 for a two-sided test.\n"
     ]
    }
   ],
   "source": [
    "oddsr, p = stats.fisher_exact(q10freq, alternative='two-sided')\n",
    "print(\"Fisher exact test p-vaue = \", p,\n",
    "\"; with odds ratio = \", oddsr, \"for a two-sided test.\")"
   ]
  },
  {
   "cell_type": "markdown",
   "id": "47d416ea",
   "metadata": {},
   "source": [
    "__ii.\tInterpret the results and level of significance (i.e., whether the results were statistically significant or not)__"
   ]
  },
  {
   "cell_type": "markdown",
   "id": "c7abce69",
   "metadata": {},
   "source": [
    "_Answer: The use of oral corticosteroids does not affect new fractures. (You are not more or less likely to have a new fracture if you are on oral corticosteroids._"
   ]
  },
  {
   "cell_type": "code",
   "execution_count": null,
   "id": "9277b181",
   "metadata": {},
   "outputs": [],
   "source": []
  }
 ],
 "metadata": {
  "kernelspec": {
   "display_name": "Python 3",
   "language": "python",
   "name": "python3"
  },
  "language_info": {
   "codemirror_mode": {
    "name": "ipython",
    "version": 3
   },
   "file_extension": ".py",
   "mimetype": "text/x-python",
   "name": "python",
   "nbconvert_exporter": "python",
   "pygments_lexer": "ipython3",
   "version": "3.8.8"
  }
 },
 "nbformat": 4,
 "nbformat_minor": 5
}
